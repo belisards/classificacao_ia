{
 "cells": [
  {
   "cell_type": "markdown",
   "id": "be016aa5",
   "metadata": {},
   "source": [
    "# Consultando uma LLM"
   ]
  },
  {
   "cell_type": "code",
   "execution_count": 1,
   "id": "428e4a37",
   "metadata": {},
   "outputs": [
    {
     "name": "stdout",
     "output_type": "stream",
     "text": [
      "Esportes\n"
     ]
    }
   ],
   "source": [
    "import llm, os, dotenv\n",
    "\n",
    "dotenv.load_dotenv()\n",
    "\n",
    "mistral_token = os.getenv(\"MISTRAL\")\n",
    "# mistral_token = <INSIRA SUA CHAVE AQUI>\n",
    "\n",
    "modelo = llm.get_model(\"mistral-medium\")\n",
    "\n",
    "resposta = modelo.prompt(\n",
    "    \"\"\"\n",
    "    Classifique o texto abaixo. Responda apenas com a classe, sem explicações.\n",
    "\n",
    "    Texto: O Botafogo ganhou do PSG no Mundial.\n",
    "\n",
    "    Classes: Política, Esportes, Economia, Outros.\n",
    "    \"\"\",\n",
    "    key=mistral_token\n",
    ")\n",
    "\n",
    "print(resposta)"
   ]
  },
  {
   "cell_type": "markdown",
   "id": "ee682f2f",
   "metadata": {},
   "source": [
    "# Classificando um dataset"
   ]
  },
  {
   "cell_type": "code",
   "execution_count": 2,
   "id": "068688c0",
   "metadata": {},
   "outputs": [
    {
     "name": "stderr",
     "output_type": "stream",
     "text": [
      "/home/abitporu/Documents/abraji/.venv/lib/python3.10/site-packages/tqdm/auto.py:21: TqdmWarning: IProgress not found. Please update jupyter and ipywidgets. See https://ipywidgets.readthedocs.io/en/stable/user_install.html\n",
      "  from .autonotebook import tqdm as notebook_tqdm\n"
     ]
    }
   ],
   "source": [
    "from datasets import load_dataset\n",
    "\n",
    "dataset = load_dataset(\"celsowm/bbc_news_ptbr\")"
   ]
  },
  {
   "cell_type": "code",
   "execution_count": 3,
   "id": "d7c5705f",
   "metadata": {},
   "outputs": [
    {
     "data": {
      "application/vnd.microsoft.datawrangler.viewer.v0+json": {
       "columns": [
        {
         "name": "index",
         "rawType": "int64",
         "type": "integer"
        },
        {
         "name": "categoria",
         "rawType": "object",
         "type": "string"
        },
        {
         "name": "titulo",
         "rawType": "object",
         "type": "string"
        },
        {
         "name": "texto",
         "rawType": "object",
         "type": "string"
        },
        {
         "name": "data",
         "rawType": "object",
         "type": "string"
        },
        {
         "name": "link",
         "rawType": "object",
         "type": "string"
        }
       ],
       "ref": "63ae23a1-00b4-4d0f-a387-db838526d517",
       "rows": [
        [
         "0",
         "brasil",
         "Quem foi Oswaldo Aranha, o brasileiro que ajudou a criar o Estado de Israel",
         "“Sua atuação no cenário internacional estava dentro da questão do excedente de poder, um conceito de política externa que trata das coisas que criam condições para que você crie outras”, diz à BBC News Brasil o cientista político Leonardo Bandarra, pesquisador na Universidade de Duisburg-Essen (Alemanha) e associado sênior na organização desarmamentista Middle East Treaty.  “A participação do Brasil [na criação do Estado de Israel] foi importante para o país mostrar capacidade de gerir assuntos complexos de paz que não são de sua região. Até hoje nos dá prestígio no cenário internacional”, acrescenta.  Fim do Matérias recomendadas “Ao lado de Ruy Barbosa [(1849-1923)], Barão do Rio Branco [(1845-1912)] e Bertha Lutz [(1894-1976)], é um dos nomes mais importantes da diplomacia brasileira. Simboliza um Brasil que se lançava para o mundo”, afirma à BBC News Brasil o economista Robert Georg Uebel, professor de relações internacionais da Escola Superior de Propaganda e Marketing (ESPM).  Podcast traz áudios com reportagens selecionadas. Episódios Fim do Podcast Sua biografia indica uma facilidade inata para intermediar conflitos e buscar soluções.  “Ele tinha uma aptidão muito grande para questões internacionais desde cedo”, diz à reportagem o cientista político Christopher Mendonça, professor na Ibmec de Belo Horizonte. “Aranha nasceu no lugar onde é praticamente fronteira do Brasil com Argentina e Uruguai [o município de Alegrete] e jovem esteve em países como França, Itália e Suíça. Esse conhecimento internacional fez dele uma pessoa de destaque nesse assunto.” Graduado pela Faculdade de Ciências Jurídicas e Sociais, hoje Faculdade Nacional de Direito da Universidade Federal do Rio de Janeiro (UFRJ), logo em seguida passou uma temporada de estudos em Paris. Só então se viu talhado para começar a carreira, como advogado, no Rio Grande do Sul. Logo sua trajetória se misturaria com a política. Em 1923, tinha 29 anos quando explodiu a luta entre chimangos e maragatos — e ele chegou a pegar em armas para lutar a favor do sistema republicano em seu estado. Dois anos mais tarde tornou-se prefeito de sua cidade natal — e lembrado até hoje como o introdutor do sistema de esgoto no município.  Nesse período, o diplomata dentro dele pareceu saltar aos olhos. Os resquícios do conflito de dois anos atrás ainda ecoavam em sua Alegrete, fazendo com que famílias distintas se vissem como rivais. Ele conseguiu selar a paz.  Aranha parecia galgar uma ascensão meteórica. Em 1927, foi eleito deputado federal. No ano seguinte, foi nomeado secretário de Negócios Interiores e Exteriores do Rio Grande do Sul.  Pouco tempo depois, ele era um dos principais articuladores da chamada Aliança Liberal, campanha que organizou o golpe armado que deporia o presidente Washington Luís (1869-1957), fazendo a Revolução de 30 que acabaria levando o seu conterrâneo gaúcho Getúlio Vargas à presidência da República pela primeira vez. Foi nessa época que a amizade de ambos se tornou forte.  “Ele passou a fazer parte do gabinete governativo de Vargas”, pontua Mendonça. Foi ministro da Justiça e, depois, da Fazenda. Seu olhar estava sempre mirando o exterior — tanto que em sua gestão no comando das finanças públicas promoveu um levantamento que, pela primeira vez, consolidou o montante da dívida externa brasileira. Mendonça lembra que era um momento delicado para as contas, já que o planeta vivia o rescaldo da intensa crise de 1929, quando houve a quebra da bolsa de valores de Nova York e uma reação em cadeia pelos mercados mundo afora.  A amizade com Vargas, contudo, não fazia dele um apoiador inconteste. Em 1934, após uma série de desentendimentos, ele pediu demissão do cargo. Foi quando acabou nomeado embaixador brasileiro em Washington. “Ele foi colocado nessa posição por sua grande capacidade em assuntos internacionais e habilidade de mediação política”, ressalta Mendonça. “Aranha era um admirador dos Estados Unidos, de como uma ex-colônia se tornava uma democracia pujante. Ao mesmo tempo, ele era antifascista e pró-democracia e isso é uma característica na qual ele foi muito coerente ao longo de sua carreira”, diz Bandarra. Durante sua gestão, ele costurou alguns tratados importantes. Em 1935, por exemplo, Brasil e Estados Unidos firmaram um compromisso comercial mútuo que é considerado basilar para a aproximação histórica entre as duas nações.  Ele também se aproximou do presidente Roosevelt, de quem se tornou amigo, e formou uma comitiva que o trouxe para visitar o Rio de Janeiro, em 1936.  “Os Estados Unidos ainda não eram um país de referência, uma potência global, mas Oswaldo Aranha teve o feeling, a capacidade de ver neles uma grande capacidade do ponto de vista econômico e militar”, analisa o cientista político.  No ano seguinte, houve nova rusga com Vargas. “Foi quando o presidente redigiu o decreto do Estado Novo. Aranha criticou”, lembra Mendonça. O episódio precipitou sua demissão do posto em Washington. “Ele tinha uma relação próxima com Vargas, mas era uma relação crítica, com momentos de proximidade e momentos de separação, de corte de relações formais com o governo”, explica Bandarra. “Isso só reforça que ele falava o que pensava, o que acreditava.” Em 1938, ambos se aproximaram mais uma vez. Oswaldo Aranha acabou nomeado ministro das Relações Exteriores. E aí seu papel se tornou crucial para os rumos adotados pelo país durante a Segunda Guerra Mundial, conflito que ocorreu entre 1939 e 1945.  O primeiro ponto elementar de sua gestão à frente do Itamaraty foi reforçar os laços brasileiros dentro das relações americanas.  “Ele lutou pela aproximação comercial com a Argentina e os Estados Unidos e, vale dizer, os dois são até hoje parceiros muito importantes para o Brasil. Nesse sentido, Aranha foi responsável pelo padrão da política externa brasileira ainda vigente”, argumenta Mendonça.  Com a guerra, havia uma pressão para o posicionamento brasileiro dentro do conflito.  Em 1942, na Conferência do Rio que foi presidida por ele, Aranha declarou o rompimento das relações diplomáticas e comerciais do Brasil com os países do Eixo. “Esse foi o passo fundamental para a aproximação do Brasil com os países que posteriormente venceram a Segunda Guerra”, analisa Mendonça. “Havia no país um flerte com o autoritarismo, inclusive com o nazismo. Nesse sentido, ele teve o mérito de fazer com que o país se mantivesse dentro dos preceitos da democracia, da liberdade.” O cientista político Bandarra afirma que, no governo Vargas, Aranha se contrapunha a dois outros nomes sobre o posicionamento brasileiro na guerra: o então chefe da polícia política Filinto Müller (1900-1973) e Enrique Gaspar Dutra (1883-1974), que ocupava o posto de ministro da Guerra.  “Estes eram favoráveis a uma relação próxima com os países do Eixo. Aranha teve uma atuação forte nos bastidores para que o Brasil ficasse ao lado dos Aliados”, diz.  No princípio, o diplomata advogou pela chamada equidistância, em que o país deveria assumir uma pretensa neutralidade no conflito, tentando se beneficiar de ambos os lados. “Seria um equilíbrio pragmático, uma neutralidade positiva”, afirma Bandarra.  “Em seguida, ele puxou para o caminho mais próximo com o lado americano, pela questão do panamericanismo, da democracia e tudo isso”, complementa. “Ele foi uma pessoa que pensou à frente na questão da posição do país no cenário internacional.” “Era um momento muito conturbado da política internacional e, ao mesmo tempo, um momento em que o Brasil estava se lançando ao mundo, se mostrando para o mundo”, comenta Uebel. “Oswaldo Aranha teve um papel fundamental nisso, reafirmando a imagem do Brasil como um país antifascista e antinazista, um país alinhado aos valores ocidentais.” Em 1944, novamente enfraquecido no governo, decidiu pedir demissão do cargo de ministro. Havia um rumor de que ele seria um nome forte para disputar as eleições para a presidência em 1945, mas não houve base política suficiente para bancá-lo na corrida. Quando a Organização das Nações Unidas foi criada, ele logo assumiu o cargo de chefe da delegação brasileira, a partir de 1947. Foi aí que ocorreu seu papel-chave na criação do Estado de Israel. “Ele já estava fora da agenda política e foi recolocado no cenário pelo presidente Dutra [que sucedeu Vargas]. Pode parecer inesperado, porque eles tinham uma relação anterior problemática, mas, durante seu governo, ele se tornou um pró-americanista incisivo na política externa, então fazia sentido chamar de volta o Aranha”, analisa Bandarra.  Aranha se tornou o presidente da II Assembleia Geral da ONU, justamente aquela que votou o plano para a partição da Palestina. A resolução estava longe de ser um consenso, e mesmo entre aqueles que defendiam a criação de um novo Estado não havia posição unânime sobre as formas de dividir o território.  “Ele tinha uma boa aproximação com os judeus que viviam nos Estados Unidos e isso influenciou em sua postura”, afirma Mendonça. “Sua motivação não era apenas política, mas também pessoal.” “Mas a criação do Estado não foi consensual. Havia interesses difusos durante o processo de negociação, o que causou muitas intercorrências. O papel de mediador de Aranha, hábil, foi fundamental para a negociação”, complementa o cientista político.  “Eu diria que ele foi muito bem-sucedido ao manobrar os interesses das partes”, afirma Bandarra.  Utilizando a história do Brasil como exemplo, o diplomata soube conduzir as discussões dentro daquilo que, ao menos sob o prisma da época, parecia ser o mais adequado.  “Aranha negociou bastante, inclusive acionando contatos nos governos, principalmente nos Estados Unidos. E buscou formas alternativas de como chegar ao resultado, de como deveria ser feita a partilha do território”, explica Bandarra. O pesquisador afirma que eram muitas as propostas e, para defender a solução que acabaria adotada naquele momento, Aranha usou como exemplo a história da definição das fronteiras do Brasil. “No final, foi o critério que se usou: quem está ocupando deve ter a terra”, diz.  Se por um lado, naquele momento parece ter funcionado — e o processo ocorreu com rapidez — por outro ele traria problemas, segundo o especialista.  “A Palestina ficou com duas partes desconectadas, foram criados dois exclaves, digamos, e isso dificulta bastante até hoje a viabilidade do Estado Palestino. É uma coisa que não ficou solucionada”, diz Bandarra. Mas, conforme ressalta o pesquisador, é inegável que Aranha “manobrou de diversas formas para que, no final, conseguisse uma boa votação e a consequente aprovação da resolução” que dividiu a Palestina e criou Israel.  “Foi uma posição bem feita, embora poderia ter levado outros fatores em consideração para evitar futuros problemas”, critica ele.  “É preciso lembrar, entretanto, que foi uma solução relativamente rápida e isso é uma coisa importante. Mostra eficiência na negociação e vontade de resolução.” Para Uebel, é preciso lembrar que Aranha “é reconhecido até hoje pelo papel de destaque” nesses primeiros anos da ONU e isso está atrelado ao seu trabalho pela aprovação da criação do Estado de Israel.  “Ele construiu todo o diálogo político necessário”, comenta. “Havia também a preocupação humanista de Aranha em busca de uma solução para um povo que havia sido tão perseguido, que havia acabado de sofrer o Holocausto na Segunda Guerra.” Houve ganhos simbólicos também para a política externa brasileira. “Isso demonstra também que Aranha já pensava na época em colocar o Brasil na agenda internacional”, acrescenta.  Um dos motivos que faz com que o país historicamente abra as assembleias gerais da ONU é justamente em homenagem ao trabalho de Aranha no período.  “De forma geral, a trajetória de Oswaldo Aranha mostra que ele viveu momentos de grande necessidade da atuação forte da diplomacia brasileira. Foi ministro da Fazenda em um momento crucial, pós-Crise de 1929, conduziu o Brasil no mercado internacional de maneira importante através de assinaturas com Estados Unidos e Argentina, foi referência na entrada do Brasil na Segunda Guerra Mundial e, posteriormente, nos primeiros passos da ONU”, diz Mendonça. “É um nome inescapável dentro da história diplomática.” Além dos logradouros públicos com seu nome, uma das mais curiosas homenagens que acabaram por eternizar a memória do diplomata é um prato, o filé à Oswaldo Aranha.  Trata-se de um bife de filé mignon ou contra-filé, fartamente temperado com alho frito, acompanhado de batatas, arroz e farofa de ovos.  O apelido pegou porque essa era a receita que ele costumava pedir no restaurante Cosmopolita, chamado popularmente de Senadinho, que ele costumava frequentar na Lapa, no Rio.",
         "2023-11-04",
         "https://www.bbc.com/portuguese/articles/c0wxwr76er1o"
        ],
        [
         "1",
         "brasil",
         "Como PCC fez Paraguai virar um dos países com maior presença de crime organizado no mundo",
         "No ranking de 2023, a nação saltou para a 4ª posição entre os 193 membros da ONU incluídos no estudo, atrás apenas de Colômbia, México e Mianmar, o atual líder. A pontuação do Paraguai é agora de 7,52. A classificação é obtida por meio da média de notas atribuídas em diferentes categorias. A BBC Mundo, serviço em espanhol da BBC, entrou em contato com diversos órgãos públicos e ministérios do Paraguai, assim como com o gabinete da Presidência de Santagio Peña, para analisar este resultado, mas não obteve respostas. Fim do Matérias recomendadas A operação contra o narcotráfico e a lavagem de dinheiro chamada \"A Ultranza PY\", a maior da história do país, realizada em 2019, deixou claro que as coisas mudaram nos últimos anos na nação sul-americana. Esta operação levou à destituição de ministros e à prisão de 24 pessoas por supostos vínculos com organizações de narcotraficantes. Para Carolina Sampó, doutora e pesquisadora do Conselho Nacional de Pesquisas Científicas e Técnicas (Conicet), os criminosos no Paraguai se aproveitaram durante anos da “falta de reputação do país como exportador de drogas para reenviar cocaína sem serem detectados e dirigi-la a portos de saída não tradicionais e rotas contraintuitivas como aquelas que se iniciam no porto de Buenos Aires, de San Antonio, ou de Montevidéu”. Podcast traz áudios com reportagens selecionadas. Episódios Fim do Podcast Pecci investigava casos de corrupção e lavagem de dinheiro de alto perfil quando foi assassinado em sua lua de mel na Colômbia. “Todos os mercados e atores criminosos que se encontram nas Américas estão presentes em vários países. Esses mercados criminosos interconectados e transnacionais aproveitam situações de liderança e governança deficitárias”, afirmam os autores do Índice Global de Crime Organizado. “Os pontos de 2023 mostram que a região das Américas continua dominando o comércio mundial de cocaína como principal mercado de origem da droga”, acrescentam. O Brasil está na posição 22 no ranking de 193 países e é o sétimo com maior criminalidade organizada das Américas, segundo a lista. Para começar, especialistas apontam que o país está situado no coração da América Latina, fazendo fronteira com mercados enormes como Brasil, Argentina e Bolívia. Só isso já torna o Paraguai geograficamente atraente. Além disso, pelo menos outros 8 fatores ajudam a explicar como o país sul-americano se transformou em um centro criminoso internacional: A maior vigilância nos portos da Argentina e do Brasil fez com que o Paraguai se tornasse um centro internacional de distribuição de cocaína andina graças à sua proximidade geográfica com dois dos principais produtores desta droga, Peru e Bolívia. “Isso é algo novo. A cocaína que vem do Peru, da Colômbia ou do Equador chega ao Paraguai em pequenos aviões e é transportada até os portos de Buenos Aires e Montevidéu, que ficam no Atlântico, ou passa pelos portos do próprio país. A partir daqui, a cocaína começa a ser enviada para países da Europa, da África ou mesmo do Oriente Médio”, afirma Juan A. Martens, pesquisador da Universidade Nacional de Pilar e do Inecip (Instituto de Estudos Comparados em Ciências Penais e Sociais) do Paraguai. “Os movimentos aéreos são movimentos curtos, o que os torna muito fáceis. Em muitos casos nem é necessário que os pequenos aviões pousem, eles só jogam a cocaína do ar em um campo e voltam”, diz Sampó. Nesta chegada aos portos atlânticos, desempenha um papel fundamental um dos maiores sistemas navegáveis ​​do mundo, no qual, mais uma vez, o Paraguai está geograficamente localizado no centro. É a hidrovia Paraná-Paraguai. Com extensão de 3.442 quilômetros, atravessa ou tem ramificações na Argentina, Bolívia, Brasil, Paraguai e Uruguai. “O Brasil é um mercado de 200 milhões de pessoas. Por água, apenas uma hora nos separa do maior estado brasileiro. De Saltos del Guaira, no norte do Paraguai, é uma hora de barco até o estado de São Paulo, que tem 45 milhões de habitantes.” “É muito fácil traficar por essa via”, diz o pesquisador paraguaio. O Paraguai cultiva cerca de 7 mil hectares de maconha por ano. “Sempre foi um espaço territorial complexo no que diz respeito à criminalidade. A primeira questão é a quantidade e a qualidade da produção de maconha na região de Pedro Juan Caballero e como essa produção de maconha deu origem a graves conflitos entre diferentes organizações criminosas brasileiras e clãs locais”, diz Sampó. “Os níveis de consumo de maconha no Brasil são muito elevados e a qualidade da maconha de Pedro Juan é a mais alta da região. Ao unir produtores a clientes, o negócio vale milhões no Brasil”, afirma a pesquisadora argentina. É pela necessidade de controlar a circulação dessa droga que ocorre a expansão do tráfico de drogas. O Paraguai passou de primeiro produtor de maconha da América do Sul a um dos principais distribuidores de cocaína, apesar de não produzi-la.  “A presença do cartel se estende por todo o Paraguai. A expansão do PCC para países vizinhos e suas conexões com redes internacionais sublinham a crescente influência do grupo na América do Sul”, afirmam os autores do Índice Global de Crime Organizado. Sampó explica que o PCC escolhe o Paraguai para sua expansão devido à proximidade com os centros de distribuição de maconha e cocaína.  “Sua chegada tem a ver com um primeiro desembarque para controlar a maconha e depois se expande para diversos espaços do Paraguai, rurais e urbanos, onde recriam suas rígidas estruturas de organização criminosa”. A partir daí, a organização expande seus negócios e começa a transportar cocaína do Peru e da Bolívia para o Paraguai e de lá para o porto de Santos. O porto de Santos é o principal porto do Brasil e da América Latina. Posteriormente, viria a expansão de outras rotas, principalmente aquelas que têm a ver com o uso da hidrovia e a saída pelos portos de Buenos Aires e Montevidéu. “O cartel nasce nas prisões. É uma organização criminosa enorme e muito complexa. Para ingressar, é preciso ser batizado, é preciso passar por um processo de admissão”, afirma a pesquisadora. “O que começamos a ver entre 2018 e 2019 é que começam a haver batismos dentro das prisões paraguaias de paraguaios, não de brasileiros. Dos paraguaios que começam a pertencer ao PCC. E assim a organização amplia sua base dentro do território paraguaio”, afirma. Diferentes organizações internacionais afirmam que o Paraguai tem um problema de corrupção generalizado, que afeta todos os níveis de governo e da sociedade, tanto na esfera pública como na privada. “As pontuações do Paraguai, Venezuela e Nicarágua sugerem que os criminosos têm um nível preocupante de influência na sociedade e nas estruturas estatais”, diz o relatório produzido junto do índice. A chegada da cocaína do Paraguai aos portos da Bélgica, Holanda e Alemanha atraiu a atenção da Europol, da DEA (Administração de Fiscalização de Drogas, dos EUA) e de outras agências internacionais, o que tornou visível o vínculo institucional que existe entre o crime organizado e o poder público. Martens lembra os casos do ex-deputado Juan Carlos Ozorio, acusado de lavagem de dinheiro, tráfico de drogas e associação criminosa, ou do senador Erico Galeano, que atualmente é processado por lavagem de dinheiro e associação criminosa. “Há uma impunidade sistemática”, diz ele. Sampó concorda com isso: “As condições de fragilidade do Estado, a fragilidade institucional, os altos níveis de corrupção, os altos níveis de impunidade, viabilizam que o PCC desembarque como organização criminosa, se estabeleça e combine com os clãs locais a distribuição do negócio.” Estima-se que entre Argentina e Paraguai existam mais ou menos 200 travessias ilícitas. Em algumas partes, a distância entre os dois países é tão curta que, com uma lancha rápida, a fronteira pode ser atravessada em dois minutos. Mas outro dos fatores que torna a fronteira paraguaia porosa é a falta de recursos para controlar o espaço aéreo do país. “Até o momento, o Paraguai não possui radar para monitorar o céu. É claramente uma decisão política e um convite aos grupos criminosos transnacionais. Tornou este território um ímã de atração para grupos do México, da Europa Oriental ou da máfia italiana”, diz Martens. O Paraguai possui uma legislação muito favorável à compra e venda de armas e os requisitos para adquiri-las não são muito complicados. “Setenta e três grupos criminosos atuam no Brasil e as armas que esses grupos geralmente utilizam passam pelo Paraguai. Especificamente, são destinados às favelas do Rio. Estamos falando deles chegando ao Rio de Janeiro, ao Espírito Santo, a Minas Gerais e ao Nordeste brasileiro”, diz Martens. E não só armas de pequeno e médio calibre, mas também munições são distribuídas do Paraguai. “As armas abastecem organizações criminosas brasileiras como o PCC ou o Comando Vermelho”, diz Sampó. As rotas da droga são utilizadas para o tráfico de armas, mas também para o contrabando de cigarros e produtos falsificados. “O Paraguai é um centro importante para o comércio ilícito de tabaco, tanto a nível nacional como regional. A área da tríplice fronteira entre Paraguai, Brasil e Argentina é um corredor movimentado para o tráfico de tabaco, que financia outras atividades criminosas. O Paraguai ocupava a posição mais elevada da América neste mercado ilícito”, diz o relatório. “Os cigarros paraguaios inundam grande parte dos países vizinhos, impactando diretamente nas receitas dos Estados. E uma das características básicas das organizações criminosas é estarem envolvidas em tudo ao mesmo tempo. Muitas vezes até são utilizadas as mesmas rotas”, diz Sampó. E de mãos dadas com o contrabando também vem o comércio de produtos falsificados, que é outro mercado criminoso nas Américas. A pontuação média da América do Sul de 6,25 coloca a região em segundo lugar globalmente no ranking de crime organizado. O Peru e o Paraguai têm as pontuações individuais mais altas da região e ambos os países são avaliados como importantes focos de produtos falsificados. Ciudad del Este, no Paraguai, é um importante centro de produtos falsificados, incluindo roupas, calçados, relógios, eletrodomésticos e perfumes. “Grupos criminosos no Paraguai se destacam por facilitar esse comércio ilícito”, acrescenta o documento.",
         "2023-11-04",
         "https://www.bbc.com/portuguese/articles/cp646zz6z46o"
        ],
        [
         "2",
         "brasil",
         "Vídeo, Massa ou Milei: o que Brasil tem a ganhar ou perder nas eleições argentinasDuration, 7,42",
         "O segundo turno das eleições presidenciais na Argentina será no dia 19 de novembro e vai opor dois candidatos considerados totalmente antagônicos. De um lado o atual ministro da Economia, Sergio Massa, candidato do tradicional grupo peronista de centro-esquerda e que foi o mais votado no primeiro turno - causando surpresa - com 36,68% dos votos. Do outro lado, o economista libertário Javier Milei, que ficou conhecido por propostas polêmicas como extinguir o Banco Central e dolarizar a economia argentina. Apesar de liderar as principais pesquisas de intenção de voto, Milei ficou em segundo, com 29,98%. E de um outro lado da fronteira, no Brasil, o processo eleitoral na Argentina é acompanhado com atenção, tanto por motivos políticos quanto econômicos. O repórter da BBC News Brasil Leandro Prazeres conversou com especialistas para saber quais são os efeitos para o Brasil da eleição no país vizinho.",
         "2023-11-02",
         "https://www.bbc.com/portuguese/articles/ckv0gkn84qjo"
        ],
        [
         "3",
         "brasil",
         "Dia de Finados: como celebração dos mortos, que nasceu entre pagãos, foi incorporada pela Igreja",
         "\"Do Senhor é a terra e a sua plenitude, o mundo e aqueles que nele habitam./ Porque ele a fundou sobre os mares, e a firmou sobre os rios./ Quem subirá ao monte do Senhor, ou quem estará no seu lugar santo?/ Aquele que é limpo de mãos e puro de coração, que não entrega a sua alma à vaidade, nem jura enganosamente./ Este receberá a bênção do Senhor e a justiça do Deus da sua salvação.\" Odon de Cluny (878-942) foi um abade francês, responsável por diversas reformas no sistema religioso da época. \"É um dia de celebrar as vidas de todos os fiéis falecidos. No Brasil e em Portugal, o dia é reservado para visitar os túmulos\", comenta Altemeyer. Fim do Matérias recomendadas \"A Igreja toma a data e 'batiza' com significado próprio\", diz Altemeyer. \"Mas celebrar os mortos é algo antropológico. Desde o Cro-Magnon (ou seja, das primeiras populações de Homo sapiens) temos ritos funerários e de expectativa do além túmulo.\" O \"Martirológio Romano\", o calendário oficial da Igreja, explica ambas as datas. Sobre o Dia de Todos os Santos, ele diz: \"Solenidade de todos os Santos que estão com Cristo na Glória. Na mesma celebração festiva, a santa Igreja ainda peregrina sobre a terra venera a memória daqueles cuja companhia alegra os Céus, para que se estimule com o seu exemplo, se conforte com a sua proteção e com eles receba a coroa do triunfo na visão eterna da divina majestade\". E sobre o Dia de Fiados: \"A Igreja, mãe piedosa, quer interceder diante de Deus pelas almas de todos os que nos precederam marcados com o sinal da fé e agora dormem na esperança da ressurreição, bem como por todos os defuntos desde o principio do mundo cuja fé só Deus conhece\". Podcast traz áudios com reportagens selecionadas. Episódios Fim do Podcast Muito antes de a Igreja Católica institucionalizar o Dia de Finados, um livro lançou as bases para como os cristãos acabam tratando os mortos. Trata-se de De Cura pro Mortuis Gerenda, texto do ano 421, atribuído ao teólogo Agostinho de Hipona (354-430), o Santo Agostinho. \"A obra trata do culto devido aos mortos. É uma preciosidade, com verdadeiras pérolas do maior teólogo da Igreja\", comenta Altemeyer. Conforme escreveu o estudioso da fé católica Carlos Martins Nabeto, especialista em Direito Canônico, na obra \"Santo Agostinho aborda uma série de fatos importantes e interessantes a respeito dos mortos, que até hoje são conservados e respeitados pela Igreja\". \"Entre outras coisas, fala da utilidade da oração pelos mortos (antiquíssimo testemunho do Purgatório, ainda que tal palavra não apareça), a possibilidade da aparição dos mortos aos vivos (por meio do ministério dos anjos ou por permissão direta de Deus), a oração dos santos falecidos a nosso favor, o dia que a Igreja dedica a todos os falecidos (Dia de Finados)\", exemplifica o estudioso. Uma celebração de Finados, de certa forma, está implícita no seguinte trecho do livro - o que sugere que, mesmo longe de ter sido formalizada e oficializada pelo rito católico, já se faziam as orações aos mortos em geral, em data específica. \"A Igreja tomou para si o encargo de orar por todos aqueles que morreram dentro da comunhão cristã e católica. Ainda que não conheça todos os nomes, ela os inclui numa comemoração geral\", diz a obra. Santo Agostinho também aborda questões referentes aos ritos fúnebres, ressaltando que \"não deixa de ser marca dos bons sentimentos do coração humano escolher para seus entes queridos que serão sepultados um lugar próximo aos túmulos dos santos\". \"Já que o sepultamento é, por si só, uma obra religiosa, a escolha do local não poderia ser estranha ao ato religioso. É consolo para os vivos, uma forma de testemunhar sua ternura para com os familiares desaparecidos. Não enxergo, porém, como os mortos podem encontrar aí alguma ajuda, a não ser quando o lugar onde descansam é visitado e são encomendados, pela oração [dos visitantes], à proteção dos santos junto ao Senhor. Contudo, isso pode ser feito ainda quando não é possível sepultá-los em tais lugares santos\", afirma. Sobre túmulos construídos como verdadeiros monumentos, o teólogo também faz considerações. \"Isso é feito para que as pessoas continuem a se lembrar deles, para que não aconteça de, tendo sido retirados da presença dos vivos, também sejam retirados do coração pelo esquecimento\", escreve. \"Aliás, o termo 'memorial' indica claramente esse sentido de recordação, da mesma forma como 'monumento' significa 'o que traz à mente', ou seja, o que a faz recordar. Eis o motivo pelo qual os gregos chamam de mnemeion ao que chamamos de 'memória' ou 'monumento'. Na língua deles, 'mnème' significa 'memória', a faculdade com a qual recordamos.\" Agostinho trata da importância das orações aos mortos. \"Assim, quando o pensamento de alguém se concentra sobre o lugar onde o corpo de um ente querido jaz e esse local esteja consagrado pelo nome de um mártir venerável, então a afeição amorosa recorda-se e reza, recomendando o falecido querido a esse mártir\", pontua. \"A morte é natural, é universal, e não pode ser tratada como um tabu\", diz a psicóloga Maria Helena Pereira Franco, estudiosa do luto e professora da PUC-SP. \"As culturas e as sociedades vivem o luto de acordo com uma herança que vem há séculos e vai dando sentido a uma experiência importante como a morte, carregada de significados próprios que passam pela espiritualidade e pela religião.\" De acordo com a pesquisadora, para compreender essa questão cultural é preciso ter em mente que o homem não têm conhecimento definitivo do que acontece depois da morte. E, mesmo do ponto de vista biológico, entender a morte do corpo é uma consciência relativamente recente. \"Na falta de explicações, o homem foi construindo significados. E esses significados, ao longo da história, foram pautando comportamentos\", explica ela. Seja na maneira de realizar os procedimentos referentes ao velório, seja no Dia de Finados, variações desse comportamento são notados em diversas culturas. Sobretudo em cidades menores, no Brasil ainda é costume que um carro com alto-falantes percorra as ruas da cidade divulgando a \"nota de falecimento\" e convidando a todos para participarem do velório e do enterro. No interior da Itália, por exemplo, é comum que, quando um parente morre, familiares afixem no portão da casa um aviso fúnebre, muitas vezes decorado com fitas e ilustrado com uma fotografia do falecido, além de um texto semelhante aos anúncios de obituário de jornal. Já a celebração de Finados mais famosa, sem dúvida, é a que ocorre no México. \"É uma cerimônia bastante conhecida. Eles promovem um momento de encontro entre os vivos, que vão celebrar, visitar e honrar seus mortos nos cemitérios\", explica Franco. \"Há varias comidas que são próprias dessa época, comportamentos que são esperados... É muito bonita como cerimônia.\" Alegria também está presente no rito fúnebre de Bali. Lá, o mais comum é que os mortos sejam cremados. E a cerimônia é acompanhada por uma grande festa em honra ao falecido. Conhecida por ser a capital do jazz, Nova Orleans, nos Estados Unidos, tem também um ritual fúnebre embalada pelo gênero musical. Trata-se de uma procissão fúnebre que mescla tradições africanas, francesas e afro-americanas. Conduzidos por uma banda, os enlutados alternam entre alegria e tristeza. É uma celebração catártica, que procura evocar bons momentos vividos pelo morto. Comunidades budistas da Mongólia e do Tibete acreditam ser necessário devolver o corpo à natureza, para que a alma siga em frente. Assim, têm o costume de cortar o defunto em pedaços e, então, depositá-lo no alto de uma montanha, para que abutres façam o trabalho. Nas Filipinas, diferentes grupos étnicos lidam de forma diferente com a morte e com as práticas funerárias. Os integrantes da cultura Itneg têm o hábito de vestir os defuntos com as melhores roupas, sentarem-no em uma cadeira e colocar um cigarro aceso em sua boca. Benguet, por sua vez, vendam os mortos e os velam ao lado da entrada principal da casa. Já os Caviteño sepultam os mortos fazendo de um tronco oco de árvore o caixão. Os Apayo enterram os mortos sob o chão da cozinha. Em Madagascar, por sua vez, persiste o costume de um ritual chamado farmadihana. Trata-se de uma celebração, que ocorre geralmente a cada sete anos, em que familiares exumam os restos mortais de seus entes queridos, pulverizando os ossos com vinho ou perfume. Uma banda acompanha a cerimônia, que ocorre de forma feliz. Em Gana, é costume que o morto seja enterrado em caixões que representem o que ele fazia em vida, do trabalho aos hobbies. Executivos, por exemplo, podem ser sepultados em sarcófagos em forma de carros de luxo; um fotógrafo pode ser enterrado em uma câmera fotográfica gigante; um pecuarista, em um caixão que represente uma vaca. * Texto publicado em 31 outubro 2018 e atualizado em 2 novembro de 2023.",
         "2023-11-02",
         "https://www.bbc.com/portuguese/articles/c1354g63mpeo"
        ],
        [
         "4",
         "brasil",
         "A estratégia do Brasil por resolução sobre Israel-Gaza no fim de mandato do Conselho de Segurança",
         "Após quatro propostas terem sido rejeitadas nas últimas duas semanas, a diplomacia brasileira tenta agora \"driblar\" os pontos sensíveis apresentados por potências como Estados Unidos, Rússia e China para obter a aprovação da resolução.  Diplomatas brasileiros ouvidos pela BBC News Brasil em caráter reservado descreveram que a estratégia brasileira passou por uma intensificação dos diálogos com membros não-rotativos do conselho e por tentativas de afinar o texto da resolução para que ela não seja vetada mais uma vez. Ao mesmo tempo, tanto o presidente Luiz Inácio Lula da Silva (PT) quanto o ministro das Relações Exteriores, Mauro Vieira, têm mantido conversas com lideranças internacionais para tentar diminuir as resistências à aprovação de uma resolução que possa diminuir a temperatura do conflito.   Fim do Matérias recomendadas Os ataques foram condenados por dezenas de países da comunidade internacional. Eles aconteceram na primeira semana da presidência brasileira junto ao Conselho de Segurança.  O Conselho de Segurança é formado por 15 países, sendo 10 membros rotativos e cinco permanentes com poder de veto: Rússia, Estados Unidos, França, Inglaterra e China. Eles formam o chamado P5. Os demais, são chamados de P10.  Para qualquer proposta ser aprovada no Conselho de Segurança da ONU, ela precisa de pelo menos nove votos dos 15 países membros do órgão. Também não pode ter nenhum veto. Apenas os membros permanentes do grupo têm direito a veto.  Podcast traz áudios com reportagens selecionadas. Episódios Fim do Podcast A primeira proposta de resolução sobre o atual conflito foi feita pela Rússia, mas recebeu os votos contrários de três dos cinco membros permanentes: Estados Unidos, Reino Unido e França.  A segunda proposta, feita pelo Brasil, também não foi aprovada. Daquela vez, os Estados Unidos foram o único país do chamado P5 a vetar o texto.  Daquela vez, a justificativa americana foi a de que o texto proposto pelos brasileiros não mencionava o direito à autodefesa do Estado de Israel.  \"Israel tem o direito inerente à autodefesa\", disse a representante dos EUA na ONU, a embaixadora Linda Thomas-Greenfield.  Na semana passada, outras duas propostas foram rejeitadas: uma apresentada pela Rússia e outra pelos Estados Unidos.  A estimativa é de que pelo menos 1,4 mil israelenses morreram vítimas do ataque do Hamas. Segundo o governo do país, há pelo menos outras 200 pessoas mantidas como reféns pelo grupo.  Do outro lado, segundo o Ministério da Saúde da Faixa de Gaza, pelo menos sete mil palestinos já morreram vítimas dos ataques conduzidos por Israel. O governo na Faixa de Gaza é controlado pelo Hamas.  Em meio a esse impasse, a UNRWA, agência da ONU para refugiados palestinos, disse, na semana passada, que o atual conflito na região já foi responsável pelo deslocamento de pelo menos 1,4 milhão de pessoas na Faixa de Gaza. Desse total, 600 mil estariam em abrigos ou instalações fornecidas pela agência.  Esse deslocamento aconteceu após Israel alertar a população palestina a se dirigir ao sul da região por conta das ações militares que seriam realizadas na parte norte. As entradas e saídas da Faixa de Gaza estão fechadas.  A ONU e organizações internacionais vêm alertando para o risco de desabastecimento de água, alimentos, remédios e outros produtos.  Para tentar driblar o impasse existente entre Estados Unidos, de um lado, Rússia e China, de outro, o Brasil se juntou a outros três membros não-permanentes do Conselho de Segurança para desenhar uma resolução.  Os três membros mais próximos do Brasil nesse esforço, segundo a diplomacia brasileira, são Suíça, Emirados Árabes Unidos e Malta, que é porta-voz do chamado P-10, grupo dos membros não-permanentes do Conselho de Segurança.  Nos últimos dias, diplomatas brasileiros mantiveram reuniões a portas fechadas com representantes destes países para trabalhar o texto.  Diplomatas brasileiros afirmaram à BBC News Brasil que os negociadores do Conselho se debruçam sobre pontos principais: menções ao direito de autodefesa de Israel; e um eventual cessar-fogo na região. Os dois pontos são considerados polêmicos porque têm influência direta sobre os rumos do conflito.  Um diplomata brasileiro disse à BBC News Brasil que há a preocupação de que uma menção na resolução ao direito de autodefesa israelense poderia ser usada como justificativa para uma intensificação das ações de Israel na Faixa de Gaza.  Por outro lado, também haveria preocupação entre os norte-americanos e outros aliados de Israel sobre os efeitos que um eventual cessar-fogo poderia ter. O temor é de que o Hamas poderia aproveitar a pausa para se reorganizar e voltar a lançar ataques a Israel.  Os termos exatos para \"driblar\" esse impasse, segundo diplomatas ouvidos pela BBC News Brasil, ainda não foram encontrados.  A estratégia é que o texto desenhado por esses quatro países tenha a maioria ou todos os votos do P-10. Isso, avaliam os diplomatas brasileiros, poderia pressionar os membros permanentes a reconsiderar um possível novo veto ao texto.  A expectativa é de que um rascunho fique pronto nesta terça-feira (31/10), último dia da presidência brasileira. Depois disso, o texto poderia ser levado à votação do Conselho.   Diplomatas brasileiros afirmam que a estratégia brasileira se dividiu em três frentes.  O principal objetivo, até o momento, é criar uma espécie de pausa no conflito para que a população palestina que vive na Faixa de Gaza possa receber ajuda humanitária, principalmente, pela fronteira da área com o Egito.  Uma dessas frentes é conduzida pelo presidente  Lula, que vem mantendo conversas com líderes de diversos países desde o início da crise.  Entre esses líderes estão o presidente da França, Emmanuel Macron, o presidente russo, Vladimir Putin, e o presidente da Autoridade Palestina, Mahmoud Abbas.  Outra frente é conduzida pelo assessor especial para Assuntos Internacionais, o ex-ministro das Relações Exteriores Celso Amorim. Nos últimos dias, ele teria tido encontros e conversas com assessores e lideranças diplomáticas de diversos países para avaliar o cenário.  A terceira frente, considerada mais ampla, é a liderada pelo Itamaraty, que vem, sob orientação do governo, tentando negociar um texto que possa ser aprovado pelo conselho. Essa frente é liderada pelo chanceler Mauro Vieira e pelo representante brasileiro na ONU, o embaixador Sérgio Danese.  Na segunda-feira (30/10), Mauro Vieira teve uma conversa telefônica com o secretário de Estado americano, Anthony Blinken em que conversaram sobre as negociações em curso no Conselho de Segurança da ONU. Uma fonte ouvida pela BBC News Brasil em caráter reservado afirmou que a ligação partiu do ministro brasileiro.  A dificuldade em obter um texto que agrade a todos os membros permanentes do Conselho de Segurança foi mencionada por Mauro Vieira nesta segunda-feira, durante reunião do colegiado, e também por especialistas em Relações Internacionais ouvidos pela BBC News Brasil.  \"Desde 2016, o Conselho não foi capaz de aprovar uma única resolução sobre a situação na Palestina. A situação no Oriente Médio é, portanto, de longe, uma das situações mais bloqueadas no Conselho de Segurança [...] Isso mostra a ineficiência do sistema de governança e da falta de representatividade de certas partes do mundo nesse grupo\", disse Vieira.  Para o professor de Relações Internacionais da Universidade Federal de Minas Gerais (UFMG) Dawisson Belém Lopes, um dos elementos que torna a chegada a uma resolução sobre o conflito tão difícil é o que ele classificou como nova \"bipolarização\" da ordem internacional.  Essa polarização se daria entre um grupo de países liderados pelos Estados Unidos e Europa Ocidental, de um lado, e Rússia, China e nações sob suas influências, de outro.  \"Alguns analistas afirmam que há, hoje, uma bipolarização 2.0 (menção à ordem bipolar que vigorou entre Estados Unidos e União Soviética durante a Guerra Fria). Nesse contexto, torna-se mais difícil tomar qualquer decisão, especialmente aquelas que tocam os interesses das superpotências porque prevalece o que chamamos de jogo de soma zero:  se um lado ganha, o outro perde\", disse o professor à BBC News Brasil.   \"Esse conflito em especial opõe interesses vitais e visões de mundo antagônicas dos membros permanentes do Conselho de Segurança de forma que a linguagem da resolução, para que passe, precisa ser eficaz para a realidade do terreno sem ferir suscetibilidades dos membros permanentes\", disse à BBC News Brasil a professora da Escola Superior de Guerra do Ministério da Defesa, Mariana Kalil.  Os dois especialistas avaliam que, considerando as características da presidência rotativa do Conselho de Segurança e a forma como o órgão é estruturado, seria incorreto atribuir responsabilidades ao Brasil pela demora para que uma resolução sobre o conflito seja obtida.  \"De forma alguma seria possível estabelecer uma relação entre o papel do Brasil como presidente do Conselho de Segurança e a dificuldade de aprovação de uma resolução sobre o conflito\", disse Mariana Kalil.  Segundo ela, neste período, o Brasil chegou a conseguir um consenso entre membros do chamado P3 (grupo formado por Estados Unidos, Reino Unido e França) e Rússia e China.  Isso aconteceu durante a votação da resolução proposta pelo Brasil que obteve votos favoráveis da França, Rússia e China e a abstenção do Reino Unido. A abstenção do Reino Unido em um contexto em que ele poderia exercer o poder de veto é vista como uma posição de apoio à resolução.  \"Unanimidade, diante de um caso como o referido, é, na prática, altamente improvável\", disse a professora.  Para Dawisson Lopes, simples fato de presidir o conselho não seria suficiente para que o Brasil conseguisse um consenso sobre o conflito entre os membros do Conselho de Segurança.  \"A presidência do Conselho é uma posição quase procedimental. O país que assume o comando praticamente só organiza os trabalhos do grupo. Ela tem um quê de cerimonial, mas o Brasil não tem capacidade efetiva de, durante um mês, impor uma agenda ou fabricar consensos\", disse o professor.",
         "2023-10-31",
         "https://www.bbc.com/portuguese/articles/clw7wle9pgxo"
        ]
       ],
       "shape": {
        "columns": 5,
        "rows": 5
       }
      },
      "text/html": [
       "<div>\n",
       "<style scoped>\n",
       "    .dataframe tbody tr th:only-of-type {\n",
       "        vertical-align: middle;\n",
       "    }\n",
       "\n",
       "    .dataframe tbody tr th {\n",
       "        vertical-align: top;\n",
       "    }\n",
       "\n",
       "    .dataframe thead th {\n",
       "        text-align: right;\n",
       "    }\n",
       "</style>\n",
       "<table border=\"1\" class=\"dataframe\">\n",
       "  <thead>\n",
       "    <tr style=\"text-align: right;\">\n",
       "      <th></th>\n",
       "      <th>categoria</th>\n",
       "      <th>titulo</th>\n",
       "      <th>texto</th>\n",
       "      <th>data</th>\n",
       "      <th>link</th>\n",
       "    </tr>\n",
       "  </thead>\n",
       "  <tbody>\n",
       "    <tr>\n",
       "      <th>0</th>\n",
       "      <td>brasil</td>\n",
       "      <td>Quem foi Oswaldo Aranha, o brasileiro que ajud...</td>\n",
       "      <td>“Sua atuação no cenário internacional estava d...</td>\n",
       "      <td>2023-11-04</td>\n",
       "      <td>https://www.bbc.com/portuguese/articles/c0wxwr...</td>\n",
       "    </tr>\n",
       "    <tr>\n",
       "      <th>1</th>\n",
       "      <td>brasil</td>\n",
       "      <td>Como PCC fez Paraguai virar um dos países com ...</td>\n",
       "      <td>No ranking de 2023, a nação saltou para a 4ª p...</td>\n",
       "      <td>2023-11-04</td>\n",
       "      <td>https://www.bbc.com/portuguese/articles/cp646z...</td>\n",
       "    </tr>\n",
       "    <tr>\n",
       "      <th>2</th>\n",
       "      <td>brasil</td>\n",
       "      <td>Vídeo, Massa ou Milei: o que Brasil tem a ganh...</td>\n",
       "      <td>O segundo turno das eleições presidenciais na ...</td>\n",
       "      <td>2023-11-02</td>\n",
       "      <td>https://www.bbc.com/portuguese/articles/ckv0gk...</td>\n",
       "    </tr>\n",
       "    <tr>\n",
       "      <th>3</th>\n",
       "      <td>brasil</td>\n",
       "      <td>Dia de Finados: como celebração dos mortos, qu...</td>\n",
       "      <td>\"Do Senhor é a terra e a sua plenitude, o mund...</td>\n",
       "      <td>2023-11-02</td>\n",
       "      <td>https://www.bbc.com/portuguese/articles/c1354g...</td>\n",
       "    </tr>\n",
       "    <tr>\n",
       "      <th>4</th>\n",
       "      <td>brasil</td>\n",
       "      <td>A estratégia do Brasil por resolução sobre Isr...</td>\n",
       "      <td>Após quatro propostas terem sido rejeitadas na...</td>\n",
       "      <td>2023-10-31</td>\n",
       "      <td>https://www.bbc.com/portuguese/articles/clw7wl...</td>\n",
       "    </tr>\n",
       "  </tbody>\n",
       "</table>\n",
       "</div>"
      ],
      "text/plain": [
       "  categoria                                             titulo  \\\n",
       "0    brasil  Quem foi Oswaldo Aranha, o brasileiro que ajud...   \n",
       "1    brasil  Como PCC fez Paraguai virar um dos países com ...   \n",
       "2    brasil  Vídeo, Massa ou Milei: o que Brasil tem a ganh...   \n",
       "3    brasil  Dia de Finados: como celebração dos mortos, qu...   \n",
       "4    brasil  A estratégia do Brasil por resolução sobre Isr...   \n",
       "\n",
       "                                               texto        data  \\\n",
       "0  “Sua atuação no cenário internacional estava d...  2023-11-04   \n",
       "1  No ranking de 2023, a nação saltou para a 4ª p...  2023-11-04   \n",
       "2  O segundo turno das eleições presidenciais na ...  2023-11-02   \n",
       "3  \"Do Senhor é a terra e a sua plenitude, o mund...  2023-11-02   \n",
       "4  Após quatro propostas terem sido rejeitadas na...  2023-10-31   \n",
       "\n",
       "                                                link  \n",
       "0  https://www.bbc.com/portuguese/articles/c0wxwr...  \n",
       "1  https://www.bbc.com/portuguese/articles/cp646z...  \n",
       "2  https://www.bbc.com/portuguese/articles/ckv0gk...  \n",
       "3  https://www.bbc.com/portuguese/articles/c1354g...  \n",
       "4  https://www.bbc.com/portuguese/articles/clw7wl...  "
      ]
     },
     "execution_count": 3,
     "metadata": {},
     "output_type": "execute_result"
    }
   ],
   "source": [
    "df = dataset['train'].to_pandas()\n",
    "df.head()"
   ]
  },
  {
   "cell_type": "code",
   "execution_count": 4,
   "id": "6805702c",
   "metadata": {},
   "outputs": [
    {
     "data": {
      "application/vnd.microsoft.datawrangler.viewer.v0+json": {
       "columns": [
        {
         "name": "categoria",
         "rawType": "object",
         "type": "string"
        },
        {
         "name": "count",
         "rawType": "int64",
         "type": "integer"
        }
       ],
       "ref": "d1765261-a12d-4d61-8838-34e813ed7f9c",
       "rows": [
        [
         "brasil",
         "960"
        ],
        [
         "internacional",
         "960"
        ],
        [
         "economia",
         "960"
        ],
        [
         "saude",
         "960"
        ],
        [
         "ciencia",
         "960"
        ],
        [
         "tecnologia",
         "960"
        ],
        [
         "america_latina",
         "959"
        ],
        [
         "cultura",
         "959"
        ],
        [
         "sociedade",
         "959"
        ]
       ],
       "shape": {
        "columns": 1,
        "rows": 9
       }
      },
      "text/plain": [
       "categoria\n",
       "brasil            960\n",
       "internacional     960\n",
       "economia          960\n",
       "saude             960\n",
       "ciencia           960\n",
       "tecnologia        960\n",
       "america_latina    959\n",
       "cultura           959\n",
       "sociedade         959\n",
       "Name: count, dtype: int64"
      ]
     },
     "execution_count": 4,
     "metadata": {},
     "output_type": "execute_result"
    }
   ],
   "source": [
    "df.categoria.value_counts()"
   ]
  },
  {
   "cell_type": "code",
   "execution_count": 5,
   "id": "7d56cdea",
   "metadata": {},
   "outputs": [],
   "source": [
    "classes = df.categoria.unique().tolist()\n",
    "amostra = df.sample(n=20,random_state=42)"
   ]
  },
  {
   "cell_type": "code",
   "execution_count": 6,
   "id": "40db71b7",
   "metadata": {},
   "outputs": [
    {
     "ename": "ModelError",
     "evalue": "429: service_tier_capacity_exceeded - Service tier capacity exceeded for this model.",
     "output_type": "error",
     "traceback": [
      "\u001b[0;31m---------------------------------------------------------------------------\u001b[0m",
      "\u001b[0;31mModelError\u001b[0m                                Traceback (most recent call last)",
      "Cell \u001b[0;32mIn[6], line 14\u001b[0m\n\u001b[1;32m     10\u001b[0m     resposta \u001b[38;5;241m=\u001b[39m \u001b[38;5;28mstr\u001b[39m(model\u001b[38;5;241m.\u001b[39mprompt(prompt))   \n\u001b[1;32m     12\u001b[0m     \u001b[38;5;28;01mreturn\u001b[39;00m resposta\n\u001b[0;32m---> 14\u001b[0m \u001b[43mclassificar_texto\u001b[49m\u001b[43m(\u001b[49m\u001b[43mmodelo\u001b[49m\u001b[43m,\u001b[49m\u001b[43m \u001b[49m\u001b[38;5;124;43m\"\u001b[39;49m\u001b[38;5;124;43mO turismo no Chile cresceu\u001b[39;49m\u001b[38;5;124;43m\"\u001b[39;49m\u001b[43m,\u001b[49m\u001b[43m \u001b[49m\u001b[43mclasses\u001b[49m\u001b[43m)\u001b[49m\n",
      "Cell \u001b[0;32mIn[6], line 10\u001b[0m, in \u001b[0;36mclassificar_texto\u001b[0;34m(model, texto, classes)\u001b[0m\n\u001b[1;32m      1\u001b[0m \u001b[38;5;28;01mdef\u001b[39;00m\u001b[38;5;250m \u001b[39m\u001b[38;5;21mclassificar_texto\u001b[39m(model, texto, classes):\n\u001b[1;32m      2\u001b[0m     prompt \u001b[38;5;241m=\u001b[39m \u001b[38;5;124mf\u001b[39m\u001b[38;5;124m\"\"\"\u001b[39m\n\u001b[1;32m      3\u001b[0m \u001b[38;5;124m    Classifique o texto abaixo. Responda apenas com a classe, sem explicações.\u001b[39m\n\u001b[1;32m      4\u001b[0m \n\u001b[0;32m   (...)\u001b[0m\n\u001b[1;32m      7\u001b[0m \u001b[38;5;124m    Classes: \u001b[39m\u001b[38;5;132;01m{\u001b[39;00mclasses\u001b[38;5;132;01m}\u001b[39;00m\n\u001b[1;32m      8\u001b[0m \u001b[38;5;124m    \u001b[39m\u001b[38;5;124m\"\"\"\u001b[39m\n\u001b[0;32m---> 10\u001b[0m     resposta \u001b[38;5;241m=\u001b[39m \u001b[38;5;28;43mstr\u001b[39;49m\u001b[43m(\u001b[49m\u001b[43mmodel\u001b[49m\u001b[38;5;241;43m.\u001b[39;49m\u001b[43mprompt\u001b[49m\u001b[43m(\u001b[49m\u001b[43mprompt\u001b[49m\u001b[43m)\u001b[49m\u001b[43m)\u001b[49m   \n\u001b[1;32m     12\u001b[0m     \u001b[38;5;28;01mreturn\u001b[39;00m resposta\n",
      "File \u001b[0;32m~/Documents/abraji/.venv/lib/python3.10/site-packages/llm/models.py:910\u001b[0m, in \u001b[0;36mResponse.__str__\u001b[0;34m(self)\u001b[0m\n\u001b[1;32m    909\u001b[0m \u001b[38;5;28;01mdef\u001b[39;00m\u001b[38;5;250m \u001b[39m\u001b[38;5;21m__str__\u001b[39m(\u001b[38;5;28mself\u001b[39m) \u001b[38;5;241m-\u001b[39m\u001b[38;5;241m>\u001b[39m \u001b[38;5;28mstr\u001b[39m:\n\u001b[0;32m--> 910\u001b[0m     \u001b[38;5;28;01mreturn\u001b[39;00m \u001b[38;5;28;43mself\u001b[39;49m\u001b[38;5;241;43m.\u001b[39;49m\u001b[43mtext\u001b[49m\u001b[43m(\u001b[49m\u001b[43m)\u001b[49m\n",
      "File \u001b[0;32m~/Documents/abraji/.venv/lib/python3.10/site-packages/llm/models.py:917\u001b[0m, in \u001b[0;36mResponse.text\u001b[0;34m(self)\u001b[0m\n\u001b[1;32m    916\u001b[0m \u001b[38;5;28;01mdef\u001b[39;00m\u001b[38;5;250m \u001b[39m\u001b[38;5;21mtext\u001b[39m(\u001b[38;5;28mself\u001b[39m) \u001b[38;5;241m-\u001b[39m\u001b[38;5;241m>\u001b[39m \u001b[38;5;28mstr\u001b[39m:\n\u001b[0;32m--> 917\u001b[0m     \u001b[38;5;28;43mself\u001b[39;49m\u001b[38;5;241;43m.\u001b[39;49m\u001b[43m_force\u001b[49m\u001b[43m(\u001b[49m\u001b[43m)\u001b[49m\n\u001b[1;32m    918\u001b[0m     \u001b[38;5;28;01mreturn\u001b[39;00m \u001b[38;5;124m\"\u001b[39m\u001b[38;5;124m\"\u001b[39m\u001b[38;5;241m.\u001b[39mjoin(\u001b[38;5;28mself\u001b[39m\u001b[38;5;241m.\u001b[39m_chunks)\n",
      "File \u001b[0;32m~/Documents/abraji/.venv/lib/python3.10/site-packages/llm/models.py:914\u001b[0m, in \u001b[0;36mResponse._force\u001b[0;34m(self)\u001b[0m\n\u001b[1;32m    912\u001b[0m \u001b[38;5;28;01mdef\u001b[39;00m\u001b[38;5;250m \u001b[39m\u001b[38;5;21m_force\u001b[39m(\u001b[38;5;28mself\u001b[39m):\n\u001b[1;32m    913\u001b[0m     \u001b[38;5;28;01mif\u001b[39;00m \u001b[38;5;129;01mnot\u001b[39;00m \u001b[38;5;28mself\u001b[39m\u001b[38;5;241m.\u001b[39m_done:\n\u001b[0;32m--> 914\u001b[0m         \u001b[38;5;28;43mlist\u001b[39;49m\u001b[43m(\u001b[49m\u001b[38;5;28;43mself\u001b[39;49m\u001b[43m)\u001b[49m\n",
      "File \u001b[0;32m~/Documents/abraji/.venv/lib/python3.10/site-packages/llm/models.py:1033\u001b[0m, in \u001b[0;36mResponse.__iter__\u001b[0;34m(self)\u001b[0m\n\u001b[1;32m   1031\u001b[0m         \u001b[38;5;28mself\u001b[39m\u001b[38;5;241m.\u001b[39m_chunks\u001b[38;5;241m.\u001b[39mappend(chunk)\n\u001b[1;32m   1032\u001b[0m \u001b[38;5;28;01melif\u001b[39;00m \u001b[38;5;28misinstance\u001b[39m(\u001b[38;5;28mself\u001b[39m\u001b[38;5;241m.\u001b[39mmodel, KeyModel):\n\u001b[0;32m-> 1033\u001b[0m     \u001b[38;5;28;01mfor\u001b[39;00m chunk \u001b[38;5;129;01min\u001b[39;00m \u001b[38;5;28mself\u001b[39m\u001b[38;5;241m.\u001b[39mmodel\u001b[38;5;241m.\u001b[39mexecute(\n\u001b[1;32m   1034\u001b[0m         \u001b[38;5;28mself\u001b[39m\u001b[38;5;241m.\u001b[39mprompt,\n\u001b[1;32m   1035\u001b[0m         stream\u001b[38;5;241m=\u001b[39m\u001b[38;5;28mself\u001b[39m\u001b[38;5;241m.\u001b[39mstream,\n\u001b[1;32m   1036\u001b[0m         response\u001b[38;5;241m=\u001b[39m\u001b[38;5;28mself\u001b[39m,\n\u001b[1;32m   1037\u001b[0m         conversation\u001b[38;5;241m=\u001b[39m\u001b[38;5;28mself\u001b[39m\u001b[38;5;241m.\u001b[39mconversation,\n\u001b[1;32m   1038\u001b[0m         key\u001b[38;5;241m=\u001b[39m\u001b[38;5;28mself\u001b[39m\u001b[38;5;241m.\u001b[39mmodel\u001b[38;5;241m.\u001b[39mget_key(\u001b[38;5;28mself\u001b[39m\u001b[38;5;241m.\u001b[39m_key),\n\u001b[1;32m   1039\u001b[0m     ):\n\u001b[1;32m   1040\u001b[0m         \u001b[38;5;28;01massert\u001b[39;00m chunk \u001b[38;5;129;01mis\u001b[39;00m \u001b[38;5;129;01mnot\u001b[39;00m \u001b[38;5;28;01mNone\u001b[39;00m\n\u001b[1;32m   1041\u001b[0m         \u001b[38;5;28;01myield\u001b[39;00m chunk\n",
      "File \u001b[0;32m~/Documents/abraji/.venv/lib/python3.10/site-packages/llm_mistral.py:484\u001b[0m, in \u001b[0;36mMistral.execute\u001b[0;34m(self, prompt, stream, response, conversation, key)\u001b[0m\n\u001b[1;32m    482\u001b[0m     words \u001b[38;5;241m=\u001b[39m [word[:\u001b[38;5;241m30\u001b[39m] \u001b[38;5;28;01mfor\u001b[39;00m word \u001b[38;5;129;01min\u001b[39;00m words]\n\u001b[1;32m    483\u001b[0m     message \u001b[38;5;241m=\u001b[39m \u001b[38;5;124m\"\u001b[39m\u001b[38;5;124m \u001b[39m\u001b[38;5;124m\"\u001b[39m\u001b[38;5;241m.\u001b[39mjoin(words)\n\u001b[0;32m--> 484\u001b[0m     \u001b[38;5;28;01mraise\u001b[39;00m llm\u001b[38;5;241m.\u001b[39mModelError(\n\u001b[1;32m    485\u001b[0m         \u001b[38;5;124mf\u001b[39m\u001b[38;5;124m\"\u001b[39m\u001b[38;5;132;01m{\u001b[39;00mevent_source\u001b[38;5;241m.\u001b[39mresponse\u001b[38;5;241m.\u001b[39mstatus_code\u001b[38;5;132;01m}\u001b[39;00m\u001b[38;5;124m: \u001b[39m\u001b[38;5;132;01m{\u001b[39;00m\u001b[38;5;28mtype\u001b[39m\u001b[38;5;132;01m}\u001b[39;00m\u001b[38;5;124m - \u001b[39m\u001b[38;5;132;01m{\u001b[39;00mmessage\u001b[38;5;132;01m}\u001b[39;00m\u001b[38;5;124m\"\u001b[39m\n\u001b[1;32m    486\u001b[0m     )\n\u001b[1;32m    487\u001b[0m usage \u001b[38;5;241m=\u001b[39m \u001b[38;5;28;01mNone\u001b[39;00m\n\u001b[1;32m    488\u001b[0m event_source\u001b[38;5;241m.\u001b[39mresponse\u001b[38;5;241m.\u001b[39mraise_for_status()\n",
      "\u001b[0;31mModelError\u001b[0m: 429: service_tier_capacity_exceeded - Service tier capacity exceeded for this model."
     ]
    }
   ],
   "source": [
    "def classificar_texto(model, texto, classes):\n",
    "    prompt = f\"\"\"\n",
    "    Classifique o texto abaixo. Responda apenas com a classe, sem explicações.\n",
    "\n",
    "    Texto: {texto}\n",
    "\n",
    "    Classes: {classes}\n",
    "    \"\"\"\n",
    "    \n",
    "    resposta = str(model.prompt(prompt))   \n",
    "    \n",
    "    return resposta\n",
    "\n",
    "classificar_texto(modelo, \"O turismo no Chile cresceu\", classes)"
   ]
  },
  {
   "cell_type": "code",
   "execution_count": null,
   "id": "c9c73bbe",
   "metadata": {},
   "outputs": [
    {
     "name": "stderr",
     "output_type": "stream",
     "text": [
      "100%|██████████| 20/20 [00:16<00:00,  1.23it/s]\n"
     ]
    }
   ],
   "source": [
    "from tqdm import tqdm\n",
    "tqdm.pandas()\n",
    "\n",
    "amostra['categoria_pred'] = amostra['categoria'].progress_apply(lambda x: classificar_texto(modelo, x, classes))"
   ]
  },
  {
   "cell_type": "code",
   "execution_count": null,
   "id": "7a779e52",
   "metadata": {},
   "outputs": [
    {
     "data": {
      "text/html": [
       "<div>\n",
       "<style scoped>\n",
       "    .dataframe tbody tr th:only-of-type {\n",
       "        vertical-align: middle;\n",
       "    }\n",
       "\n",
       "    .dataframe tbody tr th {\n",
       "        vertical-align: top;\n",
       "    }\n",
       "\n",
       "    .dataframe thead th {\n",
       "        text-align: right;\n",
       "    }\n",
       "</style>\n",
       "<table border=\"1\" class=\"dataframe\">\n",
       "  <thead>\n",
       "    <tr style=\"text-align: right;\">\n",
       "      <th></th>\n",
       "      <th>categoria</th>\n",
       "      <th>titulo</th>\n",
       "      <th>texto</th>\n",
       "      <th>data</th>\n",
       "      <th>link</th>\n",
       "      <th>categoria_pred</th>\n",
       "    </tr>\n",
       "  </thead>\n",
       "  <tbody>\n",
       "    <tr>\n",
       "      <th>1313</th>\n",
       "      <td>america_latina</td>\n",
       "      <td>5 sinais de recuperação — com limites — da eco...</td>\n",
       "      <td>\"Venezuela foi consertada\" é uma frase que cir...</td>\n",
       "      <td>2022-06-21</td>\n",
       "      <td>https://www.bbc.com/portuguese/internacional-6...</td>\n",
       "      <td>america_latina</td>\n",
       "    </tr>\n",
       "    <tr>\n",
       "      <th>7867</th>\n",
       "      <td>sociedade</td>\n",
       "      <td>'Meus pais iam me matar para limpar a honra da...</td>\n",
       "      <td>Quando Manoj — que foi registrado como sendo d...</td>\n",
       "      <td>2023-07-28</td>\n",
       "      <td>https://www.bbc.com/portuguese/articles/c25gpy...</td>\n",
       "      <td>sociedade</td>\n",
       "    </tr>\n",
       "    <tr>\n",
       "      <th>4595</th>\n",
       "      <td>saude</td>\n",
       "      <td>Vacina contra varíola dos macacos chega neste ...</td>\n",
       "      <td>O Ministério da Saúde anunciou que as primeira...</td>\n",
       "      <td>2022-09-19</td>\n",
       "      <td>https://www.bbc.com/portuguese/brasil-62317822</td>\n",
       "      <td>saude</td>\n",
       "    </tr>\n",
       "    <tr>\n",
       "      <th>1046</th>\n",
       "      <td>america_latina</td>\n",
       "      <td>O papel dos cartéis mexicanos na onda de violê...</td>\n",
       "      <td>\"Aqui pagamos com a vida pela democracia.\" Seu...</td>\n",
       "      <td>2023-08-10</td>\n",
       "      <td>https://www.bbc.com/portuguese/articles/cglyke...</td>\n",
       "      <td>america_latina</td>\n",
       "    </tr>\n",
       "    <tr>\n",
       "      <th>3142</th>\n",
       "      <td>economia</td>\n",
       "      <td>Como crise do Credit Suisse manchou reputação ...</td>\n",
       "      <td>Segundo maior banco suíço e uma das 30 institu...</td>\n",
       "      <td>2023-03-21</td>\n",
       "      <td>https://www.bbc.com/portuguese/articles/crg02l...</td>\n",
       "      <td>economia</td>\n",
       "    </tr>\n",
       "    <tr>\n",
       "      <th>1672</th>\n",
       "      <td>america_latina</td>\n",
       "      <td>Como a Lei de Cotas incentivou a migração de a...</td>\n",
       "      <td>Criada em 2012 e prestes a passar por processo...</td>\n",
       "      <td>2020-12-29</td>\n",
       "      <td>https://www.bbc.com/portuguese/brasil-55225891</td>\n",
       "      <td>america_latina</td>\n",
       "    </tr>\n",
       "    <tr>\n",
       "      <th>6525</th>\n",
       "      <td>tecnologia</td>\n",
       "      <td>'Deus invisível': quem é o hacker acusado de r...</td>\n",
       "      <td>Só se sabia de três coisas sobre ele: 1) Fxmsp...</td>\n",
       "      <td>2020-07-31</td>\n",
       "      <td>https://www.bbc.com/portuguese/internacional-5...</td>\n",
       "      <td>tecnologia</td>\n",
       "    </tr>\n",
       "    <tr>\n",
       "      <th>5148</th>\n",
       "      <td>ciencia</td>\n",
       "      <td>Por que Nova York está afundando</td>\n",
       "      <td>O solo sob a cidade de Nova York está afundand...</td>\n",
       "      <td>2023-05-25</td>\n",
       "      <td>https://www.bbc.com/portuguese/articles/cq53nd...</td>\n",
       "      <td>ciencia</td>\n",
       "    </tr>\n",
       "    <tr>\n",
       "      <th>1905</th>\n",
       "      <td>america_latina</td>\n",
       "      <td>'Amazônia é como a bolsa de valores: dependend...</td>\n",
       "      <td>Para o procurador Daniel Azeredo, do Ministéri...</td>\n",
       "      <td>2020-10-09</td>\n",
       "      <td>https://www.bbc.com/portuguese/brasil-54459038</td>\n",
       "      <td>america_latina</td>\n",
       "    </tr>\n",
       "    <tr>\n",
       "      <th>6959</th>\n",
       "      <td>cultura</td>\n",
       "      <td>Oscar 2023: a polêmica que pode desclassificar...</td>\n",
       "      <td>A indicação inesperada ao Oscar da atriz britâ...</td>\n",
       "      <td>2023-01-30</td>\n",
       "      <td>https://www.bbc.com/portuguese/geral-64460473</td>\n",
       "      <td>cultura</td>\n",
       "    </tr>\n",
       "    <tr>\n",
       "      <th>7923</th>\n",
       "      <td>sociedade</td>\n",
       "      <td>Por que 101 pessoas e uma cadela disputam o ca...</td>\n",
       "      <td>Toronto decidirá nesta segunda-feira (26/6) qu...</td>\n",
       "      <td>2023-06-26</td>\n",
       "      <td>https://www.bbc.com/portuguese/articles/c14xvv...</td>\n",
       "      <td>sociedade</td>\n",
       "    </tr>\n",
       "    <tr>\n",
       "      <th>3320</th>\n",
       "      <td>economia</td>\n",
       "      <td>Como funciona o bilionário negócio de compra e...</td>\n",
       "      <td>Quase US$ 2 bilhões foram gastos em terrenos v...</td>\n",
       "      <td>2022-11-04</td>\n",
       "      <td>https://www.bbc.com/portuguese/geral-63514882</td>\n",
       "      <td>economia</td>\n",
       "    </tr>\n",
       "    <tr>\n",
       "      <th>8207</th>\n",
       "      <td>sociedade</td>\n",
       "      <td>'Homem mais sujo do mundo' morre aos 94 anos a...</td>\n",
       "      <td>Um eremita que ficou conhecido pela imprensa c...</td>\n",
       "      <td>2022-10-26</td>\n",
       "      <td>https://www.bbc.com/portuguese/geral-63387422</td>\n",
       "      <td>sociedade</td>\n",
       "    </tr>\n",
       "    <tr>\n",
       "      <th>5973</th>\n",
       "      <td>tecnologia</td>\n",
       "      <td>Boate Kiss: 'Famílias não querem exploração co...</td>\n",
       "      <td>A advogada de 42 famílias de vítimas e sobrevi...</td>\n",
       "      <td>2023-02-03</td>\n",
       "      <td>https://www.bbc.com/portuguese/brasil-64452695</td>\n",
       "      <td>tecnologia</td>\n",
       "    </tr>\n",
       "    <tr>\n",
       "      <th>700</th>\n",
       "      <td>brasil</td>\n",
       "      <td>Senadores dos EUA correm para nomear embaixado...</td>\n",
       "      <td>Na mesma semana em que o presidente americano,...</td>\n",
       "      <td>2022-12-07</td>\n",
       "      <td>https://www.bbc.com/portuguese/geral-63891834</td>\n",
       "      <td>brasil</td>\n",
       "    </tr>\n",
       "    <tr>\n",
       "      <th>5294</th>\n",
       "      <td>ciencia</td>\n",
       "      <td>'Mais da metade da população mundial pode esta...</td>\n",
       "      <td>Mais da metade da população mundial será class...</td>\n",
       "      <td>2023-03-03</td>\n",
       "      <td>https://www.bbc.com/portuguese/articles/cg6xw6...</td>\n",
       "      <td>ciencia</td>\n",
       "    </tr>\n",
       "    <tr>\n",
       "      <th>2623</th>\n",
       "      <td>internacional</td>\n",
       "      <td>Pesquisadores buscam vestígios de um dos últim...</td>\n",
       "      <td>No final de 1852, dois anos depois de ser publ...</td>\n",
       "      <td>2023-07-26</td>\n",
       "      <td>https://www.bbc.com/portuguese/articles/cndkrk...</td>\n",
       "      <td>internacional</td>\n",
       "    </tr>\n",
       "    <tr>\n",
       "      <th>2201</th>\n",
       "      <td>internacional</td>\n",
       "      <td>Motorista e entregador: onde trabalhadores de ...</td>\n",
       "      <td>Motoristas e entregadores devem ter um piso de...</td>\n",
       "      <td>2023-10-02</td>\n",
       "      <td>https://www.bbc.com/portuguese/articles/crg0pr...</td>\n",
       "      <td>internacional</td>\n",
       "    </tr>\n",
       "    <tr>\n",
       "      <th>2485</th>\n",
       "      <td>internacional</td>\n",
       "      <td>Surras, choques elétricos e fome: os prisionei...</td>\n",
       "      <td>Atenção: esta reportagem contém detalhes que p...</td>\n",
       "      <td>2023-08-20</td>\n",
       "      <td>https://www.bbc.com/portuguese/articles/c51jkd...</td>\n",
       "      <td>internacional</td>\n",
       "    </tr>\n",
       "    <tr>\n",
       "      <th>7961</th>\n",
       "      <td>sociedade</td>\n",
       "      <td>O escândalo sexual que derrubou apresentador d...</td>\n",
       "      <td>Um escândalo sexual derrubou um dos principais...</td>\n",
       "      <td>2023-05-29</td>\n",
       "      <td>https://www.bbc.com/portuguese/articles/c72j4g...</td>\n",
       "      <td>sociedade</td>\n",
       "    </tr>\n",
       "  </tbody>\n",
       "</table>\n",
       "</div>"
      ],
      "text/plain": [
       "           categoria                                             titulo  \\\n",
       "1313  america_latina  5 sinais de recuperação — com limites — da eco...   \n",
       "7867       sociedade  'Meus pais iam me matar para limpar a honra da...   \n",
       "4595           saude  Vacina contra varíola dos macacos chega neste ...   \n",
       "1046  america_latina  O papel dos cartéis mexicanos na onda de violê...   \n",
       "3142        economia  Como crise do Credit Suisse manchou reputação ...   \n",
       "1672  america_latina  Como a Lei de Cotas incentivou a migração de a...   \n",
       "6525      tecnologia  'Deus invisível': quem é o hacker acusado de r...   \n",
       "5148         ciencia                   Por que Nova York está afundando   \n",
       "1905  america_latina  'Amazônia é como a bolsa de valores: dependend...   \n",
       "6959         cultura  Oscar 2023: a polêmica que pode desclassificar...   \n",
       "7923       sociedade  Por que 101 pessoas e uma cadela disputam o ca...   \n",
       "3320        economia  Como funciona o bilionário negócio de compra e...   \n",
       "8207       sociedade  'Homem mais sujo do mundo' morre aos 94 anos a...   \n",
       "5973      tecnologia  Boate Kiss: 'Famílias não querem exploração co...   \n",
       "700           brasil  Senadores dos EUA correm para nomear embaixado...   \n",
       "5294         ciencia  'Mais da metade da população mundial pode esta...   \n",
       "2623   internacional  Pesquisadores buscam vestígios de um dos últim...   \n",
       "2201   internacional  Motorista e entregador: onde trabalhadores de ...   \n",
       "2485   internacional  Surras, choques elétricos e fome: os prisionei...   \n",
       "7961       sociedade  O escândalo sexual que derrubou apresentador d...   \n",
       "\n",
       "                                                  texto        data  \\\n",
       "1313  \"Venezuela foi consertada\" é uma frase que cir...  2022-06-21   \n",
       "7867  Quando Manoj — que foi registrado como sendo d...  2023-07-28   \n",
       "4595  O Ministério da Saúde anunciou que as primeira...  2022-09-19   \n",
       "1046  \"Aqui pagamos com a vida pela democracia.\" Seu...  2023-08-10   \n",
       "3142  Segundo maior banco suíço e uma das 30 institu...  2023-03-21   \n",
       "1672  Criada em 2012 e prestes a passar por processo...  2020-12-29   \n",
       "6525  Só se sabia de três coisas sobre ele: 1) Fxmsp...  2020-07-31   \n",
       "5148  O solo sob a cidade de Nova York está afundand...  2023-05-25   \n",
       "1905  Para o procurador Daniel Azeredo, do Ministéri...  2020-10-09   \n",
       "6959  A indicação inesperada ao Oscar da atriz britâ...  2023-01-30   \n",
       "7923  Toronto decidirá nesta segunda-feira (26/6) qu...  2023-06-26   \n",
       "3320  Quase US$ 2 bilhões foram gastos em terrenos v...  2022-11-04   \n",
       "8207  Um eremita que ficou conhecido pela imprensa c...  2022-10-26   \n",
       "5973  A advogada de 42 famílias de vítimas e sobrevi...  2023-02-03   \n",
       "700   Na mesma semana em que o presidente americano,...  2022-12-07   \n",
       "5294  Mais da metade da população mundial será class...  2023-03-03   \n",
       "2623  No final de 1852, dois anos depois de ser publ...  2023-07-26   \n",
       "2201  Motoristas e entregadores devem ter um piso de...  2023-10-02   \n",
       "2485  Atenção: esta reportagem contém detalhes que p...  2023-08-20   \n",
       "7961  Um escândalo sexual derrubou um dos principais...  2023-05-29   \n",
       "\n",
       "                                                   link  categoria_pred  \n",
       "1313  https://www.bbc.com/portuguese/internacional-6...  america_latina  \n",
       "7867  https://www.bbc.com/portuguese/articles/c25gpy...       sociedade  \n",
       "4595     https://www.bbc.com/portuguese/brasil-62317822           saude  \n",
       "1046  https://www.bbc.com/portuguese/articles/cglyke...  america_latina  \n",
       "3142  https://www.bbc.com/portuguese/articles/crg02l...        economia  \n",
       "1672     https://www.bbc.com/portuguese/brasil-55225891  america_latina  \n",
       "6525  https://www.bbc.com/portuguese/internacional-5...      tecnologia  \n",
       "5148  https://www.bbc.com/portuguese/articles/cq53nd...         ciencia  \n",
       "1905     https://www.bbc.com/portuguese/brasil-54459038  america_latina  \n",
       "6959      https://www.bbc.com/portuguese/geral-64460473         cultura  \n",
       "7923  https://www.bbc.com/portuguese/articles/c14xvv...       sociedade  \n",
       "3320      https://www.bbc.com/portuguese/geral-63514882        economia  \n",
       "8207      https://www.bbc.com/portuguese/geral-63387422       sociedade  \n",
       "5973     https://www.bbc.com/portuguese/brasil-64452695      tecnologia  \n",
       "700       https://www.bbc.com/portuguese/geral-63891834          brasil  \n",
       "5294  https://www.bbc.com/portuguese/articles/cg6xw6...         ciencia  \n",
       "2623  https://www.bbc.com/portuguese/articles/cndkrk...   internacional  \n",
       "2201  https://www.bbc.com/portuguese/articles/crg0pr...   internacional  \n",
       "2485  https://www.bbc.com/portuguese/articles/c51jkd...   internacional  \n",
       "7961  https://www.bbc.com/portuguese/articles/c72j4g...       sociedade  "
      ]
     },
     "execution_count": 8,
     "metadata": {},
     "output_type": "execute_result"
    }
   ],
   "source": [
    "amostra"
   ]
  },
  {
   "cell_type": "code",
   "execution_count": null,
   "id": "617de458",
   "metadata": {},
   "outputs": [
    {
     "name": "stdout",
     "output_type": "stream",
     "text": [
      "                precision    recall  f1-score   support\n",
      "\n",
      "america_latina       1.00      1.00      1.00         4\n",
      "        brasil       1.00      1.00      1.00         1\n",
      "       ciencia       1.00      1.00      1.00         2\n",
      "       cultura       1.00      1.00      1.00         1\n",
      "      economia       1.00      1.00      1.00         2\n",
      " internacional       1.00      1.00      1.00         3\n",
      "         saude       1.00      1.00      1.00         1\n",
      "     sociedade       1.00      1.00      1.00         4\n",
      "    tecnologia       1.00      1.00      1.00         2\n",
      "\n",
      "      accuracy                           1.00        20\n",
      "     macro avg       1.00      1.00      1.00        20\n",
      "  weighted avg       1.00      1.00      1.00        20\n",
      "\n"
     ]
    }
   ],
   "source": [
    "# classifcation report\n",
    "from sklearn.metrics import classification_report\n",
    "\n",
    "print(classification_report(amostra.categoria, amostra.categoria_pred))\n"
   ]
  },
  {
   "cell_type": "markdown",
   "id": "c4fa7f5c",
   "metadata": {},
   "source": [
    "# Classificando um dataset mais complicado"
   ]
  },
  {
   "cell_type": "code",
   "execution_count": null,
   "id": "f1d66a1c",
   "metadata": {},
   "outputs": [
    {
     "data": {
      "text/plain": [
       "'1'"
      ]
     },
     "execution_count": 10,
     "metadata": {},
     "output_type": "execute_result"
    }
   ],
   "source": [
    "def classificar_pl(model, texto):\n",
    "    prompt = f\"\"\"\n",
    "    Classifique se o PL é favorável ou contrário ao direito das mulheres. Responda apenas com 1 ou 0, sem explicações, de acordo com as definições:\n",
    "\n",
    "    1: significa que o PL é desfavorável ao direito das mulheres.\n",
    "    0: significa que o PL é favorável ao direito das mulheres.  \n",
    "\n",
    "    ---\n",
    "\n",
    "    Texto: {texto}\n",
    "\n",
    "    Classes: 1, 0\n",
    "    \"\"\"\n",
    "    \n",
    "    resposta = str(model.prompt(prompt))   \n",
    "    \n",
    "    return resposta\n",
    "\n",
    "classificar_pl(modelo,\"Acabar com a Lei Maria da Penha\")"
   ]
  },
  {
   "cell_type": "code",
   "execution_count": null,
   "id": "768c0fb1",
   "metadata": {},
   "outputs": [
    {
     "data": {
      "text/plain": [
       "'0'"
      ]
     },
     "execution_count": 11,
     "metadata": {},
     "output_type": "execute_result"
    }
   ],
   "source": [
    "classificar_pl(modelo,\"Apoiar vítimas de violência doméstica\")"
   ]
  },
  {
   "cell_type": "code",
   "execution_count": null,
   "id": "daf14b4e",
   "metadata": {},
   "outputs": [],
   "source": [
    "ementas = load_dataset(\"azmina/ementas_anotadas_inteiroteor\")\n",
    "\n",
    "ementas_test = ementas['test'].to_pandas()"
   ]
  },
  {
   "cell_type": "code",
   "execution_count": null,
   "id": "b657528d",
   "metadata": {},
   "outputs": [
    {
     "data": {
      "text/html": [
       "<div>\n",
       "<style scoped>\n",
       "    .dataframe tbody tr th:only-of-type {\n",
       "        vertical-align: middle;\n",
       "    }\n",
       "\n",
       "    .dataframe tbody tr th {\n",
       "        vertical-align: top;\n",
       "    }\n",
       "\n",
       "    .dataframe thead th {\n",
       "        text-align: right;\n",
       "    }\n",
       "</style>\n",
       "<table border=\"1\" class=\"dataframe\">\n",
       "  <thead>\n",
       "    <tr style=\"text-align: right;\">\n",
       "      <th></th>\n",
       "      <th>id</th>\n",
       "      <th>text</th>\n",
       "      <th>label_tema</th>\n",
       "      <th>label_desfavoravel</th>\n",
       "      <th>proponente_mulher</th>\n",
       "      <th>partido</th>\n",
       "      <th>urlInteiroTeor</th>\n",
       "      <th>textoInteiroTeor</th>\n",
       "    </tr>\n",
       "  </thead>\n",
       "  <tbody>\n",
       "    <tr>\n",
       "      <th>0</th>\n",
       "      <td>PL 4546/2023</td>\n",
       "      <td>Proíbe o ensino de determinados conteúdos rela...</td>\n",
       "      <td>genero</td>\n",
       "      <td>1</td>\n",
       "      <td>M</td>\n",
       "      <td>MDB</td>\n",
       "      <td>https://www.camara.leg.br/proposicoesWeb/prop_...</td>\n",
       "      <td>PROJETO DE LEI Nº      , DE 2023\\n(DO SR. OLIV...</td>\n",
       "    </tr>\n",
       "    <tr>\n",
       "      <th>1</th>\n",
       "      <td>PDL 92/2023</td>\n",
       "      <td>Susta os efeitos da Portaria nº 665, de 23 dem...</td>\n",
       "      <td>genero</td>\n",
       "      <td>1</td>\n",
       "      <td>M</td>\n",
       "      <td>REPUBLICANOS</td>\n",
       "      <td>https://www.camara.leg.br/proposicoesWeb/prop_...</td>\n",
       "      <td>CÂMARA DOS DEPUTADOS\\nGabinete do Deputado Mes...</td>\n",
       "    </tr>\n",
       "    <tr>\n",
       "      <th>2</th>\n",
       "      <td>PL 2092/2021</td>\n",
       "      <td>Altera a Lei nº 8.080, de 19 de setembro de 19...</td>\n",
       "      <td>direitos sexuais e reprodutivos</td>\n",
       "      <td>0</td>\n",
       "      <td>M</td>\n",
       "      <td>PP</td>\n",
       "      <td>https://www.camara.leg.br/proposicoesWeb/prop_...</td>\n",
       "      <td>\\nPROJETO DE LEI  Nº    , DE 20 21 \\n(Do Sr. ...</td>\n",
       "    </tr>\n",
       "    <tr>\n",
       "      <th>3</th>\n",
       "      <td>PL 2736/2023</td>\n",
       "      <td>Estabelece a obrigatoriedade de submissão à mo...</td>\n",
       "      <td>violencia contra a mulher</td>\n",
       "      <td>1</td>\n",
       "      <td>M</td>\n",
       "      <td>PP</td>\n",
       "      <td>https://www.camara.leg.br/proposicoesWeb/prop_...</td>\n",
       "      <td>CÂMARA DOS DEPUTADOS  \\nGabinete do Deputado L...</td>\n",
       "    </tr>\n",
       "    <tr>\n",
       "      <th>4</th>\n",
       "      <td>PL 741/2021</td>\n",
       "      <td>Altera o Decreto-Lei nº 2.848, de 7 de dezembr...</td>\n",
       "      <td>violencia contra a mulher</td>\n",
       "      <td>0</td>\n",
       "      <td>F</td>\n",
       "      <td>PROS</td>\n",
       "      <td>https://www.camara.leg.br/proposicoesWeb/prop_...</td>\n",
       "      <td>PROJETO DE LEI Nº       2021\\n(Das Sras. Marga...</td>\n",
       "    </tr>\n",
       "  </tbody>\n",
       "</table>\n",
       "</div>"
      ],
      "text/plain": [
       "             id                                               text  \\\n",
       "0  PL 4546/2023  Proíbe o ensino de determinados conteúdos rela...   \n",
       "1   PDL 92/2023  Susta os efeitos da Portaria nº 665, de 23 dem...   \n",
       "2  PL 2092/2021  Altera a Lei nº 8.080, de 19 de setembro de 19...   \n",
       "3  PL 2736/2023  Estabelece a obrigatoriedade de submissão à mo...   \n",
       "4   PL 741/2021  Altera o Decreto-Lei nº 2.848, de 7 de dezembr...   \n",
       "\n",
       "                        label_tema  label_desfavoravel proponente_mulher  \\\n",
       "0                           genero                   1                 M   \n",
       "1                           genero                   1                 M   \n",
       "2  direitos sexuais e reprodutivos                   0                 M   \n",
       "3        violencia contra a mulher                   1                 M   \n",
       "4        violencia contra a mulher                   0                 F   \n",
       "\n",
       "        partido                                     urlInteiroTeor  \\\n",
       "0           MDB  https://www.camara.leg.br/proposicoesWeb/prop_...   \n",
       "1  REPUBLICANOS  https://www.camara.leg.br/proposicoesWeb/prop_...   \n",
       "2            PP  https://www.camara.leg.br/proposicoesWeb/prop_...   \n",
       "3            PP  https://www.camara.leg.br/proposicoesWeb/prop_...   \n",
       "4          PROS  https://www.camara.leg.br/proposicoesWeb/prop_...   \n",
       "\n",
       "                                    textoInteiroTeor  \n",
       "0  PROJETO DE LEI Nº      , DE 2023\\n(DO SR. OLIV...  \n",
       "1  CÂMARA DOS DEPUTADOS\\nGabinete do Deputado Mes...  \n",
       "2   \\nPROJETO DE LEI  Nº    , DE 20 21 \\n(Do Sr. ...  \n",
       "3  CÂMARA DOS DEPUTADOS  \\nGabinete do Deputado L...  \n",
       "4  PROJETO DE LEI Nº       2021\\n(Das Sras. Marga...  "
      ]
     },
     "execution_count": 13,
     "metadata": {},
     "output_type": "execute_result"
    }
   ],
   "source": [
    "ementas_test.head()"
   ]
  },
  {
   "cell_type": "code",
   "execution_count": null,
   "id": "9fa96d9c",
   "metadata": {},
   "outputs": [
    {
     "name": "stderr",
     "output_type": "stream",
     "text": [
      " 51%|█████     | 51/100 [00:54<00:52,  1.07s/it]\n"
     ]
    },
    {
     "ename": "ModelError",
     "evalue": "429: invalid_request_error - Service tier capacity exceeded for this model.",
     "output_type": "error",
     "traceback": [
      "\u001b[0;31m---------------------------------------------------------------------------\u001b[0m",
      "\u001b[0;31mModelError\u001b[0m                                Traceback (most recent call last)",
      "Cell \u001b[0;32mIn[14], line 4\u001b[0m\n\u001b[1;32m      1\u001b[0m amostra_ementas \u001b[38;5;241m=\u001b[39m ementas_test\u001b[38;5;241m.\u001b[39msample(\u001b[38;5;241m100\u001b[39m,random_state\u001b[38;5;241m=\u001b[39m\u001b[38;5;241m222\u001b[39m)\n\u001b[0;32m----> 4\u001b[0m amostra_ementas[\u001b[38;5;124m'\u001b[39m\u001b[38;5;124mlabel_pred\u001b[39m\u001b[38;5;124m'\u001b[39m] \u001b[38;5;241m=\u001b[39m \u001b[43mamostra_ementas\u001b[49m\u001b[43m[\u001b[49m\u001b[38;5;124;43m'\u001b[39;49m\u001b[38;5;124;43mtext\u001b[39;49m\u001b[38;5;124;43m'\u001b[39;49m\u001b[43m]\u001b[49m\u001b[38;5;241;43m.\u001b[39;49m\u001b[43mprogress_apply\u001b[49m\u001b[43m(\u001b[49m\u001b[38;5;28;43;01mlambda\u001b[39;49;00m\u001b[43m \u001b[49m\u001b[43mx\u001b[49m\u001b[43m:\u001b[49m\u001b[43m \u001b[49m\u001b[43mclassificar_pl\u001b[49m\u001b[43m(\u001b[49m\u001b[43mmodelo\u001b[49m\u001b[43m,\u001b[49m\u001b[43mx\u001b[49m\u001b[43m)\u001b[49m\u001b[43m)\u001b[49m\n",
      "File \u001b[0;32m~/Documents/abraji/.venv/lib/python3.10/site-packages/tqdm/std.py:917\u001b[0m, in \u001b[0;36mtqdm.pandas.<locals>.inner_generator.<locals>.inner\u001b[0;34m(df, func, *args, **kwargs)\u001b[0m\n\u001b[1;32m    914\u001b[0m \u001b[38;5;66;03m# Apply the provided function (in **kwargs)\u001b[39;00m\n\u001b[1;32m    915\u001b[0m \u001b[38;5;66;03m# on the df using our wrapper (which provides bar updating)\u001b[39;00m\n\u001b[1;32m    916\u001b[0m \u001b[38;5;28;01mtry\u001b[39;00m:\n\u001b[0;32m--> 917\u001b[0m     \u001b[38;5;28;01mreturn\u001b[39;00m \u001b[38;5;28;43mgetattr\u001b[39;49m\u001b[43m(\u001b[49m\u001b[43mdf\u001b[49m\u001b[43m,\u001b[49m\u001b[43m \u001b[49m\u001b[43mdf_function\u001b[49m\u001b[43m)\u001b[49m\u001b[43m(\u001b[49m\u001b[43mwrapper\u001b[49m\u001b[43m,\u001b[49m\u001b[43m \u001b[49m\u001b[38;5;241;43m*\u001b[39;49m\u001b[38;5;241;43m*\u001b[39;49m\u001b[43mkwargs\u001b[49m\u001b[43m)\u001b[49m\n\u001b[1;32m    918\u001b[0m \u001b[38;5;28;01mfinally\u001b[39;00m:\n\u001b[1;32m    919\u001b[0m     t\u001b[38;5;241m.\u001b[39mclose()\n",
      "File \u001b[0;32m~/Documents/abraji/.venv/lib/python3.10/site-packages/pandas/core/series.py:4935\u001b[0m, in \u001b[0;36mSeries.apply\u001b[0;34m(self, func, convert_dtype, args, by_row, **kwargs)\u001b[0m\n\u001b[1;32m   4800\u001b[0m \u001b[38;5;28;01mdef\u001b[39;00m\u001b[38;5;250m \u001b[39m\u001b[38;5;21mapply\u001b[39m(\n\u001b[1;32m   4801\u001b[0m     \u001b[38;5;28mself\u001b[39m,\n\u001b[1;32m   4802\u001b[0m     func: AggFuncType,\n\u001b[0;32m   (...)\u001b[0m\n\u001b[1;32m   4807\u001b[0m     \u001b[38;5;241m*\u001b[39m\u001b[38;5;241m*\u001b[39mkwargs,\n\u001b[1;32m   4808\u001b[0m ) \u001b[38;5;241m-\u001b[39m\u001b[38;5;241m>\u001b[39m DataFrame \u001b[38;5;241m|\u001b[39m Series:\n\u001b[1;32m   4809\u001b[0m \u001b[38;5;250m    \u001b[39m\u001b[38;5;124;03m\"\"\"\u001b[39;00m\n\u001b[1;32m   4810\u001b[0m \u001b[38;5;124;03m    Invoke function on values of Series.\u001b[39;00m\n\u001b[1;32m   4811\u001b[0m \n\u001b[0;32m   (...)\u001b[0m\n\u001b[1;32m   4926\u001b[0m \u001b[38;5;124;03m    dtype: float64\u001b[39;00m\n\u001b[1;32m   4927\u001b[0m \u001b[38;5;124;03m    \"\"\"\u001b[39;00m\n\u001b[1;32m   4928\u001b[0m     \u001b[38;5;28;01mreturn\u001b[39;00m \u001b[43mSeriesApply\u001b[49m\u001b[43m(\u001b[49m\n\u001b[1;32m   4929\u001b[0m \u001b[43m        \u001b[49m\u001b[38;5;28;43mself\u001b[39;49m\u001b[43m,\u001b[49m\n\u001b[1;32m   4930\u001b[0m \u001b[43m        \u001b[49m\u001b[43mfunc\u001b[49m\u001b[43m,\u001b[49m\n\u001b[1;32m   4931\u001b[0m \u001b[43m        \u001b[49m\u001b[43mconvert_dtype\u001b[49m\u001b[38;5;241;43m=\u001b[39;49m\u001b[43mconvert_dtype\u001b[49m\u001b[43m,\u001b[49m\n\u001b[1;32m   4932\u001b[0m \u001b[43m        \u001b[49m\u001b[43mby_row\u001b[49m\u001b[38;5;241;43m=\u001b[39;49m\u001b[43mby_row\u001b[49m\u001b[43m,\u001b[49m\n\u001b[1;32m   4933\u001b[0m \u001b[43m        \u001b[49m\u001b[43margs\u001b[49m\u001b[38;5;241;43m=\u001b[39;49m\u001b[43margs\u001b[49m\u001b[43m,\u001b[49m\n\u001b[1;32m   4934\u001b[0m \u001b[43m        \u001b[49m\u001b[43mkwargs\u001b[49m\u001b[38;5;241;43m=\u001b[39;49m\u001b[43mkwargs\u001b[49m\u001b[43m,\u001b[49m\n\u001b[0;32m-> 4935\u001b[0m \u001b[43m    \u001b[49m\u001b[43m)\u001b[49m\u001b[38;5;241;43m.\u001b[39;49m\u001b[43mapply\u001b[49m\u001b[43m(\u001b[49m\u001b[43m)\u001b[49m\n",
      "File \u001b[0;32m~/Documents/abraji/.venv/lib/python3.10/site-packages/pandas/core/apply.py:1422\u001b[0m, in \u001b[0;36mSeriesApply.apply\u001b[0;34m(self)\u001b[0m\n\u001b[1;32m   1419\u001b[0m     \u001b[38;5;28;01mreturn\u001b[39;00m \u001b[38;5;28mself\u001b[39m\u001b[38;5;241m.\u001b[39mapply_compat()\n\u001b[1;32m   1421\u001b[0m \u001b[38;5;66;03m# self.func is Callable\u001b[39;00m\n\u001b[0;32m-> 1422\u001b[0m \u001b[38;5;28;01mreturn\u001b[39;00m \u001b[38;5;28;43mself\u001b[39;49m\u001b[38;5;241;43m.\u001b[39;49m\u001b[43mapply_standard\u001b[49m\u001b[43m(\u001b[49m\u001b[43m)\u001b[49m\n",
      "File \u001b[0;32m~/Documents/abraji/.venv/lib/python3.10/site-packages/pandas/core/apply.py:1502\u001b[0m, in \u001b[0;36mSeriesApply.apply_standard\u001b[0;34m(self)\u001b[0m\n\u001b[1;32m   1496\u001b[0m \u001b[38;5;66;03m# row-wise access\u001b[39;00m\n\u001b[1;32m   1497\u001b[0m \u001b[38;5;66;03m# apply doesn't have a `na_action` keyword and for backward compat reasons\u001b[39;00m\n\u001b[1;32m   1498\u001b[0m \u001b[38;5;66;03m# we need to give `na_action=\"ignore\"` for categorical data.\u001b[39;00m\n\u001b[1;32m   1499\u001b[0m \u001b[38;5;66;03m# TODO: remove the `na_action=\"ignore\"` when that default has been changed in\u001b[39;00m\n\u001b[1;32m   1500\u001b[0m \u001b[38;5;66;03m#  Categorical (GH51645).\u001b[39;00m\n\u001b[1;32m   1501\u001b[0m action \u001b[38;5;241m=\u001b[39m \u001b[38;5;124m\"\u001b[39m\u001b[38;5;124mignore\u001b[39m\u001b[38;5;124m\"\u001b[39m \u001b[38;5;28;01mif\u001b[39;00m \u001b[38;5;28misinstance\u001b[39m(obj\u001b[38;5;241m.\u001b[39mdtype, CategoricalDtype) \u001b[38;5;28;01melse\u001b[39;00m \u001b[38;5;28;01mNone\u001b[39;00m\n\u001b[0;32m-> 1502\u001b[0m mapped \u001b[38;5;241m=\u001b[39m \u001b[43mobj\u001b[49m\u001b[38;5;241;43m.\u001b[39;49m\u001b[43m_map_values\u001b[49m\u001b[43m(\u001b[49m\n\u001b[1;32m   1503\u001b[0m \u001b[43m    \u001b[49m\u001b[43mmapper\u001b[49m\u001b[38;5;241;43m=\u001b[39;49m\u001b[43mcurried\u001b[49m\u001b[43m,\u001b[49m\u001b[43m \u001b[49m\u001b[43mna_action\u001b[49m\u001b[38;5;241;43m=\u001b[39;49m\u001b[43maction\u001b[49m\u001b[43m,\u001b[49m\u001b[43m \u001b[49m\u001b[43mconvert\u001b[49m\u001b[38;5;241;43m=\u001b[39;49m\u001b[38;5;28;43mself\u001b[39;49m\u001b[38;5;241;43m.\u001b[39;49m\u001b[43mconvert_dtype\u001b[49m\n\u001b[1;32m   1504\u001b[0m \u001b[43m\u001b[49m\u001b[43m)\u001b[49m\n\u001b[1;32m   1506\u001b[0m \u001b[38;5;28;01mif\u001b[39;00m \u001b[38;5;28mlen\u001b[39m(mapped) \u001b[38;5;129;01mand\u001b[39;00m \u001b[38;5;28misinstance\u001b[39m(mapped[\u001b[38;5;241m0\u001b[39m], ABCSeries):\n\u001b[1;32m   1507\u001b[0m     \u001b[38;5;66;03m# GH#43986 Need to do list(mapped) in order to get treated as nested\u001b[39;00m\n\u001b[1;32m   1508\u001b[0m     \u001b[38;5;66;03m#  See also GH#25959 regarding EA support\u001b[39;00m\n\u001b[1;32m   1509\u001b[0m     \u001b[38;5;28;01mreturn\u001b[39;00m obj\u001b[38;5;241m.\u001b[39m_constructor_expanddim(\u001b[38;5;28mlist\u001b[39m(mapped), index\u001b[38;5;241m=\u001b[39mobj\u001b[38;5;241m.\u001b[39mindex)\n",
      "File \u001b[0;32m~/Documents/abraji/.venv/lib/python3.10/site-packages/pandas/core/base.py:925\u001b[0m, in \u001b[0;36mIndexOpsMixin._map_values\u001b[0;34m(self, mapper, na_action, convert)\u001b[0m\n\u001b[1;32m    922\u001b[0m \u001b[38;5;28;01mif\u001b[39;00m \u001b[38;5;28misinstance\u001b[39m(arr, ExtensionArray):\n\u001b[1;32m    923\u001b[0m     \u001b[38;5;28;01mreturn\u001b[39;00m arr\u001b[38;5;241m.\u001b[39mmap(mapper, na_action\u001b[38;5;241m=\u001b[39mna_action)\n\u001b[0;32m--> 925\u001b[0m \u001b[38;5;28;01mreturn\u001b[39;00m \u001b[43malgorithms\u001b[49m\u001b[38;5;241;43m.\u001b[39;49m\u001b[43mmap_array\u001b[49m\u001b[43m(\u001b[49m\u001b[43marr\u001b[49m\u001b[43m,\u001b[49m\u001b[43m \u001b[49m\u001b[43mmapper\u001b[49m\u001b[43m,\u001b[49m\u001b[43m \u001b[49m\u001b[43mna_action\u001b[49m\u001b[38;5;241;43m=\u001b[39;49m\u001b[43mna_action\u001b[49m\u001b[43m,\u001b[49m\u001b[43m \u001b[49m\u001b[43mconvert\u001b[49m\u001b[38;5;241;43m=\u001b[39;49m\u001b[43mconvert\u001b[49m\u001b[43m)\u001b[49m\n",
      "File \u001b[0;32m~/Documents/abraji/.venv/lib/python3.10/site-packages/pandas/core/algorithms.py:1743\u001b[0m, in \u001b[0;36mmap_array\u001b[0;34m(arr, mapper, na_action, convert)\u001b[0m\n\u001b[1;32m   1741\u001b[0m values \u001b[38;5;241m=\u001b[39m arr\u001b[38;5;241m.\u001b[39mastype(\u001b[38;5;28mobject\u001b[39m, copy\u001b[38;5;241m=\u001b[39m\u001b[38;5;28;01mFalse\u001b[39;00m)\n\u001b[1;32m   1742\u001b[0m \u001b[38;5;28;01mif\u001b[39;00m na_action \u001b[38;5;129;01mis\u001b[39;00m \u001b[38;5;28;01mNone\u001b[39;00m:\n\u001b[0;32m-> 1743\u001b[0m     \u001b[38;5;28;01mreturn\u001b[39;00m \u001b[43mlib\u001b[49m\u001b[38;5;241;43m.\u001b[39;49m\u001b[43mmap_infer\u001b[49m\u001b[43m(\u001b[49m\u001b[43mvalues\u001b[49m\u001b[43m,\u001b[49m\u001b[43m \u001b[49m\u001b[43mmapper\u001b[49m\u001b[43m,\u001b[49m\u001b[43m \u001b[49m\u001b[43mconvert\u001b[49m\u001b[38;5;241;43m=\u001b[39;49m\u001b[43mconvert\u001b[49m\u001b[43m)\u001b[49m\n\u001b[1;32m   1744\u001b[0m \u001b[38;5;28;01melse\u001b[39;00m:\n\u001b[1;32m   1745\u001b[0m     \u001b[38;5;28;01mreturn\u001b[39;00m lib\u001b[38;5;241m.\u001b[39mmap_infer_mask(\n\u001b[1;32m   1746\u001b[0m         values, mapper, mask\u001b[38;5;241m=\u001b[39misna(values)\u001b[38;5;241m.\u001b[39mview(np\u001b[38;5;241m.\u001b[39muint8), convert\u001b[38;5;241m=\u001b[39mconvert\n\u001b[1;32m   1747\u001b[0m     )\n",
      "File \u001b[0;32mpandas/_libs/lib.pyx:2999\u001b[0m, in \u001b[0;36mpandas._libs.lib.map_infer\u001b[0;34m()\u001b[0m\n",
      "File \u001b[0;32m~/Documents/abraji/.venv/lib/python3.10/site-packages/tqdm/std.py:912\u001b[0m, in \u001b[0;36mtqdm.pandas.<locals>.inner_generator.<locals>.inner.<locals>.wrapper\u001b[0;34m(*args, **kwargs)\u001b[0m\n\u001b[1;32m    906\u001b[0m \u001b[38;5;28;01mdef\u001b[39;00m\u001b[38;5;250m \u001b[39m\u001b[38;5;21mwrapper\u001b[39m(\u001b[38;5;241m*\u001b[39margs, \u001b[38;5;241m*\u001b[39m\u001b[38;5;241m*\u001b[39mkwargs):\n\u001b[1;32m    907\u001b[0m     \u001b[38;5;66;03m# update tbar correctly\u001b[39;00m\n\u001b[1;32m    908\u001b[0m     \u001b[38;5;66;03m# it seems `pandas apply` calls `func` twice\u001b[39;00m\n\u001b[1;32m    909\u001b[0m     \u001b[38;5;66;03m# on the first column/row to decide whether it can\u001b[39;00m\n\u001b[1;32m    910\u001b[0m     \u001b[38;5;66;03m# take a fast or slow code path; so stop when t.total==t.n\u001b[39;00m\n\u001b[1;32m    911\u001b[0m     t\u001b[38;5;241m.\u001b[39mupdate(n\u001b[38;5;241m=\u001b[39m\u001b[38;5;241m1\u001b[39m \u001b[38;5;28;01mif\u001b[39;00m \u001b[38;5;129;01mnot\u001b[39;00m t\u001b[38;5;241m.\u001b[39mtotal \u001b[38;5;129;01mor\u001b[39;00m t\u001b[38;5;241m.\u001b[39mn \u001b[38;5;241m<\u001b[39m t\u001b[38;5;241m.\u001b[39mtotal \u001b[38;5;28;01melse\u001b[39;00m \u001b[38;5;241m0\u001b[39m)\n\u001b[0;32m--> 912\u001b[0m     \u001b[38;5;28;01mreturn\u001b[39;00m \u001b[43mfunc\u001b[49m\u001b[43m(\u001b[49m\u001b[38;5;241;43m*\u001b[39;49m\u001b[43margs\u001b[49m\u001b[43m,\u001b[49m\u001b[43m \u001b[49m\u001b[38;5;241;43m*\u001b[39;49m\u001b[38;5;241;43m*\u001b[39;49m\u001b[43mkwargs\u001b[49m\u001b[43m)\u001b[49m\n",
      "Cell \u001b[0;32mIn[14], line 4\u001b[0m, in \u001b[0;36m<lambda>\u001b[0;34m(x)\u001b[0m\n\u001b[1;32m      1\u001b[0m amostra_ementas \u001b[38;5;241m=\u001b[39m ementas_test\u001b[38;5;241m.\u001b[39msample(\u001b[38;5;241m100\u001b[39m,random_state\u001b[38;5;241m=\u001b[39m\u001b[38;5;241m222\u001b[39m)\n\u001b[0;32m----> 4\u001b[0m amostra_ementas[\u001b[38;5;124m'\u001b[39m\u001b[38;5;124mlabel_pred\u001b[39m\u001b[38;5;124m'\u001b[39m] \u001b[38;5;241m=\u001b[39m amostra_ementas[\u001b[38;5;124m'\u001b[39m\u001b[38;5;124mtext\u001b[39m\u001b[38;5;124m'\u001b[39m]\u001b[38;5;241m.\u001b[39mprogress_apply(\u001b[38;5;28;01mlambda\u001b[39;00m x: \u001b[43mclassificar_pl\u001b[49m\u001b[43m(\u001b[49m\u001b[43mmodelo\u001b[49m\u001b[43m,\u001b[49m\u001b[43mx\u001b[49m\u001b[43m)\u001b[49m)\n",
      "Cell \u001b[0;32mIn[10], line 15\u001b[0m, in \u001b[0;36mclassificar_pl\u001b[0;34m(model, texto)\u001b[0m\n\u001b[1;32m      1\u001b[0m \u001b[38;5;28;01mdef\u001b[39;00m\u001b[38;5;250m \u001b[39m\u001b[38;5;21mclassificar_pl\u001b[39m(model, texto):\n\u001b[1;32m      2\u001b[0m     prompt \u001b[38;5;241m=\u001b[39m \u001b[38;5;124mf\u001b[39m\u001b[38;5;124m\"\"\"\u001b[39m\n\u001b[1;32m      3\u001b[0m \u001b[38;5;124m    Classifique se o PL é favorável ou contrário ao direito das mulheres. Responda apenas com 1 ou 0, sem explicações, de acordo com as definições:\u001b[39m\n\u001b[1;32m      4\u001b[0m \n\u001b[0;32m   (...)\u001b[0m\n\u001b[1;32m     12\u001b[0m \u001b[38;5;124m    Classes: 1, 0\u001b[39m\n\u001b[1;32m     13\u001b[0m \u001b[38;5;124m    \u001b[39m\u001b[38;5;124m\"\"\"\u001b[39m\n\u001b[0;32m---> 15\u001b[0m     resposta \u001b[38;5;241m=\u001b[39m \u001b[38;5;28;43mstr\u001b[39;49m\u001b[43m(\u001b[49m\u001b[43mmodel\u001b[49m\u001b[38;5;241;43m.\u001b[39;49m\u001b[43mprompt\u001b[49m\u001b[43m(\u001b[49m\u001b[43mprompt\u001b[49m\u001b[43m)\u001b[49m\u001b[43m)\u001b[49m   \n\u001b[1;32m     17\u001b[0m     \u001b[38;5;28;01mreturn\u001b[39;00m resposta\n",
      "File \u001b[0;32m~/Documents/abraji/.venv/lib/python3.10/site-packages/llm/models.py:910\u001b[0m, in \u001b[0;36mResponse.__str__\u001b[0;34m(self)\u001b[0m\n\u001b[1;32m    909\u001b[0m \u001b[38;5;28;01mdef\u001b[39;00m\u001b[38;5;250m \u001b[39m\u001b[38;5;21m__str__\u001b[39m(\u001b[38;5;28mself\u001b[39m) \u001b[38;5;241m-\u001b[39m\u001b[38;5;241m>\u001b[39m \u001b[38;5;28mstr\u001b[39m:\n\u001b[0;32m--> 910\u001b[0m     \u001b[38;5;28;01mreturn\u001b[39;00m \u001b[38;5;28;43mself\u001b[39;49m\u001b[38;5;241;43m.\u001b[39;49m\u001b[43mtext\u001b[49m\u001b[43m(\u001b[49m\u001b[43m)\u001b[49m\n",
      "File \u001b[0;32m~/Documents/abraji/.venv/lib/python3.10/site-packages/llm/models.py:917\u001b[0m, in \u001b[0;36mResponse.text\u001b[0;34m(self)\u001b[0m\n\u001b[1;32m    916\u001b[0m \u001b[38;5;28;01mdef\u001b[39;00m\u001b[38;5;250m \u001b[39m\u001b[38;5;21mtext\u001b[39m(\u001b[38;5;28mself\u001b[39m) \u001b[38;5;241m-\u001b[39m\u001b[38;5;241m>\u001b[39m \u001b[38;5;28mstr\u001b[39m:\n\u001b[0;32m--> 917\u001b[0m     \u001b[38;5;28;43mself\u001b[39;49m\u001b[38;5;241;43m.\u001b[39;49m\u001b[43m_force\u001b[49m\u001b[43m(\u001b[49m\u001b[43m)\u001b[49m\n\u001b[1;32m    918\u001b[0m     \u001b[38;5;28;01mreturn\u001b[39;00m \u001b[38;5;124m\"\u001b[39m\u001b[38;5;124m\"\u001b[39m\u001b[38;5;241m.\u001b[39mjoin(\u001b[38;5;28mself\u001b[39m\u001b[38;5;241m.\u001b[39m_chunks)\n",
      "File \u001b[0;32m~/Documents/abraji/.venv/lib/python3.10/site-packages/llm/models.py:914\u001b[0m, in \u001b[0;36mResponse._force\u001b[0;34m(self)\u001b[0m\n\u001b[1;32m    912\u001b[0m \u001b[38;5;28;01mdef\u001b[39;00m\u001b[38;5;250m \u001b[39m\u001b[38;5;21m_force\u001b[39m(\u001b[38;5;28mself\u001b[39m):\n\u001b[1;32m    913\u001b[0m     \u001b[38;5;28;01mif\u001b[39;00m \u001b[38;5;129;01mnot\u001b[39;00m \u001b[38;5;28mself\u001b[39m\u001b[38;5;241m.\u001b[39m_done:\n\u001b[0;32m--> 914\u001b[0m         \u001b[38;5;28;43mlist\u001b[39;49m\u001b[43m(\u001b[49m\u001b[38;5;28;43mself\u001b[39;49m\u001b[43m)\u001b[49m\n",
      "File \u001b[0;32m~/Documents/abraji/.venv/lib/python3.10/site-packages/llm/models.py:1033\u001b[0m, in \u001b[0;36mResponse.__iter__\u001b[0;34m(self)\u001b[0m\n\u001b[1;32m   1031\u001b[0m         \u001b[38;5;28mself\u001b[39m\u001b[38;5;241m.\u001b[39m_chunks\u001b[38;5;241m.\u001b[39mappend(chunk)\n\u001b[1;32m   1032\u001b[0m \u001b[38;5;28;01melif\u001b[39;00m \u001b[38;5;28misinstance\u001b[39m(\u001b[38;5;28mself\u001b[39m\u001b[38;5;241m.\u001b[39mmodel, KeyModel):\n\u001b[0;32m-> 1033\u001b[0m     \u001b[38;5;28;01mfor\u001b[39;00m chunk \u001b[38;5;129;01min\u001b[39;00m \u001b[38;5;28mself\u001b[39m\u001b[38;5;241m.\u001b[39mmodel\u001b[38;5;241m.\u001b[39mexecute(\n\u001b[1;32m   1034\u001b[0m         \u001b[38;5;28mself\u001b[39m\u001b[38;5;241m.\u001b[39mprompt,\n\u001b[1;32m   1035\u001b[0m         stream\u001b[38;5;241m=\u001b[39m\u001b[38;5;28mself\u001b[39m\u001b[38;5;241m.\u001b[39mstream,\n\u001b[1;32m   1036\u001b[0m         response\u001b[38;5;241m=\u001b[39m\u001b[38;5;28mself\u001b[39m,\n\u001b[1;32m   1037\u001b[0m         conversation\u001b[38;5;241m=\u001b[39m\u001b[38;5;28mself\u001b[39m\u001b[38;5;241m.\u001b[39mconversation,\n\u001b[1;32m   1038\u001b[0m         key\u001b[38;5;241m=\u001b[39m\u001b[38;5;28mself\u001b[39m\u001b[38;5;241m.\u001b[39mmodel\u001b[38;5;241m.\u001b[39mget_key(\u001b[38;5;28mself\u001b[39m\u001b[38;5;241m.\u001b[39m_key),\n\u001b[1;32m   1039\u001b[0m     ):\n\u001b[1;32m   1040\u001b[0m         \u001b[38;5;28;01massert\u001b[39;00m chunk \u001b[38;5;129;01mis\u001b[39;00m \u001b[38;5;129;01mnot\u001b[39;00m \u001b[38;5;28;01mNone\u001b[39;00m\n\u001b[1;32m   1041\u001b[0m         \u001b[38;5;28;01myield\u001b[39;00m chunk\n",
      "File \u001b[0;32m~/Documents/abraji/.venv/lib/python3.10/site-packages/llm_mistral.py:484\u001b[0m, in \u001b[0;36mMistral.execute\u001b[0;34m(self, prompt, stream, response, conversation, key)\u001b[0m\n\u001b[1;32m    482\u001b[0m     words \u001b[38;5;241m=\u001b[39m [word[:\u001b[38;5;241m30\u001b[39m] \u001b[38;5;28;01mfor\u001b[39;00m word \u001b[38;5;129;01min\u001b[39;00m words]\n\u001b[1;32m    483\u001b[0m     message \u001b[38;5;241m=\u001b[39m \u001b[38;5;124m\"\u001b[39m\u001b[38;5;124m \u001b[39m\u001b[38;5;124m\"\u001b[39m\u001b[38;5;241m.\u001b[39mjoin(words)\n\u001b[0;32m--> 484\u001b[0m     \u001b[38;5;28;01mraise\u001b[39;00m llm\u001b[38;5;241m.\u001b[39mModelError(\n\u001b[1;32m    485\u001b[0m         \u001b[38;5;124mf\u001b[39m\u001b[38;5;124m\"\u001b[39m\u001b[38;5;132;01m{\u001b[39;00mevent_source\u001b[38;5;241m.\u001b[39mresponse\u001b[38;5;241m.\u001b[39mstatus_code\u001b[38;5;132;01m}\u001b[39;00m\u001b[38;5;124m: \u001b[39m\u001b[38;5;132;01m{\u001b[39;00m\u001b[38;5;28mtype\u001b[39m\u001b[38;5;132;01m}\u001b[39;00m\u001b[38;5;124m - \u001b[39m\u001b[38;5;132;01m{\u001b[39;00mmessage\u001b[38;5;132;01m}\u001b[39;00m\u001b[38;5;124m\"\u001b[39m\n\u001b[1;32m    486\u001b[0m     )\n\u001b[1;32m    487\u001b[0m usage \u001b[38;5;241m=\u001b[39m \u001b[38;5;28;01mNone\u001b[39;00m\n\u001b[1;32m    488\u001b[0m event_source\u001b[38;5;241m.\u001b[39mresponse\u001b[38;5;241m.\u001b[39mraise_for_status()\n",
      "\u001b[0;31mModelError\u001b[0m: 429: invalid_request_error - Service tier capacity exceeded for this model."
     ]
    }
   ],
   "source": [
    "amostra_ementas = ementas_test.sample(20,random_state=222)\n",
    "\n",
    "\n",
    "amostra_ementas['label_pred'] = amostra_ementas['text'].progress_apply(lambda x: classificar_pl(modelo,x))"
   ]
  },
  {
   "cell_type": "code",
   "execution_count": null,
   "id": "edee25e3",
   "metadata": {},
   "outputs": [
    {
     "name": "stdout",
     "output_type": "stream",
     "text": [
      "              precision    recall  f1-score   support\n",
      "\n",
      "           0       0.84      0.95      0.89        38\n",
      "           1       0.71      0.42      0.53        12\n",
      "\n",
      "    accuracy                           0.82        50\n",
      "   macro avg       0.78      0.68      0.71        50\n",
      "weighted avg       0.81      0.82      0.80        50\n",
      "\n"
     ]
    }
   ],
   "source": [
    "print(classification_report(amostra_ementas['label_desfavoravel'].astype(str), amostra_ementas['label_pred'].astype(str)))\n"
   ]
  }
 ],
 "metadata": {
  "kernelspec": {
   "display_name": "abraji-py3.10",
   "language": "python",
   "name": "python3"
  },
  "language_info": {
   "codemirror_mode": {
    "name": "ipython",
    "version": 3
   },
   "file_extension": ".py",
   "mimetype": "text/x-python",
   "name": "python",
   "nbconvert_exporter": "python",
   "pygments_lexer": "ipython3",
   "version": "3.10.12"
  }
 },
 "nbformat": 4,
 "nbformat_minor": 5
}
