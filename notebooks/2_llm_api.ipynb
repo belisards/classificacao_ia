{
 "cells": [
  {
   "cell_type": "markdown",
   "id": "be016aa5",
   "metadata": {},
   "source": [
    "# Consultando uma LLM"
   ]
  },
  {
   "cell_type": "code",
   "execution_count": 3,
   "id": "428e4a37",
   "metadata": {},
   "outputs": [
    {
     "name": "stdout",
     "output_type": "stream",
     "text": [
      "Esportes\n"
     ]
    }
   ],
   "source": [
    "import llm, os, dotenv\n",
    "\n",
    "dotenv.load_dotenv()\n",
    "\n",
    "mistral_token = os.getenv(\"MISTRAL\")\n",
    "# mistral_token = <INSIRA SUA CHAVE AQUI>\n",
    "\n",
    "modelo = llm.get_model(\"mistral-medium\")\n",
    "\n",
    "resposta = modelo.prompt(\n",
    "    \"\"\"\n",
    "    Classifique o texto abaixo. Responda apenas com a classe, sem explicações.\n",
    "\n",
    "    Texto: O Botafogo ganhou do PSG no Mundial.\n",
    "\n",
    "    Classes: Política, Esportes, Economia, Outros.\n",
    "    \"\"\",\n",
    "    key=mistral_token\n",
    ")\n",
    "\n",
    "print(resposta)"
   ]
  },
  {
   "cell_type": "markdown",
   "id": "ee682f2f",
   "metadata": {},
   "source": [
    "# Classificando um dataset"
   ]
  },
  {
   "cell_type": "code",
   "execution_count": 4,
   "id": "068688c0",
   "metadata": {},
   "outputs": [
    {
     "name": "stderr",
     "output_type": "stream",
     "text": [
      "/home/abitporu/Documents/ia_codigoaberto/.venv/lib/python3.11/site-packages/tqdm/auto.py:21: TqdmWarning: IProgress not found. Please update jupyter and ipywidgets. See https://ipywidgets.readthedocs.io/en/stable/user_install.html\n",
      "  from .autonotebook import tqdm as notebook_tqdm\n"
     ]
    }
   ],
   "source": [
    "from datasets import load_dataset\n",
    "\n",
    "dataset = load_dataset(\"celsowm/bbc_news_ptbr\")"
   ]
  },
  {
   "cell_type": "code",
   "execution_count": 5,
   "id": "d7c5705f",
   "metadata": {},
   "outputs": [
    {
     "data": {
      "application/vnd.microsoft.datawrangler.viewer.v0+json": {
       "columns": [
        {
         "name": "index",
         "rawType": "int64",
         "type": "integer"
        },
        {
         "name": "categoria",
         "rawType": "object",
         "type": "string"
        },
        {
         "name": "titulo",
         "rawType": "object",
         "type": "string"
        },
        {
         "name": "texto",
         "rawType": "object",
         "type": "string"
        },
        {
         "name": "data",
         "rawType": "object",
         "type": "string"
        },
        {
         "name": "link",
         "rawType": "object",
         "type": "string"
        }
       ],
       "ref": "95b8915f-bbdc-4f13-a7b2-654b40a9efc4",
       "rows": [
        [
         "0",
         "brasil",
         "Quem foi Oswaldo Aranha, o brasileiro que ajudou a criar o Estado de Israel",
         "“Sua atuação no cenário internacional estava dentro da questão do excedente de poder, um conceito de política externa que trata das coisas que criam condições para que você crie outras”, diz à BBC News Brasil o cientista político Leonardo Bandarra, pesquisador na Universidade de Duisburg-Essen (Alemanha) e associado sênior na organização desarmamentista Middle East Treaty.  “A participação do Brasil [na criação do Estado de Israel] foi importante para o país mostrar capacidade de gerir assuntos complexos de paz que não são de sua região. Até hoje nos dá prestígio no cenário internacional”, acrescenta.  Fim do Matérias recomendadas “Ao lado de Ruy Barbosa [(1849-1923)], Barão do Rio Branco [(1845-1912)] e Bertha Lutz [(1894-1976)], é um dos nomes mais importantes da diplomacia brasileira. Simboliza um Brasil que se lançava para o mundo”, afirma à BBC News Brasil o economista Robert Georg Uebel, professor de relações internacionais da Escola Superior de Propaganda e Marketing (ESPM).  Podcast traz áudios com reportagens selecionadas. Episódios Fim do Podcast Sua biografia indica uma facilidade inata para intermediar conflitos e buscar soluções.  “Ele tinha uma aptidão muito grande para questões internacionais desde cedo”, diz à reportagem o cientista político Christopher Mendonça, professor na Ibmec de Belo Horizonte. “Aranha nasceu no lugar onde é praticamente fronteira do Brasil com Argentina e Uruguai [o município de Alegrete] e jovem esteve em países como França, Itália e Suíça. Esse conhecimento internacional fez dele uma pessoa de destaque nesse assunto.” Graduado pela Faculdade de Ciências Jurídicas e Sociais, hoje Faculdade Nacional de Direito da Universidade Federal do Rio de Janeiro (UFRJ), logo em seguida passou uma temporada de estudos em Paris. Só então se viu talhado para começar a carreira, como advogado, no Rio Grande do Sul. Logo sua trajetória se misturaria com a política. Em 1923, tinha 29 anos quando explodiu a luta entre chimangos e maragatos — e ele chegou a pegar em armas para lutar a favor do sistema republicano em seu estado. Dois anos mais tarde tornou-se prefeito de sua cidade natal — e lembrado até hoje como o introdutor do sistema de esgoto no município.  Nesse período, o diplomata dentro dele pareceu saltar aos olhos. Os resquícios do conflito de dois anos atrás ainda ecoavam em sua Alegrete, fazendo com que famílias distintas se vissem como rivais. Ele conseguiu selar a paz.  Aranha parecia galgar uma ascensão meteórica. Em 1927, foi eleito deputado federal. No ano seguinte, foi nomeado secretário de Negócios Interiores e Exteriores do Rio Grande do Sul.  Pouco tempo depois, ele era um dos principais articuladores da chamada Aliança Liberal, campanha que organizou o golpe armado que deporia o presidente Washington Luís (1869-1957), fazendo a Revolução de 30 que acabaria levando o seu conterrâneo gaúcho Getúlio Vargas à presidência da República pela primeira vez. Foi nessa época que a amizade de ambos se tornou forte.  “Ele passou a fazer parte do gabinete governativo de Vargas”, pontua Mendonça. Foi ministro da Justiça e, depois, da Fazenda. Seu olhar estava sempre mirando o exterior — tanto que em sua gestão no comando das finanças públicas promoveu um levantamento que, pela primeira vez, consolidou o montante da dívida externa brasileira. Mendonça lembra que era um momento delicado para as contas, já que o planeta vivia o rescaldo da intensa crise de 1929, quando houve a quebra da bolsa de valores de Nova York e uma reação em cadeia pelos mercados mundo afora.  A amizade com Vargas, contudo, não fazia dele um apoiador inconteste. Em 1934, após uma série de desentendimentos, ele pediu demissão do cargo. Foi quando acabou nomeado embaixador brasileiro em Washington. “Ele foi colocado nessa posição por sua grande capacidade em assuntos internacionais e habilidade de mediação política”, ressalta Mendonça. “Aranha era um admirador dos Estados Unidos, de como uma ex-colônia se tornava uma democracia pujante. Ao mesmo tempo, ele era antifascista e pró-democracia e isso é uma característica na qual ele foi muito coerente ao longo de sua carreira”, diz Bandarra. Durante sua gestão, ele costurou alguns tratados importantes. Em 1935, por exemplo, Brasil e Estados Unidos firmaram um compromisso comercial mútuo que é considerado basilar para a aproximação histórica entre as duas nações.  Ele também se aproximou do presidente Roosevelt, de quem se tornou amigo, e formou uma comitiva que o trouxe para visitar o Rio de Janeiro, em 1936.  “Os Estados Unidos ainda não eram um país de referência, uma potência global, mas Oswaldo Aranha teve o feeling, a capacidade de ver neles uma grande capacidade do ponto de vista econômico e militar”, analisa o cientista político.  No ano seguinte, houve nova rusga com Vargas. “Foi quando o presidente redigiu o decreto do Estado Novo. Aranha criticou”, lembra Mendonça. O episódio precipitou sua demissão do posto em Washington. “Ele tinha uma relação próxima com Vargas, mas era uma relação crítica, com momentos de proximidade e momentos de separação, de corte de relações formais com o governo”, explica Bandarra. “Isso só reforça que ele falava o que pensava, o que acreditava.” Em 1938, ambos se aproximaram mais uma vez. Oswaldo Aranha acabou nomeado ministro das Relações Exteriores. E aí seu papel se tornou crucial para os rumos adotados pelo país durante a Segunda Guerra Mundial, conflito que ocorreu entre 1939 e 1945.  O primeiro ponto elementar de sua gestão à frente do Itamaraty foi reforçar os laços brasileiros dentro das relações americanas.  “Ele lutou pela aproximação comercial com a Argentina e os Estados Unidos e, vale dizer, os dois são até hoje parceiros muito importantes para o Brasil. Nesse sentido, Aranha foi responsável pelo padrão da política externa brasileira ainda vigente”, argumenta Mendonça.  Com a guerra, havia uma pressão para o posicionamento brasileiro dentro do conflito.  Em 1942, na Conferência do Rio que foi presidida por ele, Aranha declarou o rompimento das relações diplomáticas e comerciais do Brasil com os países do Eixo. “Esse foi o passo fundamental para a aproximação do Brasil com os países que posteriormente venceram a Segunda Guerra”, analisa Mendonça. “Havia no país um flerte com o autoritarismo, inclusive com o nazismo. Nesse sentido, ele teve o mérito de fazer com que o país se mantivesse dentro dos preceitos da democracia, da liberdade.” O cientista político Bandarra afirma que, no governo Vargas, Aranha se contrapunha a dois outros nomes sobre o posicionamento brasileiro na guerra: o então chefe da polícia política Filinto Müller (1900-1973) e Enrique Gaspar Dutra (1883-1974), que ocupava o posto de ministro da Guerra.  “Estes eram favoráveis a uma relação próxima com os países do Eixo. Aranha teve uma atuação forte nos bastidores para que o Brasil ficasse ao lado dos Aliados”, diz.  No princípio, o diplomata advogou pela chamada equidistância, em que o país deveria assumir uma pretensa neutralidade no conflito, tentando se beneficiar de ambos os lados. “Seria um equilíbrio pragmático, uma neutralidade positiva”, afirma Bandarra.  “Em seguida, ele puxou para o caminho mais próximo com o lado americano, pela questão do panamericanismo, da democracia e tudo isso”, complementa. “Ele foi uma pessoa que pensou à frente na questão da posição do país no cenário internacional.” “Era um momento muito conturbado da política internacional e, ao mesmo tempo, um momento em que o Brasil estava se lançando ao mundo, se mostrando para o mundo”, comenta Uebel. “Oswaldo Aranha teve um papel fundamental nisso, reafirmando a imagem do Brasil como um país antifascista e antinazista, um país alinhado aos valores ocidentais.” Em 1944, novamente enfraquecido no governo, decidiu pedir demissão do cargo de ministro. Havia um rumor de que ele seria um nome forte para disputar as eleições para a presidência em 1945, mas não houve base política suficiente para bancá-lo na corrida. Quando a Organização das Nações Unidas foi criada, ele logo assumiu o cargo de chefe da delegação brasileira, a partir de 1947. Foi aí que ocorreu seu papel-chave na criação do Estado de Israel. “Ele já estava fora da agenda política e foi recolocado no cenário pelo presidente Dutra [que sucedeu Vargas]. Pode parecer inesperado, porque eles tinham uma relação anterior problemática, mas, durante seu governo, ele se tornou um pró-americanista incisivo na política externa, então fazia sentido chamar de volta o Aranha”, analisa Bandarra.  Aranha se tornou o presidente da II Assembleia Geral da ONU, justamente aquela que votou o plano para a partição da Palestina. A resolução estava longe de ser um consenso, e mesmo entre aqueles que defendiam a criação de um novo Estado não havia posição unânime sobre as formas de dividir o território.  “Ele tinha uma boa aproximação com os judeus que viviam nos Estados Unidos e isso influenciou em sua postura”, afirma Mendonça. “Sua motivação não era apenas política, mas também pessoal.” “Mas a criação do Estado não foi consensual. Havia interesses difusos durante o processo de negociação, o que causou muitas intercorrências. O papel de mediador de Aranha, hábil, foi fundamental para a negociação”, complementa o cientista político.  “Eu diria que ele foi muito bem-sucedido ao manobrar os interesses das partes”, afirma Bandarra.  Utilizando a história do Brasil como exemplo, o diplomata soube conduzir as discussões dentro daquilo que, ao menos sob o prisma da época, parecia ser o mais adequado.  “Aranha negociou bastante, inclusive acionando contatos nos governos, principalmente nos Estados Unidos. E buscou formas alternativas de como chegar ao resultado, de como deveria ser feita a partilha do território”, explica Bandarra. O pesquisador afirma que eram muitas as propostas e, para defender a solução que acabaria adotada naquele momento, Aranha usou como exemplo a história da definição das fronteiras do Brasil. “No final, foi o critério que se usou: quem está ocupando deve ter a terra”, diz.  Se por um lado, naquele momento parece ter funcionado — e o processo ocorreu com rapidez — por outro ele traria problemas, segundo o especialista.  “A Palestina ficou com duas partes desconectadas, foram criados dois exclaves, digamos, e isso dificulta bastante até hoje a viabilidade do Estado Palestino. É uma coisa que não ficou solucionada”, diz Bandarra. Mas, conforme ressalta o pesquisador, é inegável que Aranha “manobrou de diversas formas para que, no final, conseguisse uma boa votação e a consequente aprovação da resolução” que dividiu a Palestina e criou Israel.  “Foi uma posição bem feita, embora poderia ter levado outros fatores em consideração para evitar futuros problemas”, critica ele.  “É preciso lembrar, entretanto, que foi uma solução relativamente rápida e isso é uma coisa importante. Mostra eficiência na negociação e vontade de resolução.” Para Uebel, é preciso lembrar que Aranha “é reconhecido até hoje pelo papel de destaque” nesses primeiros anos da ONU e isso está atrelado ao seu trabalho pela aprovação da criação do Estado de Israel.  “Ele construiu todo o diálogo político necessário”, comenta. “Havia também a preocupação humanista de Aranha em busca de uma solução para um povo que havia sido tão perseguido, que havia acabado de sofrer o Holocausto na Segunda Guerra.” Houve ganhos simbólicos também para a política externa brasileira. “Isso demonstra também que Aranha já pensava na época em colocar o Brasil na agenda internacional”, acrescenta.  Um dos motivos que faz com que o país historicamente abra as assembleias gerais da ONU é justamente em homenagem ao trabalho de Aranha no período.  “De forma geral, a trajetória de Oswaldo Aranha mostra que ele viveu momentos de grande necessidade da atuação forte da diplomacia brasileira. Foi ministro da Fazenda em um momento crucial, pós-Crise de 1929, conduziu o Brasil no mercado internacional de maneira importante através de assinaturas com Estados Unidos e Argentina, foi referência na entrada do Brasil na Segunda Guerra Mundial e, posteriormente, nos primeiros passos da ONU”, diz Mendonça. “É um nome inescapável dentro da história diplomática.” Além dos logradouros públicos com seu nome, uma das mais curiosas homenagens que acabaram por eternizar a memória do diplomata é um prato, o filé à Oswaldo Aranha.  Trata-se de um bife de filé mignon ou contra-filé, fartamente temperado com alho frito, acompanhado de batatas, arroz e farofa de ovos.  O apelido pegou porque essa era a receita que ele costumava pedir no restaurante Cosmopolita, chamado popularmente de Senadinho, que ele costumava frequentar na Lapa, no Rio.",
         "2023-11-04",
         "https://www.bbc.com/portuguese/articles/c0wxwr76er1o"
        ],
        [
         "1",
         "brasil",
         "Como PCC fez Paraguai virar um dos países com maior presença de crime organizado no mundo",
         "No ranking de 2023, a nação saltou para a 4ª posição entre os 193 membros da ONU incluídos no estudo, atrás apenas de Colômbia, México e Mianmar, o atual líder. A pontuação do Paraguai é agora de 7,52. A classificação é obtida por meio da média de notas atribuídas em diferentes categorias. A BBC Mundo, serviço em espanhol da BBC, entrou em contato com diversos órgãos públicos e ministérios do Paraguai, assim como com o gabinete da Presidência de Santagio Peña, para analisar este resultado, mas não obteve respostas. Fim do Matérias recomendadas A operação contra o narcotráfico e a lavagem de dinheiro chamada \"A Ultranza PY\", a maior da história do país, realizada em 2019, deixou claro que as coisas mudaram nos últimos anos na nação sul-americana. Esta operação levou à destituição de ministros e à prisão de 24 pessoas por supostos vínculos com organizações de narcotraficantes. Para Carolina Sampó, doutora e pesquisadora do Conselho Nacional de Pesquisas Científicas e Técnicas (Conicet), os criminosos no Paraguai se aproveitaram durante anos da “falta de reputação do país como exportador de drogas para reenviar cocaína sem serem detectados e dirigi-la a portos de saída não tradicionais e rotas contraintuitivas como aquelas que se iniciam no porto de Buenos Aires, de San Antonio, ou de Montevidéu”. Podcast traz áudios com reportagens selecionadas. Episódios Fim do Podcast Pecci investigava casos de corrupção e lavagem de dinheiro de alto perfil quando foi assassinado em sua lua de mel na Colômbia. “Todos os mercados e atores criminosos que se encontram nas Américas estão presentes em vários países. Esses mercados criminosos interconectados e transnacionais aproveitam situações de liderança e governança deficitárias”, afirmam os autores do Índice Global de Crime Organizado. “Os pontos de 2023 mostram que a região das Américas continua dominando o comércio mundial de cocaína como principal mercado de origem da droga”, acrescentam. O Brasil está na posição 22 no ranking de 193 países e é o sétimo com maior criminalidade organizada das Américas, segundo a lista. Para começar, especialistas apontam que o país está situado no coração da América Latina, fazendo fronteira com mercados enormes como Brasil, Argentina e Bolívia. Só isso já torna o Paraguai geograficamente atraente. Além disso, pelo menos outros 8 fatores ajudam a explicar como o país sul-americano se transformou em um centro criminoso internacional: A maior vigilância nos portos da Argentina e do Brasil fez com que o Paraguai se tornasse um centro internacional de distribuição de cocaína andina graças à sua proximidade geográfica com dois dos principais produtores desta droga, Peru e Bolívia. “Isso é algo novo. A cocaína que vem do Peru, da Colômbia ou do Equador chega ao Paraguai em pequenos aviões e é transportada até os portos de Buenos Aires e Montevidéu, que ficam no Atlântico, ou passa pelos portos do próprio país. A partir daqui, a cocaína começa a ser enviada para países da Europa, da África ou mesmo do Oriente Médio”, afirma Juan A. Martens, pesquisador da Universidade Nacional de Pilar e do Inecip (Instituto de Estudos Comparados em Ciências Penais e Sociais) do Paraguai. “Os movimentos aéreos são movimentos curtos, o que os torna muito fáceis. Em muitos casos nem é necessário que os pequenos aviões pousem, eles só jogam a cocaína do ar em um campo e voltam”, diz Sampó. Nesta chegada aos portos atlânticos, desempenha um papel fundamental um dos maiores sistemas navegáveis ​​do mundo, no qual, mais uma vez, o Paraguai está geograficamente localizado no centro. É a hidrovia Paraná-Paraguai. Com extensão de 3.442 quilômetros, atravessa ou tem ramificações na Argentina, Bolívia, Brasil, Paraguai e Uruguai. “O Brasil é um mercado de 200 milhões de pessoas. Por água, apenas uma hora nos separa do maior estado brasileiro. De Saltos del Guaira, no norte do Paraguai, é uma hora de barco até o estado de São Paulo, que tem 45 milhões de habitantes.” “É muito fácil traficar por essa via”, diz o pesquisador paraguaio. O Paraguai cultiva cerca de 7 mil hectares de maconha por ano. “Sempre foi um espaço territorial complexo no que diz respeito à criminalidade. A primeira questão é a quantidade e a qualidade da produção de maconha na região de Pedro Juan Caballero e como essa produção de maconha deu origem a graves conflitos entre diferentes organizações criminosas brasileiras e clãs locais”, diz Sampó. “Os níveis de consumo de maconha no Brasil são muito elevados e a qualidade da maconha de Pedro Juan é a mais alta da região. Ao unir produtores a clientes, o negócio vale milhões no Brasil”, afirma a pesquisadora argentina. É pela necessidade de controlar a circulação dessa droga que ocorre a expansão do tráfico de drogas. O Paraguai passou de primeiro produtor de maconha da América do Sul a um dos principais distribuidores de cocaína, apesar de não produzi-la.  “A presença do cartel se estende por todo o Paraguai. A expansão do PCC para países vizinhos e suas conexões com redes internacionais sublinham a crescente influência do grupo na América do Sul”, afirmam os autores do Índice Global de Crime Organizado. Sampó explica que o PCC escolhe o Paraguai para sua expansão devido à proximidade com os centros de distribuição de maconha e cocaína.  “Sua chegada tem a ver com um primeiro desembarque para controlar a maconha e depois se expande para diversos espaços do Paraguai, rurais e urbanos, onde recriam suas rígidas estruturas de organização criminosa”. A partir daí, a organização expande seus negócios e começa a transportar cocaína do Peru e da Bolívia para o Paraguai e de lá para o porto de Santos. O porto de Santos é o principal porto do Brasil e da América Latina. Posteriormente, viria a expansão de outras rotas, principalmente aquelas que têm a ver com o uso da hidrovia e a saída pelos portos de Buenos Aires e Montevidéu. “O cartel nasce nas prisões. É uma organização criminosa enorme e muito complexa. Para ingressar, é preciso ser batizado, é preciso passar por um processo de admissão”, afirma a pesquisadora. “O que começamos a ver entre 2018 e 2019 é que começam a haver batismos dentro das prisões paraguaias de paraguaios, não de brasileiros. Dos paraguaios que começam a pertencer ao PCC. E assim a organização amplia sua base dentro do território paraguaio”, afirma. Diferentes organizações internacionais afirmam que o Paraguai tem um problema de corrupção generalizado, que afeta todos os níveis de governo e da sociedade, tanto na esfera pública como na privada. “As pontuações do Paraguai, Venezuela e Nicarágua sugerem que os criminosos têm um nível preocupante de influência na sociedade e nas estruturas estatais”, diz o relatório produzido junto do índice. A chegada da cocaína do Paraguai aos portos da Bélgica, Holanda e Alemanha atraiu a atenção da Europol, da DEA (Administração de Fiscalização de Drogas, dos EUA) e de outras agências internacionais, o que tornou visível o vínculo institucional que existe entre o crime organizado e o poder público. Martens lembra os casos do ex-deputado Juan Carlos Ozorio, acusado de lavagem de dinheiro, tráfico de drogas e associação criminosa, ou do senador Erico Galeano, que atualmente é processado por lavagem de dinheiro e associação criminosa. “Há uma impunidade sistemática”, diz ele. Sampó concorda com isso: “As condições de fragilidade do Estado, a fragilidade institucional, os altos níveis de corrupção, os altos níveis de impunidade, viabilizam que o PCC desembarque como organização criminosa, se estabeleça e combine com os clãs locais a distribuição do negócio.” Estima-se que entre Argentina e Paraguai existam mais ou menos 200 travessias ilícitas. Em algumas partes, a distância entre os dois países é tão curta que, com uma lancha rápida, a fronteira pode ser atravessada em dois minutos. Mas outro dos fatores que torna a fronteira paraguaia porosa é a falta de recursos para controlar o espaço aéreo do país. “Até o momento, o Paraguai não possui radar para monitorar o céu. É claramente uma decisão política e um convite aos grupos criminosos transnacionais. Tornou este território um ímã de atração para grupos do México, da Europa Oriental ou da máfia italiana”, diz Martens. O Paraguai possui uma legislação muito favorável à compra e venda de armas e os requisitos para adquiri-las não são muito complicados. “Setenta e três grupos criminosos atuam no Brasil e as armas que esses grupos geralmente utilizam passam pelo Paraguai. Especificamente, são destinados às favelas do Rio. Estamos falando deles chegando ao Rio de Janeiro, ao Espírito Santo, a Minas Gerais e ao Nordeste brasileiro”, diz Martens. E não só armas de pequeno e médio calibre, mas também munições são distribuídas do Paraguai. “As armas abastecem organizações criminosas brasileiras como o PCC ou o Comando Vermelho”, diz Sampó. As rotas da droga são utilizadas para o tráfico de armas, mas também para o contrabando de cigarros e produtos falsificados. “O Paraguai é um centro importante para o comércio ilícito de tabaco, tanto a nível nacional como regional. A área da tríplice fronteira entre Paraguai, Brasil e Argentina é um corredor movimentado para o tráfico de tabaco, que financia outras atividades criminosas. O Paraguai ocupava a posição mais elevada da América neste mercado ilícito”, diz o relatório. “Os cigarros paraguaios inundam grande parte dos países vizinhos, impactando diretamente nas receitas dos Estados. E uma das características básicas das organizações criminosas é estarem envolvidas em tudo ao mesmo tempo. Muitas vezes até são utilizadas as mesmas rotas”, diz Sampó. E de mãos dadas com o contrabando também vem o comércio de produtos falsificados, que é outro mercado criminoso nas Américas. A pontuação média da América do Sul de 6,25 coloca a região em segundo lugar globalmente no ranking de crime organizado. O Peru e o Paraguai têm as pontuações individuais mais altas da região e ambos os países são avaliados como importantes focos de produtos falsificados. Ciudad del Este, no Paraguai, é um importante centro de produtos falsificados, incluindo roupas, calçados, relógios, eletrodomésticos e perfumes. “Grupos criminosos no Paraguai se destacam por facilitar esse comércio ilícito”, acrescenta o documento.",
         "2023-11-04",
         "https://www.bbc.com/portuguese/articles/cp646zz6z46o"
        ],
        [
         "2",
         "brasil",
         "Vídeo, Massa ou Milei: o que Brasil tem a ganhar ou perder nas eleições argentinasDuration, 7,42",
         "O segundo turno das eleições presidenciais na Argentina será no dia 19 de novembro e vai opor dois candidatos considerados totalmente antagônicos. De um lado o atual ministro da Economia, Sergio Massa, candidato do tradicional grupo peronista de centro-esquerda e que foi o mais votado no primeiro turno - causando surpresa - com 36,68% dos votos. Do outro lado, o economista libertário Javier Milei, que ficou conhecido por propostas polêmicas como extinguir o Banco Central e dolarizar a economia argentina. Apesar de liderar as principais pesquisas de intenção de voto, Milei ficou em segundo, com 29,98%. E de um outro lado da fronteira, no Brasil, o processo eleitoral na Argentina é acompanhado com atenção, tanto por motivos políticos quanto econômicos. O repórter da BBC News Brasil Leandro Prazeres conversou com especialistas para saber quais são os efeitos para o Brasil da eleição no país vizinho.",
         "2023-11-02",
         "https://www.bbc.com/portuguese/articles/ckv0gkn84qjo"
        ],
        [
         "3",
         "brasil",
         "Dia de Finados: como celebração dos mortos, que nasceu entre pagãos, foi incorporada pela Igreja",
         "\"Do Senhor é a terra e a sua plenitude, o mundo e aqueles que nele habitam./ Porque ele a fundou sobre os mares, e a firmou sobre os rios./ Quem subirá ao monte do Senhor, ou quem estará no seu lugar santo?/ Aquele que é limpo de mãos e puro de coração, que não entrega a sua alma à vaidade, nem jura enganosamente./ Este receberá a bênção do Senhor e a justiça do Deus da sua salvação.\" Odon de Cluny (878-942) foi um abade francês, responsável por diversas reformas no sistema religioso da época. \"É um dia de celebrar as vidas de todos os fiéis falecidos. No Brasil e em Portugal, o dia é reservado para visitar os túmulos\", comenta Altemeyer. Fim do Matérias recomendadas \"A Igreja toma a data e 'batiza' com significado próprio\", diz Altemeyer. \"Mas celebrar os mortos é algo antropológico. Desde o Cro-Magnon (ou seja, das primeiras populações de Homo sapiens) temos ritos funerários e de expectativa do além túmulo.\" O \"Martirológio Romano\", o calendário oficial da Igreja, explica ambas as datas. Sobre o Dia de Todos os Santos, ele diz: \"Solenidade de todos os Santos que estão com Cristo na Glória. Na mesma celebração festiva, a santa Igreja ainda peregrina sobre a terra venera a memória daqueles cuja companhia alegra os Céus, para que se estimule com o seu exemplo, se conforte com a sua proteção e com eles receba a coroa do triunfo na visão eterna da divina majestade\". E sobre o Dia de Fiados: \"A Igreja, mãe piedosa, quer interceder diante de Deus pelas almas de todos os que nos precederam marcados com o sinal da fé e agora dormem na esperança da ressurreição, bem como por todos os defuntos desde o principio do mundo cuja fé só Deus conhece\". Podcast traz áudios com reportagens selecionadas. Episódios Fim do Podcast Muito antes de a Igreja Católica institucionalizar o Dia de Finados, um livro lançou as bases para como os cristãos acabam tratando os mortos. Trata-se de De Cura pro Mortuis Gerenda, texto do ano 421, atribuído ao teólogo Agostinho de Hipona (354-430), o Santo Agostinho. \"A obra trata do culto devido aos mortos. É uma preciosidade, com verdadeiras pérolas do maior teólogo da Igreja\", comenta Altemeyer. Conforme escreveu o estudioso da fé católica Carlos Martins Nabeto, especialista em Direito Canônico, na obra \"Santo Agostinho aborda uma série de fatos importantes e interessantes a respeito dos mortos, que até hoje são conservados e respeitados pela Igreja\". \"Entre outras coisas, fala da utilidade da oração pelos mortos (antiquíssimo testemunho do Purgatório, ainda que tal palavra não apareça), a possibilidade da aparição dos mortos aos vivos (por meio do ministério dos anjos ou por permissão direta de Deus), a oração dos santos falecidos a nosso favor, o dia que a Igreja dedica a todos os falecidos (Dia de Finados)\", exemplifica o estudioso. Uma celebração de Finados, de certa forma, está implícita no seguinte trecho do livro - o que sugere que, mesmo longe de ter sido formalizada e oficializada pelo rito católico, já se faziam as orações aos mortos em geral, em data específica. \"A Igreja tomou para si o encargo de orar por todos aqueles que morreram dentro da comunhão cristã e católica. Ainda que não conheça todos os nomes, ela os inclui numa comemoração geral\", diz a obra. Santo Agostinho também aborda questões referentes aos ritos fúnebres, ressaltando que \"não deixa de ser marca dos bons sentimentos do coração humano escolher para seus entes queridos que serão sepultados um lugar próximo aos túmulos dos santos\". \"Já que o sepultamento é, por si só, uma obra religiosa, a escolha do local não poderia ser estranha ao ato religioso. É consolo para os vivos, uma forma de testemunhar sua ternura para com os familiares desaparecidos. Não enxergo, porém, como os mortos podem encontrar aí alguma ajuda, a não ser quando o lugar onde descansam é visitado e são encomendados, pela oração [dos visitantes], à proteção dos santos junto ao Senhor. Contudo, isso pode ser feito ainda quando não é possível sepultá-los em tais lugares santos\", afirma. Sobre túmulos construídos como verdadeiros monumentos, o teólogo também faz considerações. \"Isso é feito para que as pessoas continuem a se lembrar deles, para que não aconteça de, tendo sido retirados da presença dos vivos, também sejam retirados do coração pelo esquecimento\", escreve. \"Aliás, o termo 'memorial' indica claramente esse sentido de recordação, da mesma forma como 'monumento' significa 'o que traz à mente', ou seja, o que a faz recordar. Eis o motivo pelo qual os gregos chamam de mnemeion ao que chamamos de 'memória' ou 'monumento'. Na língua deles, 'mnème' significa 'memória', a faculdade com a qual recordamos.\" Agostinho trata da importância das orações aos mortos. \"Assim, quando o pensamento de alguém se concentra sobre o lugar onde o corpo de um ente querido jaz e esse local esteja consagrado pelo nome de um mártir venerável, então a afeição amorosa recorda-se e reza, recomendando o falecido querido a esse mártir\", pontua. \"A morte é natural, é universal, e não pode ser tratada como um tabu\", diz a psicóloga Maria Helena Pereira Franco, estudiosa do luto e professora da PUC-SP. \"As culturas e as sociedades vivem o luto de acordo com uma herança que vem há séculos e vai dando sentido a uma experiência importante como a morte, carregada de significados próprios que passam pela espiritualidade e pela religião.\" De acordo com a pesquisadora, para compreender essa questão cultural é preciso ter em mente que o homem não têm conhecimento definitivo do que acontece depois da morte. E, mesmo do ponto de vista biológico, entender a morte do corpo é uma consciência relativamente recente. \"Na falta de explicações, o homem foi construindo significados. E esses significados, ao longo da história, foram pautando comportamentos\", explica ela. Seja na maneira de realizar os procedimentos referentes ao velório, seja no Dia de Finados, variações desse comportamento são notados em diversas culturas. Sobretudo em cidades menores, no Brasil ainda é costume que um carro com alto-falantes percorra as ruas da cidade divulgando a \"nota de falecimento\" e convidando a todos para participarem do velório e do enterro. No interior da Itália, por exemplo, é comum que, quando um parente morre, familiares afixem no portão da casa um aviso fúnebre, muitas vezes decorado com fitas e ilustrado com uma fotografia do falecido, além de um texto semelhante aos anúncios de obituário de jornal. Já a celebração de Finados mais famosa, sem dúvida, é a que ocorre no México. \"É uma cerimônia bastante conhecida. Eles promovem um momento de encontro entre os vivos, que vão celebrar, visitar e honrar seus mortos nos cemitérios\", explica Franco. \"Há varias comidas que são próprias dessa época, comportamentos que são esperados... É muito bonita como cerimônia.\" Alegria também está presente no rito fúnebre de Bali. Lá, o mais comum é que os mortos sejam cremados. E a cerimônia é acompanhada por uma grande festa em honra ao falecido. Conhecida por ser a capital do jazz, Nova Orleans, nos Estados Unidos, tem também um ritual fúnebre embalada pelo gênero musical. Trata-se de uma procissão fúnebre que mescla tradições africanas, francesas e afro-americanas. Conduzidos por uma banda, os enlutados alternam entre alegria e tristeza. É uma celebração catártica, que procura evocar bons momentos vividos pelo morto. Comunidades budistas da Mongólia e do Tibete acreditam ser necessário devolver o corpo à natureza, para que a alma siga em frente. Assim, têm o costume de cortar o defunto em pedaços e, então, depositá-lo no alto de uma montanha, para que abutres façam o trabalho. Nas Filipinas, diferentes grupos étnicos lidam de forma diferente com a morte e com as práticas funerárias. Os integrantes da cultura Itneg têm o hábito de vestir os defuntos com as melhores roupas, sentarem-no em uma cadeira e colocar um cigarro aceso em sua boca. Benguet, por sua vez, vendam os mortos e os velam ao lado da entrada principal da casa. Já os Caviteño sepultam os mortos fazendo de um tronco oco de árvore o caixão. Os Apayo enterram os mortos sob o chão da cozinha. Em Madagascar, por sua vez, persiste o costume de um ritual chamado farmadihana. Trata-se de uma celebração, que ocorre geralmente a cada sete anos, em que familiares exumam os restos mortais de seus entes queridos, pulverizando os ossos com vinho ou perfume. Uma banda acompanha a cerimônia, que ocorre de forma feliz. Em Gana, é costume que o morto seja enterrado em caixões que representem o que ele fazia em vida, do trabalho aos hobbies. Executivos, por exemplo, podem ser sepultados em sarcófagos em forma de carros de luxo; um fotógrafo pode ser enterrado em uma câmera fotográfica gigante; um pecuarista, em um caixão que represente uma vaca. * Texto publicado em 31 outubro 2018 e atualizado em 2 novembro de 2023.",
         "2023-11-02",
         "https://www.bbc.com/portuguese/articles/c1354g63mpeo"
        ],
        [
         "4",
         "brasil",
         "A estratégia do Brasil por resolução sobre Israel-Gaza no fim de mandato do Conselho de Segurança",
         "Após quatro propostas terem sido rejeitadas nas últimas duas semanas, a diplomacia brasileira tenta agora \"driblar\" os pontos sensíveis apresentados por potências como Estados Unidos, Rússia e China para obter a aprovação da resolução.  Diplomatas brasileiros ouvidos pela BBC News Brasil em caráter reservado descreveram que a estratégia brasileira passou por uma intensificação dos diálogos com membros não-rotativos do conselho e por tentativas de afinar o texto da resolução para que ela não seja vetada mais uma vez. Ao mesmo tempo, tanto o presidente Luiz Inácio Lula da Silva (PT) quanto o ministro das Relações Exteriores, Mauro Vieira, têm mantido conversas com lideranças internacionais para tentar diminuir as resistências à aprovação de uma resolução que possa diminuir a temperatura do conflito.   Fim do Matérias recomendadas Os ataques foram condenados por dezenas de países da comunidade internacional. Eles aconteceram na primeira semana da presidência brasileira junto ao Conselho de Segurança.  O Conselho de Segurança é formado por 15 países, sendo 10 membros rotativos e cinco permanentes com poder de veto: Rússia, Estados Unidos, França, Inglaterra e China. Eles formam o chamado P5. Os demais, são chamados de P10.  Para qualquer proposta ser aprovada no Conselho de Segurança da ONU, ela precisa de pelo menos nove votos dos 15 países membros do órgão. Também não pode ter nenhum veto. Apenas os membros permanentes do grupo têm direito a veto.  Podcast traz áudios com reportagens selecionadas. Episódios Fim do Podcast A primeira proposta de resolução sobre o atual conflito foi feita pela Rússia, mas recebeu os votos contrários de três dos cinco membros permanentes: Estados Unidos, Reino Unido e França.  A segunda proposta, feita pelo Brasil, também não foi aprovada. Daquela vez, os Estados Unidos foram o único país do chamado P5 a vetar o texto.  Daquela vez, a justificativa americana foi a de que o texto proposto pelos brasileiros não mencionava o direito à autodefesa do Estado de Israel.  \"Israel tem o direito inerente à autodefesa\", disse a representante dos EUA na ONU, a embaixadora Linda Thomas-Greenfield.  Na semana passada, outras duas propostas foram rejeitadas: uma apresentada pela Rússia e outra pelos Estados Unidos.  A estimativa é de que pelo menos 1,4 mil israelenses morreram vítimas do ataque do Hamas. Segundo o governo do país, há pelo menos outras 200 pessoas mantidas como reféns pelo grupo.  Do outro lado, segundo o Ministério da Saúde da Faixa de Gaza, pelo menos sete mil palestinos já morreram vítimas dos ataques conduzidos por Israel. O governo na Faixa de Gaza é controlado pelo Hamas.  Em meio a esse impasse, a UNRWA, agência da ONU para refugiados palestinos, disse, na semana passada, que o atual conflito na região já foi responsável pelo deslocamento de pelo menos 1,4 milhão de pessoas na Faixa de Gaza. Desse total, 600 mil estariam em abrigos ou instalações fornecidas pela agência.  Esse deslocamento aconteceu após Israel alertar a população palestina a se dirigir ao sul da região por conta das ações militares que seriam realizadas na parte norte. As entradas e saídas da Faixa de Gaza estão fechadas.  A ONU e organizações internacionais vêm alertando para o risco de desabastecimento de água, alimentos, remédios e outros produtos.  Para tentar driblar o impasse existente entre Estados Unidos, de um lado, Rússia e China, de outro, o Brasil se juntou a outros três membros não-permanentes do Conselho de Segurança para desenhar uma resolução.  Os três membros mais próximos do Brasil nesse esforço, segundo a diplomacia brasileira, são Suíça, Emirados Árabes Unidos e Malta, que é porta-voz do chamado P-10, grupo dos membros não-permanentes do Conselho de Segurança.  Nos últimos dias, diplomatas brasileiros mantiveram reuniões a portas fechadas com representantes destes países para trabalhar o texto.  Diplomatas brasileiros afirmaram à BBC News Brasil que os negociadores do Conselho se debruçam sobre pontos principais: menções ao direito de autodefesa de Israel; e um eventual cessar-fogo na região. Os dois pontos são considerados polêmicos porque têm influência direta sobre os rumos do conflito.  Um diplomata brasileiro disse à BBC News Brasil que há a preocupação de que uma menção na resolução ao direito de autodefesa israelense poderia ser usada como justificativa para uma intensificação das ações de Israel na Faixa de Gaza.  Por outro lado, também haveria preocupação entre os norte-americanos e outros aliados de Israel sobre os efeitos que um eventual cessar-fogo poderia ter. O temor é de que o Hamas poderia aproveitar a pausa para se reorganizar e voltar a lançar ataques a Israel.  Os termos exatos para \"driblar\" esse impasse, segundo diplomatas ouvidos pela BBC News Brasil, ainda não foram encontrados.  A estratégia é que o texto desenhado por esses quatro países tenha a maioria ou todos os votos do P-10. Isso, avaliam os diplomatas brasileiros, poderia pressionar os membros permanentes a reconsiderar um possível novo veto ao texto.  A expectativa é de que um rascunho fique pronto nesta terça-feira (31/10), último dia da presidência brasileira. Depois disso, o texto poderia ser levado à votação do Conselho.   Diplomatas brasileiros afirmam que a estratégia brasileira se dividiu em três frentes.  O principal objetivo, até o momento, é criar uma espécie de pausa no conflito para que a população palestina que vive na Faixa de Gaza possa receber ajuda humanitária, principalmente, pela fronteira da área com o Egito.  Uma dessas frentes é conduzida pelo presidente  Lula, que vem mantendo conversas com líderes de diversos países desde o início da crise.  Entre esses líderes estão o presidente da França, Emmanuel Macron, o presidente russo, Vladimir Putin, e o presidente da Autoridade Palestina, Mahmoud Abbas.  Outra frente é conduzida pelo assessor especial para Assuntos Internacionais, o ex-ministro das Relações Exteriores Celso Amorim. Nos últimos dias, ele teria tido encontros e conversas com assessores e lideranças diplomáticas de diversos países para avaliar o cenário.  A terceira frente, considerada mais ampla, é a liderada pelo Itamaraty, que vem, sob orientação do governo, tentando negociar um texto que possa ser aprovado pelo conselho. Essa frente é liderada pelo chanceler Mauro Vieira e pelo representante brasileiro na ONU, o embaixador Sérgio Danese.  Na segunda-feira (30/10), Mauro Vieira teve uma conversa telefônica com o secretário de Estado americano, Anthony Blinken em que conversaram sobre as negociações em curso no Conselho de Segurança da ONU. Uma fonte ouvida pela BBC News Brasil em caráter reservado afirmou que a ligação partiu do ministro brasileiro.  A dificuldade em obter um texto que agrade a todos os membros permanentes do Conselho de Segurança foi mencionada por Mauro Vieira nesta segunda-feira, durante reunião do colegiado, e também por especialistas em Relações Internacionais ouvidos pela BBC News Brasil.  \"Desde 2016, o Conselho não foi capaz de aprovar uma única resolução sobre a situação na Palestina. A situação no Oriente Médio é, portanto, de longe, uma das situações mais bloqueadas no Conselho de Segurança [...] Isso mostra a ineficiência do sistema de governança e da falta de representatividade de certas partes do mundo nesse grupo\", disse Vieira.  Para o professor de Relações Internacionais da Universidade Federal de Minas Gerais (UFMG) Dawisson Belém Lopes, um dos elementos que torna a chegada a uma resolução sobre o conflito tão difícil é o que ele classificou como nova \"bipolarização\" da ordem internacional.  Essa polarização se daria entre um grupo de países liderados pelos Estados Unidos e Europa Ocidental, de um lado, e Rússia, China e nações sob suas influências, de outro.  \"Alguns analistas afirmam que há, hoje, uma bipolarização 2.0 (menção à ordem bipolar que vigorou entre Estados Unidos e União Soviética durante a Guerra Fria). Nesse contexto, torna-se mais difícil tomar qualquer decisão, especialmente aquelas que tocam os interesses das superpotências porque prevalece o que chamamos de jogo de soma zero:  se um lado ganha, o outro perde\", disse o professor à BBC News Brasil.   \"Esse conflito em especial opõe interesses vitais e visões de mundo antagônicas dos membros permanentes do Conselho de Segurança de forma que a linguagem da resolução, para que passe, precisa ser eficaz para a realidade do terreno sem ferir suscetibilidades dos membros permanentes\", disse à BBC News Brasil a professora da Escola Superior de Guerra do Ministério da Defesa, Mariana Kalil.  Os dois especialistas avaliam que, considerando as características da presidência rotativa do Conselho de Segurança e a forma como o órgão é estruturado, seria incorreto atribuir responsabilidades ao Brasil pela demora para que uma resolução sobre o conflito seja obtida.  \"De forma alguma seria possível estabelecer uma relação entre o papel do Brasil como presidente do Conselho de Segurança e a dificuldade de aprovação de uma resolução sobre o conflito\", disse Mariana Kalil.  Segundo ela, neste período, o Brasil chegou a conseguir um consenso entre membros do chamado P3 (grupo formado por Estados Unidos, Reino Unido e França) e Rússia e China.  Isso aconteceu durante a votação da resolução proposta pelo Brasil que obteve votos favoráveis da França, Rússia e China e a abstenção do Reino Unido. A abstenção do Reino Unido em um contexto em que ele poderia exercer o poder de veto é vista como uma posição de apoio à resolução.  \"Unanimidade, diante de um caso como o referido, é, na prática, altamente improvável\", disse a professora.  Para Dawisson Lopes, simples fato de presidir o conselho não seria suficiente para que o Brasil conseguisse um consenso sobre o conflito entre os membros do Conselho de Segurança.  \"A presidência do Conselho é uma posição quase procedimental. O país que assume o comando praticamente só organiza os trabalhos do grupo. Ela tem um quê de cerimonial, mas o Brasil não tem capacidade efetiva de, durante um mês, impor uma agenda ou fabricar consensos\", disse o professor.",
         "2023-10-31",
         "https://www.bbc.com/portuguese/articles/clw7wle9pgxo"
        ]
       ],
       "shape": {
        "columns": 5,
        "rows": 5
       }
      },
      "text/html": [
       "<div>\n",
       "<style scoped>\n",
       "    .dataframe tbody tr th:only-of-type {\n",
       "        vertical-align: middle;\n",
       "    }\n",
       "\n",
       "    .dataframe tbody tr th {\n",
       "        vertical-align: top;\n",
       "    }\n",
       "\n",
       "    .dataframe thead th {\n",
       "        text-align: right;\n",
       "    }\n",
       "</style>\n",
       "<table border=\"1\" class=\"dataframe\">\n",
       "  <thead>\n",
       "    <tr style=\"text-align: right;\">\n",
       "      <th></th>\n",
       "      <th>categoria</th>\n",
       "      <th>titulo</th>\n",
       "      <th>texto</th>\n",
       "      <th>data</th>\n",
       "      <th>link</th>\n",
       "    </tr>\n",
       "  </thead>\n",
       "  <tbody>\n",
       "    <tr>\n",
       "      <th>0</th>\n",
       "      <td>brasil</td>\n",
       "      <td>Quem foi Oswaldo Aranha, o brasileiro que ajud...</td>\n",
       "      <td>“Sua atuação no cenário internacional estava d...</td>\n",
       "      <td>2023-11-04</td>\n",
       "      <td>https://www.bbc.com/portuguese/articles/c0wxwr...</td>\n",
       "    </tr>\n",
       "    <tr>\n",
       "      <th>1</th>\n",
       "      <td>brasil</td>\n",
       "      <td>Como PCC fez Paraguai virar um dos países com ...</td>\n",
       "      <td>No ranking de 2023, a nação saltou para a 4ª p...</td>\n",
       "      <td>2023-11-04</td>\n",
       "      <td>https://www.bbc.com/portuguese/articles/cp646z...</td>\n",
       "    </tr>\n",
       "    <tr>\n",
       "      <th>2</th>\n",
       "      <td>brasil</td>\n",
       "      <td>Vídeo, Massa ou Milei: o que Brasil tem a ganh...</td>\n",
       "      <td>O segundo turno das eleições presidenciais na ...</td>\n",
       "      <td>2023-11-02</td>\n",
       "      <td>https://www.bbc.com/portuguese/articles/ckv0gk...</td>\n",
       "    </tr>\n",
       "    <tr>\n",
       "      <th>3</th>\n",
       "      <td>brasil</td>\n",
       "      <td>Dia de Finados: como celebração dos mortos, qu...</td>\n",
       "      <td>\"Do Senhor é a terra e a sua plenitude, o mund...</td>\n",
       "      <td>2023-11-02</td>\n",
       "      <td>https://www.bbc.com/portuguese/articles/c1354g...</td>\n",
       "    </tr>\n",
       "    <tr>\n",
       "      <th>4</th>\n",
       "      <td>brasil</td>\n",
       "      <td>A estratégia do Brasil por resolução sobre Isr...</td>\n",
       "      <td>Após quatro propostas terem sido rejeitadas na...</td>\n",
       "      <td>2023-10-31</td>\n",
       "      <td>https://www.bbc.com/portuguese/articles/clw7wl...</td>\n",
       "    </tr>\n",
       "  </tbody>\n",
       "</table>\n",
       "</div>"
      ],
      "text/plain": [
       "  categoria                                             titulo  \\\n",
       "0    brasil  Quem foi Oswaldo Aranha, o brasileiro que ajud...   \n",
       "1    brasil  Como PCC fez Paraguai virar um dos países com ...   \n",
       "2    brasil  Vídeo, Massa ou Milei: o que Brasil tem a ganh...   \n",
       "3    brasil  Dia de Finados: como celebração dos mortos, qu...   \n",
       "4    brasil  A estratégia do Brasil por resolução sobre Isr...   \n",
       "\n",
       "                                               texto        data  \\\n",
       "0  “Sua atuação no cenário internacional estava d...  2023-11-04   \n",
       "1  No ranking de 2023, a nação saltou para a 4ª p...  2023-11-04   \n",
       "2  O segundo turno das eleições presidenciais na ...  2023-11-02   \n",
       "3  \"Do Senhor é a terra e a sua plenitude, o mund...  2023-11-02   \n",
       "4  Após quatro propostas terem sido rejeitadas na...  2023-10-31   \n",
       "\n",
       "                                                link  \n",
       "0  https://www.bbc.com/portuguese/articles/c0wxwr...  \n",
       "1  https://www.bbc.com/portuguese/articles/cp646z...  \n",
       "2  https://www.bbc.com/portuguese/articles/ckv0gk...  \n",
       "3  https://www.bbc.com/portuguese/articles/c1354g...  \n",
       "4  https://www.bbc.com/portuguese/articles/clw7wl...  "
      ]
     },
     "execution_count": 5,
     "metadata": {},
     "output_type": "execute_result"
    }
   ],
   "source": [
    "df = dataset['train'].to_pandas()\n",
    "df.head()"
   ]
  },
  {
   "cell_type": "code",
   "execution_count": 6,
   "id": "6805702c",
   "metadata": {},
   "outputs": [
    {
     "data": {
      "application/vnd.microsoft.datawrangler.viewer.v0+json": {
       "columns": [
        {
         "name": "categoria",
         "rawType": "object",
         "type": "string"
        },
        {
         "name": "count",
         "rawType": "int64",
         "type": "integer"
        }
       ],
       "ref": "d37a7f72-3693-440f-b0cb-4664447dae1c",
       "rows": [
        [
         "brasil",
         "960"
        ],
        [
         "internacional",
         "960"
        ],
        [
         "economia",
         "960"
        ],
        [
         "saude",
         "960"
        ],
        [
         "ciencia",
         "960"
        ],
        [
         "tecnologia",
         "960"
        ],
        [
         "america_latina",
         "959"
        ],
        [
         "cultura",
         "959"
        ],
        [
         "sociedade",
         "959"
        ]
       ],
       "shape": {
        "columns": 1,
        "rows": 9
       }
      },
      "text/plain": [
       "categoria\n",
       "brasil            960\n",
       "internacional     960\n",
       "economia          960\n",
       "saude             960\n",
       "ciencia           960\n",
       "tecnologia        960\n",
       "america_latina    959\n",
       "cultura           959\n",
       "sociedade         959\n",
       "Name: count, dtype: int64"
      ]
     },
     "execution_count": 6,
     "metadata": {},
     "output_type": "execute_result"
    }
   ],
   "source": [
    "df.categoria.value_counts()"
   ]
  },
  {
   "cell_type": "code",
   "execution_count": 7,
   "id": "7d56cdea",
   "metadata": {},
   "outputs": [],
   "source": [
    "classes = df.categoria.unique().tolist()\n",
    "amostra = df.sample(n=20,random_state=42)"
   ]
  },
  {
   "cell_type": "code",
   "execution_count": 8,
   "id": "40db71b7",
   "metadata": {},
   "outputs": [
    {
     "data": {
      "text/plain": [
       "'america_latina'"
      ]
     },
     "execution_count": 8,
     "metadata": {},
     "output_type": "execute_result"
    }
   ],
   "source": [
    "def classificar_texto(model, texto, classes):\n",
    "    prompt = f\"\"\"\n",
    "    Classifique o texto abaixo. Responda apenas com a classe, sem explicações.\n",
    "\n",
    "    Texto: {texto}\n",
    "\n",
    "    Classes: {classes}\n",
    "    \"\"\"\n",
    "    \n",
    "    resposta = str(model.prompt(prompt))   \n",
    "    \n",
    "    return resposta\n",
    "\n",
    "classificar_texto(modelo, \"O turismo no Chile cresceu\", classes)"
   ]
  },
  {
   "cell_type": "code",
   "execution_count": 9,
   "id": "c9c73bbe",
   "metadata": {},
   "outputs": [
    {
     "name": "stderr",
     "output_type": "stream",
     "text": [
      "100%|██████████| 20/20 [00:09<00:00,  2.19it/s]\n"
     ]
    }
   ],
   "source": [
    "from tqdm import tqdm\n",
    "tqdm.pandas()\n",
    "\n",
    "amostra['categoria_pred'] = amostra['categoria'].progress_apply(lambda x: classificar_texto(modelo, x, classes))"
   ]
  },
  {
   "cell_type": "code",
   "execution_count": 10,
   "id": "7a779e52",
   "metadata": {},
   "outputs": [
    {
     "data": {
      "application/vnd.microsoft.datawrangler.viewer.v0+json": {
       "columns": [
        {
         "name": "index",
         "rawType": "int64",
         "type": "integer"
        },
        {
         "name": "categoria",
         "rawType": "object",
         "type": "string"
        },
        {
         "name": "titulo",
         "rawType": "object",
         "type": "string"
        },
        {
         "name": "texto",
         "rawType": "object",
         "type": "string"
        },
        {
         "name": "data",
         "rawType": "object",
         "type": "string"
        },
        {
         "name": "link",
         "rawType": "object",
         "type": "string"
        },
        {
         "name": "categoria_pred",
         "rawType": "object",
         "type": "string"
        }
       ],
       "ref": "653394f2-d317-4ec1-badb-dd413fe58319",
       "rows": [
        [
         "1313",
         "america_latina",
         "5 sinais de recuperação — com limites — da economia da Venezuela",
         "\"Venezuela foi consertada\" é uma frase que circula há meses nas redes sociais, mas que gera polêmica dentro e fora do país sul-americano. Muitos dizem isso com forte carga de ironia, e outros veem mudanças nos últimos anos que apontam para melhorias em alguns dos graves problemas econômicos do país. Alguns atribuem a frase a uma suposta estratégia do governo do presidente Nicolás Maduro de projetar uma imagem mais favorável. O presidente venezuelano, no entanto, não endossou essa declaração, embora tente ganhar crédito com as recentes mudanças. \"A Venezuela hoje pode dizer que merece o Prêmio Nobel de Economia porque avançamos sozinhos, humildemente sozinhos, com a agenda econômica bolivariana\", disse Maduro no final de março. Um mês depois, ele fez referência direta à frase. \"Algumas pessoas começaram a dizer que   'a Venezuela foi consertada'. Não, não foi consertada. Está melhorando, a Venezuela vai melhorar, crescer, mas ainda há muito a ser feito\", disse ele em um evento com empresários, de acordo com relatos da imprensa local. Fim do Matérias recomendadas Luis Vicente León, presidente da consultoria Datanalisis, diz que a percepção de melhora depende do ponto de comparação e que os venezuelanos vêm de uma \"macrocrise\", iniciada em 2018, com \"hiperinflação brutal\" e escassez de alimentos e medicamentos, e com longas filas e preços muitas vezes acima dos internacionais. Além disso, as pessoas podiam ir para a cadeia na Venezuela se realizassem operações com dólares. \"Então, quando você compara [hoje] com 2018, não há dúvida de que a situação está melhor\", diz León, que alerta, no entanto, que entre 2013 e 2021 a economia venezuelana se contraiu 75% e que no ano passado houve crescimento entre 6% e 8%. \"É como um avião que estava voando a 10 mil pés e começou a despencar e antes de atingir o solo consegue levantar o nariz e agora está voando a 2,5 mil pés. Não caiu, mas está muito longe de sua altitude inicial.\" O efeito dessa longa crise se reflete na vida cotidiana dos venezuelanos, como mostra o estudo Encovi sobre condições de vida dos venezuelanos realizado em 2021 pela Universidade Católica Andrés Bello. A pesquisa revela que 24,8% dos venezuelanos estão em situação de extrema pobreza e que 60% da população vive com insegurança alimentar moderada a grave. Isso não significa que não houve mudanças ou melhorias. Mas abaixo explicamos as causas dessa recuperação. Antes, apresentamos 5 sinais que indicam as mudanças nas condições econômicas do país. Em janeiro de 2022, o Banco Central da Venezuela anunciou que o país havia completado 12 meses consecutivos com inflação abaixo de 50%, em contraste com a espiral hiperinflacionária na qual vinha desde 2017. Isso foi confirmado logo depois, em março, quando a Venezuela teve inflação mensal de 1,4% — a menor registrada desde setembro de 2012. Em abril, última data disponível, a inflação mensal subiu para 4,4%, mas ainda está bem abaixo dos 24,6% registrados em abril de 2021. A produção de petróleo da Venezuela atingiu o pico de mais de três milhões de barris por dia em 1998, e depois começou um lento declínio sob Hugo Chávez que acelerou sob Maduro. Em janeiro de 2019, a Venezuela extraía apenas 1.106.000 barris por dia — uma queda de dois terços na produção em 20 anos. Foi então que o governo dos EUA decidiu sancionar a indústria petrolífera venezuelana. A produção de petróleo bruto caiu para níveis de meados do século 20, registrando uma extração de apenas 434 mil barris por dia em novembro de 2020. No entanto, no último semestre de 2021, a produção de petróleo bruto — principal fonte de riqueza do Estado — começou a aumentar até atingir cerca de 718 mil barris por dia em dezembro. Desde então a produção se mantém ligeiramente abaixo dos 700 mil barris. Esse número é bem pequeno para um país que se orgulha de ter as maiores reservas comprovadas de petróleo do mundo, mas é quase o dobro do registrado durante a queda histórica em 2020. Entre especialistas, há um consenso quase unânime sobre a possibilidade de a economia venezuelana continuar a crescer em 2022. Podcast traz áudios com reportagens selecionadas. Episódios Fim do Podcast As estimativas variam bastante. O Fundo Monetário Internacional projeta um crescimento de 1,5% para a Venezuela em 2022, enquanto um relatório do banco Credit Suisse citado pela agência Reuters estima o aumento do PIB venezuelano em 20%. Asdrúbal Oliveros, diretor da Ecoanalítica, destaca que sua consultoria espera que o PIB cresça 8% — e que o consumo privado cresça 12%. \"Isso tem que ser entendido no contexto de um PIB que encolheu 80%, então estamos falando de uma economia que está no buraco, que caiu muito. Isso torna perfeitamente possível crescer a essa taxa porque estamos crescendo 8% acima de 20 e não acima de 100, que é onde estávamos em 2013. Para colocar em termos numéricos: 8% de 20 é apenas 1,6, então você está indo de 20% para 21,6% em relação ao seu ponto de partida que é 100\", explica o especialista à BBC News Mundo (serviço em espanhol da BBC). Também analisa que esse crescimento está muito focado em setores como comércio, tecnologia, indústrias de alimentos e saúde, enquanto outros como manufatura, construção, bancos e seguros continuam sendo altamente afetados. Ele alerta que o crescimento não é espalhado por todo o país e está concentrado em Caracas e algumas outras cidades. \"Também é um crescimento desigual, porque na Venezuela a distância entre quem tem acesso a bens e pode cobrir todas as suas necessidades e quem não tem é muito grande.\" Nos últimos anos, a escassez de produtos na Venezuela ficou famosa no mundo todo. Da intermitente falta de produtos básicos — como leite, papel higiênico ou farinha de milho para fazer as típicas arepas — a Venezuela passou para uma escassez geral de todos os tipos, incluindo medicamentos essenciais e até gasolina. Atualmente, as imagens das longas filas de venezuelanos esperando para poder comprar produtos básicos sumiram — com uma importante exceção no caso da gasolina, que ainda exige filas de quem quer comprá-la a preços subsidiados. \"Hoje você não faz fila no supermercado para comprar leite. Hoje você tem oferta praticamente cheia. O problema agora são os preços\", diz León. Oliveros concorda e destaca que o índice de escassez de alimentos elaborado pela Econanalítica mostra uma redução muito significativa, que passou de 80% em 2016-2017 para 15-20% hoje. No entanto, venezuelanos de baixa renda seguem com problemas de abastecimento. Segundo Oliveros, um estudo realizado em janeiro mostra que cerca de 50% da população venezuelana ganha menos de US$ 100 por mês, enquanto outros 30% recebem entre US$ 100 e US$ 300. \"Com esses níveis, fica claro que a capacidade das pessoas de se alimentarem adequadamente é extremamente limitada, pois a cesta básica gira em torno de US$ 350 por mês\", explica. Depois de uma ausência que durou anos, muitas companhias aéreas internacionais e artistas estrangeiros (ou venezuelanos residentes no exterior) estão retornando à Venezuela. Oliveros diz que não tem conhecimento de nenhuma literatura econômica que use esses elementos como indicadores de crescimento econômico. No entanto, ambos foram fortemente incorporados ao debate em torno da frase \"A Venezuela foi consertada\". O desastre econômico vivido pela Venezuela nos últimos anos levou a uma redução maciça do número de companhias aéreas internacionais que operam no país — cujo número diminuiu de 25 para 5 entre 2014 e 2022. Muitas dessas empresas decidiram deixar o mercado venezuelano por não conseguiram que o governo pagasse uma dívida estimada em cerca de US$ 3,3 bilhões, derivada da venda de passagens aéreas em bolívares a um preço subsidiado pelo Estado através do controle cambial. No entanto, declarações recentes à imprensa do presidente da Associação de Companhias Aéreas da Venezuela, Humberto Figueras, indicam que pelo menos oito companhias aéreas internacionais iniciaram sondagens para voltar a operar na Venezuela. No caso da visita de artistas internacionais ao país, seus shows começaram a ser reduzidos por volta de 2014 — em princípio por razões políticas, já que artistas, como o espanhol Alejandro Sanz, criticavam a repressão de Maduro aos protestos contra seu governo. Em 2017, os shows pararam por motivos econômicos. Nos últimos meses, no entanto, houve um retorno perceptível de artistas internacionais (e artistas locais, mas residentes no exterior) aos palcos venezuelanos. Entre os grupos e cantores que se apresentaram no país estão a banda colombiana Morat, os cantores mexicanos Emmanuel e Christian Castro e o cantor e compositor colombiano Fonseca, que há uma década não visitava a Venezuela. Entre os artistas que têm shows programados na Venezuela estão a dupla Sin Bandera, a cantora porto-riquenha Olga Tañón, o cantor venezuelano José Luis Rodríguez \"El Puma\" e o roqueiro argentino Fito Páez. O produtor musical José Luis Ventura disse à BBC News Mundo que a dolarização da economia tem sido fundamental para o retorno de artistas internacionais à Venezuela, porque esses artistas são pagos em moeda estrangeira. Ele acrescentou que o custo estimado dos ingressos para esse tipo de espetáculo varia entre US$ 30 e US$ 200. Mas como é possível que em um país onde o salário mínimo gira em torno de US$ 30, as pessoas possam pagar por esses shows e, em alguns casos, lotar os locais onde são realizados? \"Acho que todos nós entendemos que trabalhamos para um setor que ainda tem poder aquisitivo. É um setor pequeno, não sei se de 5% da população, mas que está dando certo\", responde Ventura. Asdrúbal Oliveros destaca que há três fatores que explicam a melhora da economia: o fim das políticas \"draconianas\" de controle cambial e de preços, a dolarização da economia e a abertura às importações. Estas medidas permitiram ao setor privado operar em melhores condições, sabendo que poderia ajustar os seus custos e garantir rentabilidade. Ao mesmo tempo, graças à dolarização, o setor pode fixar os seus preços em dólar e chegar a acordos estáveis com fornecedores. No entanto, tanto Oliveros quanto León concordam que essa recuperação incipiente da economia venezuelana é muito limitada — \"uma recuperação em segundo plano\", como descreve Oliveros — e que será difícil levá-la adiante se outras mudanças importantes não ocorrerem.  Uma taxa de crescimento como a atual — de 6% a 8% — é insuficiente para que a economia venezuelana tenha uma recuperação completa. \"Com uma queda de 75% no PIB, é preciso crescer 400% para se recuperar os níveis de 2013. Você estava em 100 e caiu para 25, então, para voltar a 100 você teria que quadruplicar, mas o crescimento foi de 6% a 8%. Nesse ritmo, você precisaria de décadas para poder voltar ao patamar de 2013\", diz León. Ambos apontam que esse ritmo de crescimento mais alto exige infraestrutura que permita o fornecimento de energia elétrica, água e todos os tipos de serviços necessários para investimentos — e que o governo não tem condições de fornecer isso. \"A Venezuela não tem acesso a financiamento. É um elemento muito importante. Nem financiamento público nem privado. O grande problema das empresas venezuelanas é a falta de crédito. Além disso, você tem um colapso do Estado e um colapso do poder público, o que se reflete em uma queda significativa na capacidade de produção. O caso mais emblemático é a falta de energia elétrica. Sem energia elétrica, é muito difícil a indústria conseguir crescer\", diz Oliveros. O especialista acredita que o crescimento necessário não pode ser alcançado sem uma reforma profunda e sem a construção de um acordo político que permita à Venezuela ter acesso ao financiamento de organismos multilaterais. Com isso, poderia haver uma recuperação econômica da Venezuela entre 8 e 10 anos. \"Não podemos ter acesso ao Fundo Monetário, nem ao Banco Mundial e seu apoio — que é essencial para um programa de estabilização e reconstrução. Não teremos isso até que a questão política seja resolvida\", diz ele, mencionando também sanções econômicas contra a Venezuela. Governo e oposição estão em desacordo há anos. Muitos países sequer reconhecem Maduro como presidente. Mas o que acontecerá com a economia venezuelana se não houver um acordo político? \"Se as condições não mudarem significativamente, a Venezuela pode demorar entre 40 ou 50 anos para se recuperar. Não vai seguir caindo, mas também não vai crescer. Ficará estagnada e esse é o perigo que vemos para o futuro\", conclui Oliveros.",
         "2022-06-21",
         "https://www.bbc.com/portuguese/internacional-61798960",
         "america_latina"
        ],
        [
         "7867",
         "sociedade",
         "'Meus pais iam me matar para limpar a honra da família': jovem trans conta como escapou de ser morto por preconceito na Índia",
         "Quando Manoj — que foi registrado como sendo do sexo feminino no nascimento — disse à família, aos 17 anos, que se sentia como um homem e amava uma mulher, ele quase foi morto. Ele conta que seus pais se recusaram a aceitá-lo, amarraram suas mãos e pés, bateram muito nele e o prenderam em um canto da casa. Seu pai ameaçou matá-lo. \"A violência foi além de qualquer coisa que eu havia imaginado\", diz ele. \"Pensei que qualquer que fosse a minha verdade, eu seria aceito, afinal de contas, era minha família. Mas meus pais estavam prontos para me matar em nome da sua honra.\" Para uma mulher na Índia rural, querer reivindicar o direito de se identificar como um homem trans pode levar a uma forte retaliação. Fim do Matérias recomendadas Manoj conta que foi retirado da escola do vilarejo, em um dos estados mais pobres da Índia — Bihar, no norte do país —, e obrigado a se casar com um homem com o dobro da sua idade. \"Pensei até em tirar minha própria vida, mas minha namorada me apoiou em meio a isso tudo. Se estou vivo, e estamos juntos agora, é porque ela não desistiu de mim\", afirma. Podcast traz áudios com reportagens selecionadas. Episódios Fim do Podcast Agora com 22 anos, escondido em uma cidade grande desde o ano passado, Manoj e sua namorada, Rashmi, aguardam ansiosamente o veredicto da Suprema Corte em relação à petição em que pedem o direito legal de se casar. A Índia descriminalizou o sexo gay em 2018, mas os casamentos entre pessoas do mesmo sexo ainda não são reconhecidos. A Suprema Corte recebeu 21 petições neste ano solicitando a legalização — e uma decisão é esperada em breve. Enquanto outros defendem o direito ao casamento como uma questão de igualdade, a petição de Manoj e Rashmi, apresentada em conjunto com dois casais e quatro ativistas feministas LGBTQ+, argumenta que o casamento é uma saída para a violência física e mental brutal infligida a eles por suas próprias famílias. \"O reconhecimento legal do nosso relacionamento é a única saída desta vida de medo\", diz Manoj. A Índia tem meio milhão de pessoas transgênero, de acordo com o último censo em 2011, um número que os ativistas acreditam ser significativamente subestimado. Em 2014, a Suprema Corte decidiu que as pessoas trans deveriam ser reconhecidas como o terceiro gênero. Cinco anos depois, a Índia aprovou uma lei que proíbe a discriminação na educação, no mercado de trabalho e nos serviços de saúde — e criminaliza as ofensas contra elas, incluindo abuso físico, sexual, emocional e econômico. Mas a violência por parte das famílias é um desafio complexo. A maior parte das leis e da sociedade vê a família de sangue, por casamento ou adoção como o espaço mais seguro para os indivíduos, diz Veena Gowda, advogada feminista de Mumbai. \"A violência familiar não é desconhecida para nenhum de nós, seja contra a esposa, filhos ou pessoas trans queer. Mas é conscientemente invisível, pois vê-la e reconhecê-la significaria questionar a própria instituição da 'família'\", acrescenta. Gowda fez parte de um painel composto por um juiz aposentado, advogados, acadêmicos, ativistas e uma assistente social do governo que ouviu depoimentos detalhados da violência familiar enfrentada por 31 pessoas da comunidade LGBTQ+ em uma audiência pública a portas fechadas. As descobertas foram publicadas em abril deste ano em um relatório intitulado 'Apno ka bahut lagta hai' (\"Os nossos são os que mais nos machucam\", em tradução livre), que recomendava que as pessoas LGBTQ+ tivessem o direito de escolher sua própria família. \"Vendo a natureza da violência enfrentada pelos depoentes, se eles não tiverem o direito de escolher sua própria família, livre de violência, isso equivaleria a negar a eles o próprio direito à vida e à vida com dignidade\", avalia Gowda. \"O direito de casar seria uma forma de criar esta nova família e redefini-la.\" Alguns meses após seu casamento forçado, Manoj tentou se reaproximar de Rashmi, mas foi flagrado por seu \"cônjuge\", que ele diz ter ameaçado agredir sexualmente os dois. Eles fugiram para a estação ferroviária mais próxima e embarcaram no primeiro trem que estava saindo, mas ele diz que foram encontrados pela família e levados para casa para uma nova rodada de espancamentos. \"Ele estava sendo forçado a assinar uma 'carta de suicídio' que me culpava por sua morte\", relembra Rashmi. A resistência de Manoj fez com que ele fosse trancafiado novamente, e seu telefone celular fosse confiscado. Só depois que Rashmi entrou em contato com um grupo feminista LGBT e a delegacia da mulher local, que eles conseguiram proteção, e Manoj escapou da casa da família. Eles foram para um abrigo do governo para pessoas trans, mas logo tiveram que se mudar porque Rashmi não é trans. Manoj também conseguiu o divórcio. Mas são poucos os sistemas de apoio que ajudam a escapar de famílias violentas e a construir uma vida nova. Koyel Ghosh, que adota o pronome de gênero neutro da língua inglesa \"they\", é responsável pela administração da Sappho for Equality, o primeiro coletivo lésbico-bissexual-transmasculino de direitos humanos no leste da Índia, criado há duas décadas.  Ghosh se lembra claramente do dia, em 2020, em que recebeu um telefonema na central de atendimento sobre um casal que havia fugido para uma cidade no leste da Índia, mas teve que dormir na calçada por sete noites. \"Alugamos um espaço e colocamos eles lá para que tivessem um abrigo temporário por três meses e pudessem se concentrar em conseguir um emprego, pois é a única maneira de construir uma vida nova\", relembra. Além do estigma social, da ameaça de violência em casa, da educação interrompida e dos casamentos forçados, muitas pessoas trans também têm dificuldade de encontrar um emprego estável. O último censo da Índia mostrou que a taxa de alfabetização delas, 49,76%, era muito menor do que a do país, 74,04%. De acordo com uma pesquisa feita, em 2017, com 900 pessoas trans pela Comissão Nacional de Direitos Humanos em Déli e Uttar Pradesh,  96% tiveram empregos negados ou foram forçados a pedir esmola e se prostituir. A Saphho montou um abrigo para ajudar casais em fuga a reconstruir suas vidas — 35 casais ficaram alojados lá nos últimos dois anos. É um trabalho duro. Ghosh recebe de três a cinco telefonemas pedindo socorro diariamente e contata regularmente uma rede de apoio de advogados para encontrar soluções. \"Recebi ameaças de morte, enfrentei multidões em vilarejos, hostilidade em delegacias de polícia, porque também revelo minha identidade queer, e eles simplesmente não conseguem lidar com isso\", afirma. Quando Asif, um homem trans, e sua namorada, Samina, procuraram Ghosh, eles estavam na delegacia de polícia local em um vilarejo no leste da Índia. Samina alega que os policiais a chamaram de eunuco — e disseram que ela deveria ter morrido em vez de tornar público seu relacionamento. Amigos de infância que viraram amantes, eles haviam fugido de suas famílias duas vezes antes, mas acabaram sendo levados de volta. Esta era sua última chance de escapar, e eles precisavam de ajuda. \"Só quando Ghosh chegou que o mau comportamento da polícia parou. Um superior repreendeu os subalternos por seu preconceito e ignorância em relação às leis como funcionários públicos”, diz Samina. Agora vivendo com segurança em uma cidade grande, o casal é um dos signatários da petição de Manoj e Rashmi na Suprema Corte. \"Estamos felizes agora. Mas precisamos deste pedaço de papel, uma certidão de casamento, para deter nossas famílias e comunidade com o medo de penalidades ou ação policial\", explica Asif. \"Se a Suprema Corte não nos ajudar, podemos ter que morrer. Nunca seremos aceitos como somos, continuaremos foragidos, sempre com medo de sermos separados\", acrescenta. Os nomes dos signatários da petição foram alterados para proteger suas identidades.",
         "2023-07-28",
         "https://www.bbc.com/portuguese/articles/c25gpylxw5eo",
         "sociedade"
        ]
       ],
       "shape": {
        "columns": 6,
        "rows": 2
       }
      },
      "text/html": [
       "<div>\n",
       "<style scoped>\n",
       "    .dataframe tbody tr th:only-of-type {\n",
       "        vertical-align: middle;\n",
       "    }\n",
       "\n",
       "    .dataframe tbody tr th {\n",
       "        vertical-align: top;\n",
       "    }\n",
       "\n",
       "    .dataframe thead th {\n",
       "        text-align: right;\n",
       "    }\n",
       "</style>\n",
       "<table border=\"1\" class=\"dataframe\">\n",
       "  <thead>\n",
       "    <tr style=\"text-align: right;\">\n",
       "      <th></th>\n",
       "      <th>categoria</th>\n",
       "      <th>titulo</th>\n",
       "      <th>texto</th>\n",
       "      <th>data</th>\n",
       "      <th>link</th>\n",
       "      <th>categoria_pred</th>\n",
       "    </tr>\n",
       "  </thead>\n",
       "  <tbody>\n",
       "    <tr>\n",
       "      <th>1313</th>\n",
       "      <td>america_latina</td>\n",
       "      <td>5 sinais de recuperação — com limites — da eco...</td>\n",
       "      <td>\"Venezuela foi consertada\" é uma frase que cir...</td>\n",
       "      <td>2022-06-21</td>\n",
       "      <td>https://www.bbc.com/portuguese/internacional-6...</td>\n",
       "      <td>america_latina</td>\n",
       "    </tr>\n",
       "    <tr>\n",
       "      <th>7867</th>\n",
       "      <td>sociedade</td>\n",
       "      <td>'Meus pais iam me matar para limpar a honra da...</td>\n",
       "      <td>Quando Manoj — que foi registrado como sendo d...</td>\n",
       "      <td>2023-07-28</td>\n",
       "      <td>https://www.bbc.com/portuguese/articles/c25gpy...</td>\n",
       "      <td>sociedade</td>\n",
       "    </tr>\n",
       "  </tbody>\n",
       "</table>\n",
       "</div>"
      ],
      "text/plain": [
       "           categoria                                             titulo  \\\n",
       "1313  america_latina  5 sinais de recuperação — com limites — da eco...   \n",
       "7867       sociedade  'Meus pais iam me matar para limpar a honra da...   \n",
       "\n",
       "                                                  texto        data  \\\n",
       "1313  \"Venezuela foi consertada\" é uma frase que cir...  2022-06-21   \n",
       "7867  Quando Manoj — que foi registrado como sendo d...  2023-07-28   \n",
       "\n",
       "                                                   link  categoria_pred  \n",
       "1313  https://www.bbc.com/portuguese/internacional-6...  america_latina  \n",
       "7867  https://www.bbc.com/portuguese/articles/c25gpy...       sociedade  "
      ]
     },
     "execution_count": 10,
     "metadata": {},
     "output_type": "execute_result"
    }
   ],
   "source": [
    "amostra.head(2)"
   ]
  },
  {
   "cell_type": "code",
   "execution_count": 11,
   "id": "617de458",
   "metadata": {},
   "outputs": [
    {
     "name": "stdout",
     "output_type": "stream",
     "text": [
      "                precision    recall  f1-score   support\n",
      "\n",
      "america_latina       1.00      1.00      1.00         4\n",
      "        brasil       1.00      1.00      1.00         1\n",
      "       ciencia       0.67      1.00      0.80         2\n",
      "       cultura       1.00      1.00      1.00         1\n",
      "      economia       1.00      1.00      1.00         2\n",
      " internacional       1.00      1.00      1.00         3\n",
      "         saude       1.00      1.00      1.00         1\n",
      "     sociedade       1.00      1.00      1.00         4\n",
      "    tecnologia       1.00      0.50      0.67         2\n",
      "\n",
      "      accuracy                           0.95        20\n",
      "     macro avg       0.96      0.94      0.94        20\n",
      "  weighted avg       0.97      0.95      0.95        20\n",
      "\n"
     ]
    }
   ],
   "source": [
    "from sklearn.metrics import classification_report\n",
    "\n",
    "print(classification_report(amostra.categoria, amostra.categoria_pred))\n"
   ]
  },
  {
   "cell_type": "markdown",
   "id": "c4fa7f5c",
   "metadata": {},
   "source": [
    "# Classificando um dataset mais complicado"
   ]
  },
  {
   "cell_type": "code",
   "execution_count": 15,
   "id": "f1d66a1c",
   "metadata": {},
   "outputs": [
    {
     "data": {
      "text/plain": [
       "'1'"
      ]
     },
     "execution_count": 15,
     "metadata": {},
     "output_type": "execute_result"
    }
   ],
   "source": [
    "def classificar_pl(model, texto):\n",
    "    prompt = f\"\"\"\n",
    "    Classifique se o PL é favorável ou contrário ao direito das mulheres. Responda apenas com 1 ou 0, sem explicações, de acordo com as definições:\n",
    "\n",
    "    1: significa que o PL é desfavorável ao direito das mulheres.\n",
    "    0: significa que o PL é favorável ao direito das mulheres.  \n",
    "\n",
    "    ---\n",
    "\n",
    "    Texto: {texto}\n",
    "\n",
    "    Classes: 1, 0\n",
    "    \"\"\"\n",
    "    \n",
    "    resposta = str(model.prompt(prompt))   \n",
    "    \n",
    "    return resposta\n",
    "\n",
    "classificar_pl(modelo,\"Acabar com a Lei Maria da Penha\")"
   ]
  },
  {
   "cell_type": "code",
   "execution_count": null,
   "id": "768c0fb1",
   "metadata": {},
   "outputs": [
    {
     "data": {
      "text/plain": [
       "'0'"
      ]
     },
     "execution_count": 11,
     "metadata": {},
     "output_type": "execute_result"
    }
   ],
   "source": [
    "classificar_pl(modelo,\"Apoiar vítimas de violência doméstica\")"
   ]
  },
  {
   "cell_type": "code",
   "execution_count": 12,
   "id": "daf14b4e",
   "metadata": {},
   "outputs": [],
   "source": [
    "ementas = load_dataset(\"azmina/ementas_anotadas_inteiroteor\")\n",
    "\n",
    "ementas_test = ementas['test'].to_pandas()"
   ]
  },
  {
   "cell_type": "code",
   "execution_count": 13,
   "id": "b657528d",
   "metadata": {},
   "outputs": [
    {
     "data": {
      "application/vnd.microsoft.datawrangler.viewer.v0+json": {
       "columns": [
        {
         "name": "index",
         "rawType": "int64",
         "type": "integer"
        },
        {
         "name": "id",
         "rawType": "object",
         "type": "string"
        },
        {
         "name": "text",
         "rawType": "object",
         "type": "string"
        },
        {
         "name": "label_tema",
         "rawType": "object",
         "type": "string"
        },
        {
         "name": "label_desfavoravel",
         "rawType": "int64",
         "type": "integer"
        },
        {
         "name": "proponente_mulher",
         "rawType": "object",
         "type": "string"
        },
        {
         "name": "partido",
         "rawType": "object",
         "type": "string"
        },
        {
         "name": "urlInteiroTeor",
         "rawType": "object",
         "type": "string"
        },
        {
         "name": "textoInteiroTeor",
         "rawType": "object",
         "type": "string"
        }
       ],
       "ref": "98d05304-b928-40ac-b1b1-0086a6702c5b",
       "rows": [
        [
         "0",
         "PL 4546/2023",
         "Proíbe o ensino de determinados conteúdos relacionados a questões de gênero nas escolas públicas e privadas.",
         "genero",
         "1",
         "M",
         "MDB",
         "https://www.camara.leg.br/proposicoesWeb/prop_mostrarintegra?codteor=2330116",
         "PROJETO DE LEI Nº      , DE 2023\n(DO SR. OLIVAL MARQUES)\nProíbe o ensino de determinados\nconteúdos relacionados a questões de\ngênero  nas  escolas  públicas  e\nprivadas.\nO CONGRESSO NACIONAL decreta:\nArt. 1º Fica proibido o ensino de conteúdos relativos à\n\"ideologia de gênero\" nas escolas públicas e privadas de todo o País.\nArt. 2º Para fins desta Lei, entende-se por \"ideologia de\ngênero\"  quaisquer  conteúdos  que  promovam  a  desconstrução  das\ndiferenças entre os sexos biológicos, ou que se refiram a teorias ou\nconceitos não reconhecidos pela ciência.\nArt. 3º As escolas públicas e privadas deverão abster-se de\nministrar  aulas,  promover  eventos  ou  distribuir  materiais  que\ncontenham conteúdos relacionados à \"ideologia de gênero\".\n*CD232143493500*\nAssinado eletronicamente pelo(a) Dep. Olival MarquesPara verificar a assinatura, acesse https://infoleg-autenticidade-assinatura.camara.leg.br/CD232143493500\nPL n.4546/2023Apresentação: 19/09/2023 17:13:21.793 - MESAArt. 4º O descumprimento do disposto nesta Lei sujeitará a\ninstituição de ensino às seguintes penalidades:\nI - Advertência escrita;\nII - Multa pecuniária no valor de 10 (dez) salários-mínimos\nvigente a época;\nIII - Suspensão das atividades escolares pelo período de\naté 6 (seis meses);\nIV  -  Cassação  da  autorização  de  funcionamento  da\ninstituição, após regular processo administrativo e garantia do direito à\nampla defesa.\nArt.  5º  Os  pais  ou  responsáveis  poderão  solicitar  a\nexclusão  de  seus  filhos  das  atividades  educacionais  que  abordem\nconteúdos  proibidos  por esta Lei, sem que isso  acarrete qualquer\nprejuízo ao aluno.\nArt.  6º  O  Poder  Executivo  regulamentará  esta  Lei,\nestabelecendo os procedimentos para sua aplicação e fiscalização.\nArt. 7º Esta Lei entra em vigor na data de sua publicação.\nJUSTIFICAÇÃO\nA presente proposta de lei tem como objetivo proteger a\nliberdade  de  ensino  e  os  valores  familiares  tradicionais,  buscando\nresguardar o direito dos pais de educarem seus filhos de acordo com\nsuas crenças e convicções.\nEntende-se  que  determinados  conteúdos  sobre  gênero\npodem  ser  considerados  controversos  por  alguns  grupos,  e  esta\nproposta visa garantir que as escolas não sejam veículos de divulgação\n*CD232143493500*\nAssinado eletronicamente pelo(a) Dep. Olival MarquesPara verificar a assinatura, acesse https://infoleg-autenticidade-assinatura.camara.leg.br/CD232143493500\nPL n.4546/2023Apresentação: 19/09/2023 17:13:21.793 - MESAde teorias ou conceitos não reconhecidos pela ciência ou que possam\nser  considerados  contrários  aos  valores  familiares  e  culturais  de\ndeterminados segmentos da sociedade.\nAdemais, a possibilidade de os pais solicitarem a exclusão\nde seus filhos das atividades educacionais que abordem conteúdos\nproibidos  oferece  uma  opção  para  aqueles  que  discordam  dos\nconteúdos considerados inadequados.\nPor fim, ressalta-se que o objetivo da presente proposta\nnão é restringir a liberdade de expressão ou o debate acadêmico, mas\nsim  proteger  a  educação  de  crianças  e  jovens  de  conteúdos\nconsiderados sensíveis e controversos.\nAssim sendo, ante todo o exposto, pede-se o apoio dos\nnobres pares para aprovação desta justa proposição.\nSala das Sessões, em     de     de 2023.\nDeputado OLIVAL MARQUES  \nMDB/PA\n*CD232143493500*\nAssinado eletronicamente pelo(a) Dep. Olival MarquesPara verificar a assinatura, acesse https://infoleg-autenticidade-assinatura.camara.leg.br/CD232143493500\nPL n.4546/2023Apresentação: 19/09/2023 17:13:21.793 - MESA"
        ],
        [
         "1",
         "PDL 92/2023",
         "Susta os efeitos da Portaria nº 665, de 23 demarço de 2023, que “Dispõe sobre a utilização de banheiros, dormitórios, vestiários e demais espaços segregados por gênero conforme a identidade de gênero individual.”",
         "genero",
         "1",
         "M",
         "REPUBLICANOS",
         "https://www.camara.leg.br/proposicoesWeb/prop_mostrarintegra?codteor=2253540",
         "CÂMARA DOS DEPUTADOS\nGabinete do Deputado Messias Donato\nPROJETO DE DECRETO LEGISLATIVO Nº          , DE 2023\n(Do Sr. MESSIAS DONATO)\nSusta os efeitos da Portaria nº 665,\nde  23  demarço  de  2023,  que\n“Dispõe  sobre  a  utilização  de\nbanheiros,  dormitórios,  vestiários  e\ndemais  espaços  segregados  por\ngênero  conforme  a  identidade  de\ngênero individual.”\nA Câmara dos Deputados resolve:\nArt. 1º - Este Decreto susta os efeitos da Portaria nº 665, de 23\nde março de 2023, que “Dispõe sobre a utilização de banheiros, dormitórios,\nvestiários e demais espaços segregados por gênero conforme a identidade de\ngênero individual”. \nArt. 2º - Este Decreto Legislativo entra em vigor na data de sua\npublicação.\nJUSTIFICAÇÃO\nA presente proposição visa sustar os efeitos da Portaria nº 665,\nde  23  de  março  de  2023,  do  Instituto  Federal  de  Educação,  Ciência  e\nTecnologia do Espírito Santo, pelas razões adiante expostas. \nA portaria fala sobre a utilização de banheiros, dormitórios e\noutros espaços segregados por gênero. O documento estabelece que deve ser\n*CD235047538500*\nAssinado eletronicamente pelo(a) Dep. Messias Donato\nPara verificar a assinatura, acesse https://infoleg-autenticidade-assinatura.camara.leg.br/CD235047538500\nPDL n.92/2023Apresentação: 30/03/2023 16:31:13.220 - MESACÂMARA DOS DEPUTADOS\nGabinete do Deputado Messias Donato\ngarantido o uso desses locais de acordo com a identidade de gênero auto\ndeclarada de cada pessoa.\nNo seu parágrafo 1º o texto traz ainda a vedação de indicação\nde espaços exclusivos para uso de pessoas travestis e/ou transexuais. \nE determina ainda aplicação de sansões administrativas aos\nestudantes  e  servidores  que  praticarem  atos  e  restrições  de  cunho\ndiscriminatório.\n A Constituição Federal de 1988, trata a equidade entre os\nsexos, masculino e feminino, não trazendo nenhuma definição de gênero. Toda\na discussão acerca do assunto é feita de forma ideológica, sem nenhuma\nlegislação  formalizada  para  se  embasar.  E  em  seu  art.  5°,  II  afirma  que\n“ninguém será obrigado a fazer ou deixar de fazer alguma coisa senão em\nvirtude de lei”. \nDevemos  lembrar  ainda  que,  na  referida  instituição,  há\nestudantes menores de 18 anos e, de acordo com o Código Civil em seu artigo\n3º,  os  menores  de  16  anos  são  absolutamente  incapazes  de  exercer\npessoalmente os atos da vida civil. \nAo obrigar que mulheres devam dividir espaços privados com\npessoas biologicamente masculinas, a entidade está usurpando poderes do\nlegislativo, que não se pronunciou acerca do tema. Além de não ouvido aos\npais que devem decidir em comum as questões relativas aos filhos menores de\n18 anos conforme determinado pelo Código Civil.\nSendo assim, a fim de que o objeto deste Projeto de Decreto\nLegislativo seja dirimido, solicitamos aos nobres pares para que seja sustada a\nPortaria nº 665, de 23 de março de 2023, do Instituto Federal de Educação,\nCiência e Tecnologia do Espirito Santo. \nSala das Sessões, em        de                     de 2023.\n*CD235047538500*\nAssinado eletronicamente pelo(a) Dep. Messias Donato\nPara verificar a assinatura, acesse https://infoleg-autenticidade-assinatura.camara.leg.br/CD235047538500\nPDL n.92/2023Apresentação: 30/03/2023 16:31:13.220 - MESACÂMARA DOS DEPUTADOS\nGabinete do Deputado Messias Donato\nDeputado MESSIAS DONATO\n*CD235047538500*\nAssinado eletronicamente pelo(a) Dep. Messias Donato\nPara verificar a assinatura, acesse https://infoleg-autenticidade-assinatura.camara.leg.br/CD235047538500\nPDL n.92/2023Apresentação: 30/03/2023 16:31:13.220 - MESA"
        ]
       ],
       "shape": {
        "columns": 8,
        "rows": 2
       }
      },
      "text/html": [
       "<div>\n",
       "<style scoped>\n",
       "    .dataframe tbody tr th:only-of-type {\n",
       "        vertical-align: middle;\n",
       "    }\n",
       "\n",
       "    .dataframe tbody tr th {\n",
       "        vertical-align: top;\n",
       "    }\n",
       "\n",
       "    .dataframe thead th {\n",
       "        text-align: right;\n",
       "    }\n",
       "</style>\n",
       "<table border=\"1\" class=\"dataframe\">\n",
       "  <thead>\n",
       "    <tr style=\"text-align: right;\">\n",
       "      <th></th>\n",
       "      <th>id</th>\n",
       "      <th>text</th>\n",
       "      <th>label_tema</th>\n",
       "      <th>label_desfavoravel</th>\n",
       "      <th>proponente_mulher</th>\n",
       "      <th>partido</th>\n",
       "      <th>urlInteiroTeor</th>\n",
       "      <th>textoInteiroTeor</th>\n",
       "    </tr>\n",
       "  </thead>\n",
       "  <tbody>\n",
       "    <tr>\n",
       "      <th>0</th>\n",
       "      <td>PL 4546/2023</td>\n",
       "      <td>Proíbe o ensino de determinados conteúdos rela...</td>\n",
       "      <td>genero</td>\n",
       "      <td>1</td>\n",
       "      <td>M</td>\n",
       "      <td>MDB</td>\n",
       "      <td>https://www.camara.leg.br/proposicoesWeb/prop_...</td>\n",
       "      <td>PROJETO DE LEI Nº      , DE 2023\\n(DO SR. OLIV...</td>\n",
       "    </tr>\n",
       "    <tr>\n",
       "      <th>1</th>\n",
       "      <td>PDL 92/2023</td>\n",
       "      <td>Susta os efeitos da Portaria nº 665, de 23 dem...</td>\n",
       "      <td>genero</td>\n",
       "      <td>1</td>\n",
       "      <td>M</td>\n",
       "      <td>REPUBLICANOS</td>\n",
       "      <td>https://www.camara.leg.br/proposicoesWeb/prop_...</td>\n",
       "      <td>CÂMARA DOS DEPUTADOS\\nGabinete do Deputado Mes...</td>\n",
       "    </tr>\n",
       "  </tbody>\n",
       "</table>\n",
       "</div>"
      ],
      "text/plain": [
       "             id                                               text label_tema  \\\n",
       "0  PL 4546/2023  Proíbe o ensino de determinados conteúdos rela...     genero   \n",
       "1   PDL 92/2023  Susta os efeitos da Portaria nº 665, de 23 dem...     genero   \n",
       "\n",
       "   label_desfavoravel proponente_mulher       partido  \\\n",
       "0                   1                 M           MDB   \n",
       "1                   1                 M  REPUBLICANOS   \n",
       "\n",
       "                                      urlInteiroTeor  \\\n",
       "0  https://www.camara.leg.br/proposicoesWeb/prop_...   \n",
       "1  https://www.camara.leg.br/proposicoesWeb/prop_...   \n",
       "\n",
       "                                    textoInteiroTeor  \n",
       "0  PROJETO DE LEI Nº      , DE 2023\\n(DO SR. OLIV...  \n",
       "1  CÂMARA DOS DEPUTADOS\\nGabinete do Deputado Mes...  "
      ]
     },
     "execution_count": 13,
     "metadata": {},
     "output_type": "execute_result"
    }
   ],
   "source": [
    "ementas_test.head(2)"
   ]
  },
  {
   "cell_type": "code",
   "execution_count": 16,
   "id": "9fa96d9c",
   "metadata": {},
   "outputs": [
    {
     "name": "stderr",
     "output_type": "stream",
     "text": [
      "100%|██████████| 20/20 [00:11<00:00,  1.76it/s]\n"
     ]
    }
   ],
   "source": [
    "amostra_ementas = ementas_test.sample(20,random_state=222)\n",
    "\n",
    "amostra_ementas['label_pred'] = amostra_ementas['text'].progress_apply(lambda x: classificar_pl(modelo,x))"
   ]
  },
  {
   "cell_type": "code",
   "execution_count": 17,
   "id": "edee25e3",
   "metadata": {},
   "outputs": [
    {
     "name": "stdout",
     "output_type": "stream",
     "text": [
      "              precision    recall  f1-score   support\n",
      "\n",
      "           0       0.82      1.00      0.90        14\n",
      "           1       1.00      0.50      0.67         6\n",
      "\n",
      "    accuracy                           0.85        20\n",
      "   macro avg       0.91      0.75      0.78        20\n",
      "weighted avg       0.88      0.85      0.83        20\n",
      "\n"
     ]
    }
   ],
   "source": [
    "print(classification_report(amostra_ementas['label_desfavoravel'].astype(str), amostra_ementas['label_pred'].astype(str)))"
   ]
  }
 ],
 "metadata": {
  "kernelspec": {
   "display_name": "abraji-py3.11",
   "language": "python",
   "name": "python3"
  },
  "language_info": {
   "codemirror_mode": {
    "name": "ipython",
    "version": 3
   },
   "file_extension": ".py",
   "mimetype": "text/x-python",
   "name": "python",
   "nbconvert_exporter": "python",
   "pygments_lexer": "ipython3",
   "version": "3.11.12"
  }
 },
 "nbformat": 4,
 "nbformat_minor": 5
}
