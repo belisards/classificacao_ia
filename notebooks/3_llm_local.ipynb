{
 "cells": [
  {
   "cell_type": "markdown",
   "id": "0feab4bc",
   "metadata": {},
   "source": [
    "# Importa pacotes"
   ]
  },
  {
   "cell_type": "code",
   "execution_count": 1,
   "id": "e927f8b9",
   "metadata": {},
   "outputs": [],
   "source": [
    "import llm\n",
    "from sklearn.metrics import classification_report\n",
    "from tqdm import tqdm\n",
    "tqdm.pandas()"
   ]
  },
  {
   "cell_type": "markdown",
   "id": "4ba5421e",
   "metadata": {},
   "source": [
    "# Exemplo básico"
   ]
  },
  {
   "cell_type": "code",
   "execution_count": 2,
   "id": "94f90a53",
   "metadata": {},
   "outputs": [],
   "source": [
    "llama = llm.get_model(\"llama3\")"
   ]
  },
  {
   "cell_type": "code",
   "execution_count": null,
   "id": "b644a11a",
   "metadata": {},
   "outputs": [
    {
     "name": "stdout",
     "output_type": "stream",
     "text": [
      "Esportes\n",
      "CPU times: user 69.1 ms, sys: 1.95 ms, total: 71.1 ms\n",
      "Wall time: 13.4 s\n"
     ]
    }
   ],
   "source": [
    "%%time\n",
    "\n",
    "resposta = llama.prompt(\n",
    "    \"\"\"\n",
    "    Classifique o texto abaixo. Responda apenas com a classe, sem explicações.\n",
    "\n",
    "    Texto: O Botafogo ganhou do PSG na Copa do Mundo.\n",
    "\n",
    "    Classes: Política, Esportes, Economia, Outros.\n",
    "    \"\"\"\n",
    ")\n",
    "\n",
    "print(resposta)"
   ]
  },
  {
   "cell_type": "markdown",
   "id": "1c08307e",
   "metadata": {},
   "source": [
    "# Exemplo com dataset real"
   ]
  },
  {
   "cell_type": "code",
   "execution_count": 4,
   "id": "ee0f51e1",
   "metadata": {},
   "outputs": [
    {
     "name": "stderr",
     "output_type": "stream",
     "text": [
      "/home/abitporu/Documents/abraji/.venv/lib/python3.10/site-packages/tqdm/auto.py:21: TqdmWarning: IProgress not found. Please update jupyter and ipywidgets. See https://ipywidgets.readthedocs.io/en/stable/user_install.html\n",
      "  from .autonotebook import tqdm as notebook_tqdm\n"
     ]
    }
   ],
   "source": [
    "from datasets import load_dataset\n",
    "\n",
    "ementas = load_dataset(\"azmina/ementas_anotadas_inteiroteor\")\n",
    "\n",
    "ementas_test = ementas['test'].to_pandas().sample(10,random_state=222)\n"
   ]
  },
  {
   "cell_type": "code",
   "execution_count": 5,
   "id": "54506e42",
   "metadata": {},
   "outputs": [
    {
     "name": "stderr",
     "output_type": "stream",
     "text": [
      "100%|██████████| 10/10 [00:52<00:00,  5.22s/it]\n"
     ]
    }
   ],
   "source": [
    "def classificar_pl(model, texto):\n",
    "    prompt = f\"\"\"\n",
    "    Classifique se o PL é favorável ou contrário ao direito das mulheres. Responda apenas com 1 ou 0, sem explicações, de acordo com as definições:\n",
    "\n",
    "    1: significa que o PL é desfavorável ao direito das mulheres.\n",
    "    0: significa que o PL é favorável ao direito das mulheres.  \n",
    "\n",
    "    ---\n",
    "\n",
    "    Texto: {texto}\n",
    "\n",
    "    Classes: 1, 0\n",
    "    \"\"\"\n",
    "    \n",
    "    return str(model.prompt(prompt))   \n",
    "\n",
    "ementas_test['label_pred'] = ementas_test['text'].progress_apply(lambda x: classificar_pl(llama,x))"
   ]
  },
  {
   "cell_type": "code",
   "execution_count": 6,
   "id": "11c8a2ce",
   "metadata": {},
   "outputs": [
    {
     "data": {
      "application/vnd.microsoft.datawrangler.viewer.v0+json": {
       "columns": [
        {
         "name": "index",
         "rawType": "int64",
         "type": "integer"
        },
        {
         "name": "id",
         "rawType": "object",
         "type": "string"
        },
        {
         "name": "text",
         "rawType": "object",
         "type": "string"
        },
        {
         "name": "label_tema",
         "rawType": "object",
         "type": "string"
        },
        {
         "name": "label_desfavoravel",
         "rawType": "int64",
         "type": "integer"
        },
        {
         "name": "proponente_mulher",
         "rawType": "object",
         "type": "string"
        },
        {
         "name": "partido",
         "rawType": "object",
         "type": "string"
        },
        {
         "name": "urlInteiroTeor",
         "rawType": "object",
         "type": "string"
        },
        {
         "name": "textoInteiroTeor",
         "rawType": "object",
         "type": "string"
        },
        {
         "name": "label_pred",
         "rawType": "object",
         "type": "string"
        }
       ],
       "ref": "cab4eb68-940d-4649-bc3a-d8680d1155bc",
       "rows": [
        [
         "41",
         "PL 77/2021",
         "Altera a Lei nº 11.340, de 7 de agosto de 2006 – Lei Maria da Penha –, para garantir o direito à cirurgia plástica reparadora, no âmbito do Sistema Único de Saúde, à mulher vítima de violência doméstica da qual tenham resultado sequelas físicas.",
         "direitos sociais",
         "0",
         "M",
         "PSL",
         "https://www.camara.leg.br/proposicoesWeb/prop_mostrarintegra?codteor=1959729",
         "CÂMARA DOS DEPUTADOS\nGabinete do Deputado Alexandre Frota – PSDB/SP\nPROJETO DE LEI Nº 2021\n(Do Sr. Alexandre Frota)\nAltera a Lei nº 11.340, de 7 de agosto de 2006 –\nLei Maria da Penha –, para garantir o direito à\ncirurgia  plástica  reparadora,  no  âmbito  do\nSistema  Único de Saúde, à  mulher vítima de\nviolência  doméstica  da  qual  tenham  resultado\nsequelas físicas.\nO CONGRESSO NACIONAL  decreta:\nArt. 1º O § 3º do art. 9º da Lei nº 11.340, de 7 de agosto de 2006, passa a\nvigorar com a seguinte alteração:\n“Art. 9º.................................................................\n.............................................................................\n§  3º  A  assistência  à  saúde  da  mulher  em  situação  de  violência\ndoméstica  e  familiar  compreenderá  o  acesso  aos  benefícios\ndecorrentes do desenvolvimento científico e tecnológico,  incluindo:\nI– serviço de contracepção de emergência, profilaxia das doenças\nsexualmente transmissíveis (DST) e da síndrome da imunodeficiência\nadquirida  (AIDS)  e  outros  procedimentos  médicos  necessários  e\ncabíveis nos casos de violência  sexual;\nII– cirurgia plástica reparadora, com prioridade de atendimento no\nâmbito  da  rede  de  serviços  do  Sistema  Único  de  Saúde,  quando\nhouver sequelas de lesões provocadas por atos de violência.” (NR)\nCâmara dos Deputados - Anexo IV – 2º andar – Gabinete 216| 70160-900 Brasília -DFTel (61) 3215-5216 – Fax (61) 3215-2216 - dep.alexandrefrota@camara.leg.br\n*CD215078682400*Documento eletrônico assinado por Alexandre Frota (PSDB/SP), através do ponto SDR_56340,\nna forma do art. 102, § 1º, do RICD c/c o art. 2º, do Ato\nda Mesa n. 80 de 2016. PL n.77/2021Apresentação: 03/02/2021 16:36 - MesaCÂMARA DOS DEPUTADOS\nGabinete do Deputado Alexandre Frota – PSDB/SP\nArt. 2º Esta Lei entra em vigor na data de sua publicação.\nJUSTIFICAÇÃO\nA violência contra a mulher é uma ocorrência grave que pode acarretar\nsérias repercussões para a sua saúde, inclusive danos físicos incapacitantes, tanto de\nordem funcional quanto estética. Muitas mulheres que vivenciam situações de agressão\ntêm de lidar com sequelas físicas e emocionais, para as quais necessitam de assistência\nà saúde. Cabe ao sistema público de saúde prover os serviços indispensáveis para a sua\nrecuperação e reabilitação.\nEspecialmente as mulheres que sofreram mutilações ou deformações\nrequerem atendimento médico que busque reparar − dentro dos limites possíveis − os\ndanos sofridos e possa, minimamente, proporcionar-lhes o resgate da autoestima, que\nestá estreitamente ligada à sua imagem corporal. Garantir o acesso dessas mulheres à\ncirurgia plástica reparadora é essencial, já que esse procedimento é indispensável para\neliminar, ou ao menos minimizar, os danos estéticos sofridos e devolver a dignidade da\nmulher, viabilizando o seu retorno ao trabalho e à vida  social.\nO atendimento integral à saúde é uma das diretrizes do  Sistema Único\nde Saúde (SUS), constituindo-se como garantia constitucional, expressa no inciso II do\nart. 198 da Constituição Federal. Isso por si só deveria ser suficiente para garantir às\nmulheres  vítimas  de  violência  o  direito  de  receberem  atenção  integral  e\nmultiprofissional  no  âmbito  da  rede  pública  de  saúde,  com  acesso  a  todos  os\nprocedimentos  necessários  à  reparação  dos  danos  sofridos,  inclusive  os  danos\nestéticos, que são altamente incapacitantes e impeditivos de uma vida social com\nqualidade.\nNo entanto,  é preciso considerar  a dificuldade  de acesso à  cirurgia\nplástica  reparadora  no  âmbito  do  SUS,  já  que,  muitas  vezes,  atribui-se  ao\nprocedimento uma finalidade puramente estética. Com isso, a mulher, especialmente a\nque não dispõe de recursos financeiros suficientes para realizar o procedimento na\nCâmara dos Deputados - Anexo IV – 2º andar – Gabinete 216| 70160-900 Brasília -DFTel (61) 3215-5216 – Fax (61) 3215-2216 - dep.alexandrefrota@camara.leg.br\n*CD215078682400*Documento eletrônico assinado por Alexandre Frota (PSDB/SP), através do ponto SDR_56340,\nna forma do art. 102, § 1º, do RICD c/c o art. 2º, do Ato\nda Mesa n. 80 de 2016. PL n.77/2021Apresentação: 03/02/2021 16:36 - MesaCÂMARA DOS DEPUTADOS\nGabinete do Deputado Alexandre Frota – PSDB/SP\niniciativa privada, fica destituída do direito de receber a atenção integral, conforme\npreceitua a Constituição Federal.\nPara  que  não  pairem  dúvidas  sobre  a  natureza  e  a  importância  do\nprocedimento da cirurgia plástica reparadora para mulheres que apresentem sequelas\ndecorrentes das lesões provocadas por atos de violência e, principalmente, sobre a\nresponsabilidade do poder público em garantir o direito de acesso dessas mulheres ao\nprocedimento é que apresentamos o presente projeto de lei. Vários estados brasileiros\njá  adotaram  legislação  nesse  sentido,  a  exemplo  do  Rio  Grande  do  Sul  e  de\nPernambuco.\nDada a relevância da matéria, conto com o apoio dos meus Pares para a \nsua aprovação.\nSala das Sessões, em        de                     de 2021.\nAlexandre Frota\nDeputado Federal \nPSDB/SP\nCâmara dos Deputados - Anexo IV – 2º andar – Gabinete 216| 70160-900 Brasília -DFTel (61) 3215-5216 – Fax (61) 3215-2216 - dep.alexandrefrota@camara.leg.br\n*CD215078682400*Documento eletrônico assinado por Alexandre Frota (PSDB/SP), através do ponto SDR_56340,\nna forma do art. 102, § 1º, do RICD c/c o art. 2º, do Ato\nda Mesa n. 80 de 2016. PL n.77/2021Apresentação: 03/02/2021 16:36 - Mesa",
         "0"
        ],
        [
         "1",
         "PDL 92/2023",
         "Susta os efeitos da Portaria nº 665, de 23 demarço de 2023, que “Dispõe sobre a utilização de banheiros, dormitórios, vestiários e demais espaços segregados por gênero conforme a identidade de gênero individual.”",
         "genero",
         "1",
         "M",
         "REPUBLICANOS",
         "https://www.camara.leg.br/proposicoesWeb/prop_mostrarintegra?codteor=2253540",
         "CÂMARA DOS DEPUTADOS\nGabinete do Deputado Messias Donato\nPROJETO DE DECRETO LEGISLATIVO Nº          , DE 2023\n(Do Sr. MESSIAS DONATO)\nSusta os efeitos da Portaria nº 665,\nde  23  demarço  de  2023,  que\n“Dispõe  sobre  a  utilização  de\nbanheiros,  dormitórios,  vestiários  e\ndemais  espaços  segregados  por\ngênero  conforme  a  identidade  de\ngênero individual.”\nA Câmara dos Deputados resolve:\nArt. 1º - Este Decreto susta os efeitos da Portaria nº 665, de 23\nde março de 2023, que “Dispõe sobre a utilização de banheiros, dormitórios,\nvestiários e demais espaços segregados por gênero conforme a identidade de\ngênero individual”. \nArt. 2º - Este Decreto Legislativo entra em vigor na data de sua\npublicação.\nJUSTIFICAÇÃO\nA presente proposição visa sustar os efeitos da Portaria nº 665,\nde  23  de  março  de  2023,  do  Instituto  Federal  de  Educação,  Ciência  e\nTecnologia do Espírito Santo, pelas razões adiante expostas. \nA portaria fala sobre a utilização de banheiros, dormitórios e\noutros espaços segregados por gênero. O documento estabelece que deve ser\n*CD235047538500*\nAssinado eletronicamente pelo(a) Dep. Messias Donato\nPara verificar a assinatura, acesse https://infoleg-autenticidade-assinatura.camara.leg.br/CD235047538500\nPDL n.92/2023Apresentação: 30/03/2023 16:31:13.220 - MESACÂMARA DOS DEPUTADOS\nGabinete do Deputado Messias Donato\ngarantido o uso desses locais de acordo com a identidade de gênero auto\ndeclarada de cada pessoa.\nNo seu parágrafo 1º o texto traz ainda a vedação de indicação\nde espaços exclusivos para uso de pessoas travestis e/ou transexuais. \nE determina ainda aplicação de sansões administrativas aos\nestudantes  e  servidores  que  praticarem  atos  e  restrições  de  cunho\ndiscriminatório.\n A Constituição Federal de 1988, trata a equidade entre os\nsexos, masculino e feminino, não trazendo nenhuma definição de gênero. Toda\na discussão acerca do assunto é feita de forma ideológica, sem nenhuma\nlegislação  formalizada  para  se  embasar.  E  em  seu  art.  5°,  II  afirma  que\n“ninguém será obrigado a fazer ou deixar de fazer alguma coisa senão em\nvirtude de lei”. \nDevemos  lembrar  ainda  que,  na  referida  instituição,  há\nestudantes menores de 18 anos e, de acordo com o Código Civil em seu artigo\n3º,  os  menores  de  16  anos  são  absolutamente  incapazes  de  exercer\npessoalmente os atos da vida civil. \nAo obrigar que mulheres devam dividir espaços privados com\npessoas biologicamente masculinas, a entidade está usurpando poderes do\nlegislativo, que não se pronunciou acerca do tema. Além de não ouvido aos\npais que devem decidir em comum as questões relativas aos filhos menores de\n18 anos conforme determinado pelo Código Civil.\nSendo assim, a fim de que o objeto deste Projeto de Decreto\nLegislativo seja dirimido, solicitamos aos nobres pares para que seja sustada a\nPortaria nº 665, de 23 de março de 2023, do Instituto Federal de Educação,\nCiência e Tecnologia do Espirito Santo. \nSala das Sessões, em        de                     de 2023.\n*CD235047538500*\nAssinado eletronicamente pelo(a) Dep. Messias Donato\nPara verificar a assinatura, acesse https://infoleg-autenticidade-assinatura.camara.leg.br/CD235047538500\nPDL n.92/2023Apresentação: 30/03/2023 16:31:13.220 - MESACÂMARA DOS DEPUTADOS\nGabinete do Deputado Messias Donato\nDeputado MESSIAS DONATO\n*CD235047538500*\nAssinado eletronicamente pelo(a) Dep. Messias Donato\nPara verificar a assinatura, acesse https://infoleg-autenticidade-assinatura.camara.leg.br/CD235047538500\nPDL n.92/2023Apresentação: 30/03/2023 16:31:13.220 - MESA",
         "1"
        ]
       ],
       "shape": {
        "columns": 9,
        "rows": 2
       }
      },
      "text/html": [
       "<div>\n",
       "<style scoped>\n",
       "    .dataframe tbody tr th:only-of-type {\n",
       "        vertical-align: middle;\n",
       "    }\n",
       "\n",
       "    .dataframe tbody tr th {\n",
       "        vertical-align: top;\n",
       "    }\n",
       "\n",
       "    .dataframe thead th {\n",
       "        text-align: right;\n",
       "    }\n",
       "</style>\n",
       "<table border=\"1\" class=\"dataframe\">\n",
       "  <thead>\n",
       "    <tr style=\"text-align: right;\">\n",
       "      <th></th>\n",
       "      <th>id</th>\n",
       "      <th>text</th>\n",
       "      <th>label_tema</th>\n",
       "      <th>label_desfavoravel</th>\n",
       "      <th>proponente_mulher</th>\n",
       "      <th>partido</th>\n",
       "      <th>urlInteiroTeor</th>\n",
       "      <th>textoInteiroTeor</th>\n",
       "      <th>label_pred</th>\n",
       "    </tr>\n",
       "  </thead>\n",
       "  <tbody>\n",
       "    <tr>\n",
       "      <th>41</th>\n",
       "      <td>PL 77/2021</td>\n",
       "      <td>Altera a Lei nº 11.340, de 7 de agosto de 2006...</td>\n",
       "      <td>direitos sociais</td>\n",
       "      <td>0</td>\n",
       "      <td>M</td>\n",
       "      <td>PSL</td>\n",
       "      <td>https://www.camara.leg.br/proposicoesWeb/prop_...</td>\n",
       "      <td>CÂMARA DOS DEPUTADOS\\nGabinete do Deputado Ale...</td>\n",
       "      <td>0</td>\n",
       "    </tr>\n",
       "    <tr>\n",
       "      <th>1</th>\n",
       "      <td>PDL 92/2023</td>\n",
       "      <td>Susta os efeitos da Portaria nº 665, de 23 dem...</td>\n",
       "      <td>genero</td>\n",
       "      <td>1</td>\n",
       "      <td>M</td>\n",
       "      <td>REPUBLICANOS</td>\n",
       "      <td>https://www.camara.leg.br/proposicoesWeb/prop_...</td>\n",
       "      <td>CÂMARA DOS DEPUTADOS\\nGabinete do Deputado Mes...</td>\n",
       "      <td>1</td>\n",
       "    </tr>\n",
       "  </tbody>\n",
       "</table>\n",
       "</div>"
      ],
      "text/plain": [
       "             id                                               text  \\\n",
       "41   PL 77/2021  Altera a Lei nº 11.340, de 7 de agosto de 2006...   \n",
       "1   PDL 92/2023  Susta os efeitos da Portaria nº 665, de 23 dem...   \n",
       "\n",
       "          label_tema  label_desfavoravel proponente_mulher       partido  \\\n",
       "41  direitos sociais                   0                 M           PSL   \n",
       "1             genero                   1                 M  REPUBLICANOS   \n",
       "\n",
       "                                       urlInteiroTeor  \\\n",
       "41  https://www.camara.leg.br/proposicoesWeb/prop_...   \n",
       "1   https://www.camara.leg.br/proposicoesWeb/prop_...   \n",
       "\n",
       "                                     textoInteiroTeor label_pred  \n",
       "41  CÂMARA DOS DEPUTADOS\\nGabinete do Deputado Ale...          0  \n",
       "1   CÂMARA DOS DEPUTADOS\\nGabinete do Deputado Mes...          1  "
      ]
     },
     "execution_count": 6,
     "metadata": {},
     "output_type": "execute_result"
    }
   ],
   "source": [
    "ementas_test.head(2)"
   ]
  },
  {
   "cell_type": "code",
   "execution_count": 7,
   "id": "23fa22bc",
   "metadata": {},
   "outputs": [
    {
     "name": "stdout",
     "output_type": "stream",
     "text": [
      "              precision    recall  f1-score   support\n",
      "\n",
      "           0       0.88      0.88      0.88         8\n",
      "           1       0.50      0.50      0.50         2\n",
      "\n",
      "    accuracy                           0.80        10\n",
      "   macro avg       0.69      0.69      0.69        10\n",
      "weighted avg       0.80      0.80      0.80        10\n",
      "\n"
     ]
    }
   ],
   "source": [
    "from sklearn.metrics import classification_report\n",
    "print(classification_report(ementas_test['label_desfavoravel'].astype(int), ementas_test['label_pred'].astype(int)))"
   ]
  },
  {
   "cell_type": "markdown",
   "id": "6b03433e",
   "metadata": {},
   "source": [
    "# Deepseek\n"
   ]
  },
  {
   "cell_type": "code",
   "execution_count": 8,
   "id": "1ea058f1",
   "metadata": {},
   "outputs": [
    {
     "data": {
      "text/plain": [
       "'<think>\\nHmm, preciso analisar se este projeto de lei (PL) é favorável ou contrário ao direito das mulheres. O texto diz: \"Define que a Lei Maria da Penha só é aplicável para mulheres de baixa renda\". A Lei Maria da Penha foi criada no Brasil para combater a violência doméstica contra mulheres, protegendo-as com medidas como multas e prisão em caso de agressões.\\n\\nSe um PL limitar essa lei a apenas mulheres de baixa renda, isso seria discriminatório. O direito das mulheres deve ser universal, cobrindo todas as classes sociais sem exceções baseadas na condição econômica. Isso parece violar o princípio da igualdade e da não discriminação.\\n\\nA resposta precisa ser apenas 1 ou 0: \"1\" significa contrário ao direito das mulheres, \"0\" significa favorável. Nesse caso, limitar a aplicação da lei por renda é claramente prejudicial, pois exclui mulheres de outras classes que também podem sofrer violência.\\n\\nPortanto, o PL não está alinhado com os valores do direito universal das mulheres e deve ser classificado como contrário.\\n</think>\\n1'"
      ]
     },
     "execution_count": 8,
     "metadata": {},
     "output_type": "execute_result"
    }
   ],
   "source": [
    "deepseek = llm.get_model(\"deepseek-r1\")\n",
    "resposta = classificar_pl(deepseek, \"Define que a Lei Maria da Penha só é aplicável para mulheres de baixa renda\")\n",
    "\n",
    "resposta"
   ]
  },
  {
   "cell_type": "code",
   "execution_count": 9,
   "id": "8be3a673",
   "metadata": {},
   "outputs": [
    {
     "data": {
      "text/plain": [
       "'1'"
      ]
     },
     "execution_count": 9,
     "metadata": {},
     "output_type": "execute_result"
    }
   ],
   "source": [
    "def extrair_categoria(texto):\n",
    "    separador = \"</think>\"\n",
    "    resposta  = texto.split(separador)[1].strip()\n",
    "    return resposta\n",
    "\n",
    "extrair_categoria(resposta)"
   ]
  },
  {
   "cell_type": "code",
   "execution_count": 10,
   "id": "d495629c",
   "metadata": {},
   "outputs": [
    {
     "data": {
      "text/plain": [
       "'<think>\\nHmm, preciso analisar se o texto classificado está relacionado com algo favorável ou desfavorável ao direito das mulheres. O usuário pediu apenas uma resposta binária (1 ou 0), sem explicações.\\n\\nO texto diz que a Lei Maria da Penha só seria aplicável para mulheres de baixa renda, caso isso acontecesse. Lembro que essa lei foi criada especificamente para combater violência doméstica contra mulheres, garantindo medidas como prisão temporária e responsabilização do agressor.\\n\\nSe uma proposta limitasse a Lei Maria da Penha apenas a mulheres de baixa renda, isso seria claramente prejudicial. Isoladamente, não teria direito igual para todos os cidadãos, afetando especialmente quem já sofre mais discriminação.\\n\\nO usuário parece estar testando meu entendimento sobre classificação binária de textos legais. Ele quer uma resposta rápida e objetiva sem rodeios. Talvez esteja automatizando análises com base em regras simples que eu codifiquei mentalmente anteriormente.\\n\\nVou precisar responder apenas 0 ou 1, sem qualquer explication. Como o texto descreve uma situação claramente prejudicial ao direito das mulheres, a resposta deve ser inequívoca.\\n</think>\\n0'"
      ]
     },
     "execution_count": 10,
     "metadata": {},
     "output_type": "execute_result"
    }
   ],
   "source": [
    "# %%time\n",
    "# def classificar_pl(model, texto):\n",
    "#     prompt = f\"\"\"\n",
    "#     Classifique se o PL é favorável ou contrário ao direito das mulheres. Responda apenas com 1 ou 0, sem explicações, de acordo com as definições:\n",
    "\n",
    "#     1: significa que o PL é desfavorável ao direito das mulheres.\n",
    "#     0: significa que o PL é favorável ao direito das mulheres.  \n",
    "\n",
    "#     ---\n",
    "\n",
    "#     Texto: {texto}\n",
    "\n",
    "#     Classes: 1, 0\n",
    "#     \"\"\"\n",
    "    \n",
    "#     resposta = str(model.prompt(prompt))\n",
    "    \n",
    "#     separador = \"</think>\"\n",
    "#     resposta  = resposta.split(separador)[1].strip()\n",
    "    \n",
    "#     return resposta\n",
    "\n",
    "classificar_pl(deepseek, \"Define que a Lei Maria da Penha só é aplicável para mulheres de baixa renda\")"
   ]
  },
  {
   "cell_type": "code",
   "execution_count": null,
   "id": "ffed8805",
   "metadata": {},
   "outputs": [],
   "source": [
    "classificar_pl(deepseek, \"Define que a Lei Maria da Penha só é aplicável para mulheres de baixa renda\")"
   ]
  },
  {
   "cell_type": "code",
   "execution_count": 11,
   "id": "99c81ff2",
   "metadata": {},
   "outputs": [
    {
     "name": "stderr",
     "output_type": "stream",
     "text": [
      "100%|██████████| 10/10 [14:29<00:00, 86.94s/it] \n"
     ]
    }
   ],
   "source": [
    "\n",
    "ementas_test['label_pred'] = ementas_test['text'].progress_apply(lambda x: classificar_pl(deepseek,x))"
   ]
  },
  {
   "cell_type": "code",
   "execution_count": 12,
   "id": "33528dea",
   "metadata": {},
   "outputs": [],
   "source": [
    "separador = \"</think>\"\n",
    "# separa a resposta\n",
    "ementas_test[\"label_pred\"] = ementas_test.label_pred.str.split(separador).str[1].str.strip()\n",
    "# se não for nem 0 nem 1, vamos definir como 0\n",
    "ementas_test[\"label_pred\"] = ementas_test[\"label_pred\"].apply(lambda x: 0 if x not in [0, 1] else x)"
   ]
  },
  {
   "cell_type": "code",
   "execution_count": 13,
   "id": "d6779942",
   "metadata": {},
   "outputs": [
    {
     "name": "stdout",
     "output_type": "stream",
     "text": [
      "              precision    recall  f1-score   support\n",
      "\n",
      "           0       0.80      1.00      0.89         8\n",
      "           1       0.00      0.00      0.00         2\n",
      "\n",
      "    accuracy                           0.80        10\n",
      "   macro avg       0.40      0.50      0.44        10\n",
      "weighted avg       0.64      0.80      0.71        10\n",
      "\n"
     ]
    },
    {
     "name": "stderr",
     "output_type": "stream",
     "text": [
      "/home/abitporu/Documents/abraji/.venv/lib/python3.10/site-packages/sklearn/metrics/_classification.py:1706: UndefinedMetricWarning: Precision is ill-defined and being set to 0.0 in labels with no predicted samples. Use `zero_division` parameter to control this behavior.\n",
      "  _warn_prf(average, modifier, f\"{metric.capitalize()} is\", result.shape[0])\n",
      "/home/abitporu/Documents/abraji/.venv/lib/python3.10/site-packages/sklearn/metrics/_classification.py:1706: UndefinedMetricWarning: Precision is ill-defined and being set to 0.0 in labels with no predicted samples. Use `zero_division` parameter to control this behavior.\n",
      "  _warn_prf(average, modifier, f\"{metric.capitalize()} is\", result.shape[0])\n",
      "/home/abitporu/Documents/abraji/.venv/lib/python3.10/site-packages/sklearn/metrics/_classification.py:1706: UndefinedMetricWarning: Precision is ill-defined and being set to 0.0 in labels with no predicted samples. Use `zero_division` parameter to control this behavior.\n",
      "  _warn_prf(average, modifier, f\"{metric.capitalize()} is\", result.shape[0])\n"
     ]
    }
   ],
   "source": [
    "\n",
    "print(classification_report(ementas_test['label_desfavoravel'].astype(int), ementas_test['label_pred'].astype(int)))\n",
    "\n"
   ]
  }
 ],
 "metadata": {
  "kernelspec": {
   "display_name": "abraji-py3.10",
   "language": "python",
   "name": "python3"
  },
  "language_info": {
   "codemirror_mode": {
    "name": "ipython",
    "version": 3
   },
   "file_extension": ".py",
   "mimetype": "text/x-python",
   "name": "python",
   "nbconvert_exporter": "python",
   "pygments_lexer": "ipython3",
   "version": "3.10.12"
  }
 },
 "nbformat": 4,
 "nbformat_minor": 5
}
